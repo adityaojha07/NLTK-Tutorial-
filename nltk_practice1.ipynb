{
 "cells": [
  {
   "cell_type": "markdown",
   "metadata": {},
   "source": [
    "# Basic introduction to NLTK#\n",
    "\n",
    "*AUTHOR : Aditya Ojha*"
   ]
  },
  {
   "cell_type": "markdown",
   "metadata": {},
   "source": [
    "**The prerequistes of this notebook is that you love Python :)**"
   ]
  },
  {
   "cell_type": "code",
   "execution_count": 20,
   "metadata": {},
   "outputs": [
    {
     "name": "stderr",
     "output_type": "stream",
     "text": [
      "[nltk_data] Downloading package movie_reviews to\n",
      "[nltk_data]     C:\\Users\\ABC\\AppData\\Roaming\\nltk_data...\n",
      "[nltk_data]   Unzipping corpora\\movie_reviews.zip.\n"
     ]
    },
    {
     "data": {
      "text/plain": [
       "True"
      ]
     },
     "execution_count": 20,
     "metadata": {},
     "output_type": "execute_result"
    }
   ],
   "source": [
    "nltk.download('movie_reviews')"
   ]
  },
  {
   "cell_type": "code",
   "execution_count": 1,
   "metadata": {},
   "outputs": [
    {
     "name": "stdout",
     "output_type": "stream",
     "text": [
      "Requirement already satisfied: nltk in c:\\users\\abc\\anaconda3\\lib\\site-packages (3.4)\n",
      "Requirement already satisfied: six in c:\\users\\abc\\anaconda3\\lib\\site-packages (from nltk) (1.12.0)\n",
      "Requirement already satisfied: singledispatch in c:\\users\\abc\\anaconda3\\lib\\site-packages (from nltk) (3.4.0.3)\n"
     ]
    }
   ],
   "source": [
    "!pip install nltk"
   ]
  },
  {
   "cell_type": "markdown",
   "metadata": {},
   "source": [
    "### TOKENIZING\n",
    "\n",
    "Tokenizing means to group in words or sentences\n",
    "\n",
    "*Importing necessary packages*"
   ]
  },
  {
   "cell_type": "code",
   "execution_count": 1,
   "metadata": {},
   "outputs": [],
   "source": [
    "import nltk\n",
    "from nltk import sent_tokenize, word_tokenize"
   ]
  },
  {
   "cell_type": "markdown",
   "metadata": {},
   "source": [
    "**Sample Data**"
   ]
  },
  {
   "cell_type": "code",
   "execution_count": 2,
   "metadata": {},
   "outputs": [],
   "source": [
    "para = \"This is sample text. We are testing nltk packages. Do not disappoint us.\""
   ]
  },
  {
   "cell_type": "markdown",
   "metadata": {},
   "source": [
    "**Sentence Tokenization**"
   ]
  },
  {
   "cell_type": "code",
   "execution_count": 3,
   "metadata": {},
   "outputs": [],
   "source": [
    "a = sent_tokenize(para)"
   ]
  },
  {
   "cell_type": "code",
   "execution_count": 4,
   "metadata": {},
   "outputs": [
    {
     "data": {
      "text/plain": [
       "['This is sample text.',\n",
       " 'We are testing nltk packages.',\n",
       " 'Do not disappoint us.']"
      ]
     },
     "execution_count": 4,
     "metadata": {},
     "output_type": "execute_result"
    }
   ],
   "source": [
    "a"
   ]
  },
  {
   "cell_type": "code",
   "execution_count": 5,
   "metadata": {},
   "outputs": [
    {
     "name": "stdout",
     "output_type": "stream",
     "text": [
      "This is sample text.\n",
      "We are testing nltk packages.\n",
      "Do not disappoint us.\n"
     ]
    }
   ],
   "source": [
    "for j in sent_tokenize(para):\n",
    "    print(j)"
   ]
  },
  {
   "cell_type": "markdown",
   "metadata": {},
   "source": [
    "**Words Tokenizatin**"
   ]
  },
  {
   "cell_type": "code",
   "execution_count": 6,
   "metadata": {},
   "outputs": [],
   "source": [
    "b = word_tokenize(para)"
   ]
  },
  {
   "cell_type": "code",
   "execution_count": 7,
   "metadata": {},
   "outputs": [
    {
     "data": {
      "text/plain": [
       "['This',\n",
       " 'is',\n",
       " 'sample',\n",
       " 'text',\n",
       " '.',\n",
       " 'We',\n",
       " 'are',\n",
       " 'testing',\n",
       " 'nltk',\n",
       " 'packages',\n",
       " '.',\n",
       " 'Do',\n",
       " 'not',\n",
       " 'disappoint',\n",
       " 'us',\n",
       " '.']"
      ]
     },
     "execution_count": 7,
     "metadata": {},
     "output_type": "execute_result"
    }
   ],
   "source": [
    "b\n"
   ]
  },
  {
   "cell_type": "code",
   "execution_count": 8,
   "metadata": {},
   "outputs": [
    {
     "name": "stdout",
     "output_type": "stream",
     "text": [
      "This\n",
      "is\n",
      "sample\n",
      "text\n",
      ".\n",
      "We\n",
      "are\n",
      "testing\n",
      "nltk\n",
      "packages\n",
      ".\n",
      "Do\n",
      "not\n",
      "disappoint\n",
      "us\n",
      ".\n"
     ]
    }
   ],
   "source": [
    "for i in word_tokenize(para):\n",
    "    print(i)"
   ]
  },
  {
   "cell_type": "markdown",
   "metadata": {},
   "source": [
    "### STOP_WORDS \n",
    "\n",
    "\n",
    "\n",
    "\n",
    "\n",
    "They are words that does not have an impact on sentence analysis. For example is, am, was, will, etc"
   ]
  },
  {
   "cell_type": "code",
   "execution_count": 9,
   "metadata": {},
   "outputs": [],
   "source": [
    "from nltk.corpus import stopwords\n"
   ]
  },
  {
   "cell_type": "code",
   "execution_count": 10,
   "metadata": {},
   "outputs": [],
   "source": [
    "example_sentence = \"This is an example of stop words filtaration. Hope it will run\""
   ]
  },
  {
   "cell_type": "code",
   "execution_count": 11,
   "metadata": {},
   "outputs": [],
   "source": [
    "stop_words = set(stopwords.words(\"english\"))"
   ]
  },
  {
   "cell_type": "code",
   "execution_count": 12,
   "metadata": {},
   "outputs": [
    {
     "name": "stdout",
     "output_type": "stream",
     "text": [
      "{'where', 'have', 'than', 'or', \"haven't\", 'some', 'because', \"mightn't\", 'your', 'its', \"weren't\", \"couldn't\", 'been', 'did', 'these', 'it', 'for', 'wouldn', 'being', 'my', 'wasn', 'mightn', \"shouldn't\", 'his', 'ma', 'same', 'has', 'do', 'will', 'couldn', 'when', 'won', 'each', 'doing', 'over', \"that'll\", 'all', 'below', 're', 'any', 'you', 'which', \"didn't\", \"wouldn't\", 'as', 'once', \"should've\", \"you'll\", 'before', 'why', 'at', 'after', \"won't\", 'a', 'then', 'above', 'most', 'hadn', 'y', 'now', 'shouldn', 'only', 'itself', 'ours', 'aren', 'her', 'those', 'in', 'just', 'up', 'this', 'themselves', \"doesn't\", 'an', 'there', 'she', 'own', 'whom', 'how', 'not', 'were', \"she's\", 'should', 'd', 'so', \"it's\", 'himself', 'me', 'are', 'if', 'who', 'mustn', 'with', 'few', 'haven', 'that', 'by', \"don't\", 'm', 'theirs', 'the', 'between', 's', 'nor', \"mustn't\", \"needn't\", 'weren', 'to', 'out', 'here', 'we', 'until', 've', \"shan't\", 'further', 'into', 'is', \"you're\", 'our', 'yourselves', 'while', \"isn't\", 'am', \"aren't\", 'and', 'during', 'needn', 'i', 'hers', 'them', 'their', 'having', 'o', 'was', 'yourself', 'of', 'didn', 'doesn', 'can', 'had', 'other', 'very', 'ain', \"you'd\", 'about', 'off', 'he', 'under', 'myself', 'but', \"hasn't\", 't', 'through', \"wasn't\", \"you've\", 'too', \"hadn't\", 'him', 'be', 'against', 'on', 'they', 'isn', 'what', 'both', 'down', 'll', 'yours', 'no', 'don', 'herself', 'hasn', 'does', 'more', 'from', 'shan', 'ourselves', 'again', 'such'}\n"
     ]
    }
   ],
   "source": [
    "print(stop_words)"
   ]
  },
  {
   "cell_type": "code",
   "execution_count": 13,
   "metadata": {},
   "outputs": [
    {
     "name": "stdout",
     "output_type": "stream",
     "text": [
      "['This', 'example', 'stop', 'words', 'filtaration', '.', 'Hope', 'run']\n"
     ]
    }
   ],
   "source": [
    "words = word_tokenize(example_sentence)\n",
    "\n",
    "filtered_sentence = []\n",
    "\n",
    "for w in words:\n",
    "    if w not in stop_words:\n",
    "        filtered_sentence.append(w)\n",
    "print(filtered_sentence)        "
   ]
  },
  {
   "cell_type": "markdown",
   "metadata": {},
   "source": [
    "### STEMMING\n",
    "\n",
    "In stemming we take root words. For example, root word of 'Riding' is 'Ride'."
   ]
  },
  {
   "cell_type": "markdown",
   "metadata": {},
   "source": [
    "**PorterStemming**"
   ]
  },
  {
   "cell_type": "code",
   "execution_count": 14,
   "metadata": {},
   "outputs": [],
   "source": [
    "from nltk.stem import PorterStemmer"
   ]
  },
  {
   "cell_type": "code",
   "execution_count": 15,
   "metadata": {},
   "outputs": [],
   "source": [
    "ps = PorterStemmer()"
   ]
  },
  {
   "cell_type": "code",
   "execution_count": 16,
   "metadata": {},
   "outputs": [
    {
     "name": "stdout",
     "output_type": "stream",
     "text": [
      "python\n",
      "python\n",
      "python\n",
      "python\n",
      "pythonli\n"
     ]
    }
   ],
   "source": [
    "example_words = [\"python\",\"pythoner\",\"pythoning\",\"pythoned\",\"pythonly\"]\n",
    "\n",
    "for w in example_words:\n",
    "   print(ps.stem(w))"
   ]
  },
  {
   "cell_type": "code",
   "execution_count": 17,
   "metadata": {},
   "outputs": [
    {
     "name": "stdout",
     "output_type": "stream",
     "text": [
      "you\n",
      "are\n",
      "not\n",
      "consid\n",
      "the\n",
      "consider\n",
      "perform\n",
      "considerably.it\n",
      "consequ\n",
      "will\n",
      "not\n",
      "be\n",
      "considerd\n"
     ]
    }
   ],
   "source": [
    "sample = \"You are not considering the considerable performance considerably.Its consequences will not be considerd\"\n",
    "words = sent_tokenize(sample)\n",
    "sample = sample.split(' ')\n",
    "\n",
    "for w in sample:\n",
    "    print(ps.stem(w))\n"
   ]
  },
  {
   "cell_type": "markdown",
   "metadata": {},
   "source": [
    "**SnowBall Stemming**"
   ]
  },
  {
   "cell_type": "code",
   "execution_count": 18,
   "metadata": {},
   "outputs": [],
   "source": [
    "from nltk.stem import SnowballStemmer\n",
    "sb = SnowballStemmer(\"english\")"
   ]
  },
  {
   "cell_type": "code",
   "execution_count": 19,
   "metadata": {},
   "outputs": [
    {
     "name": "stdout",
     "output_type": "stream",
     "text": [
      "python\n",
      "python\n",
      "python\n",
      "python\n",
      "python\n"
     ]
    }
   ],
   "source": [
    "example_words = [\"python\",\"pythoner\",\"pythoning\",\"pythoned\",\"pythonly\"]\n",
    "\n",
    "for w in example_words:\n",
    "    print(sb.stem(w))"
   ]
  },
  {
   "cell_type": "code",
   "execution_count": 20,
   "metadata": {},
   "outputs": [
    {
     "name": "stdout",
     "output_type": "stream",
     "text": [
      "you\n",
      "are\n",
      "not\n",
      "consid\n",
      "the\n",
      "consider\n",
      "perform\n",
      "considerably.\n",
      "it\n",
      "consequ\n",
      "will\n",
      "not\n",
      "be\n",
      "considerd\n"
     ]
    }
   ],
   "source": [
    "sample = (\"You are not considering the considerable performance considerably. Its consequences will not be considerd\")\n",
    "words = word_tokenize(sample)\n",
    "sample = sample.split(' ')\n",
    "\n",
    "for w in sample:\n",
    "    print(sb.stem(w))\n"
   ]
  },
  {
   "cell_type": "markdown",
   "metadata": {},
   "source": [
    "### PARTS OF SPEECH TAGGING"
   ]
  },
  {
   "cell_type": "code",
   "execution_count": 3,
   "metadata": {},
   "outputs": [],
   "source": [
    "import nltk\n",
    "from nltk import sent_tokenize, word_tokenize\n",
    "from nltk.corpus import state_union #state union adresses by various america​PunktSentenceTokenizern presidents\n",
    "#from nltk.tokenize import sent_tokenize \n",
    "from nltk.tokenize import PunktSentenceTokenizer"
   ]
  },
  {
   "cell_type": "code",
   "execution_count": 22,
   "metadata": {},
   "outputs": [],
   "source": [
    "train_text = state_union.raw(\"2006-GWBush.txt\")\n",
    "sample_text = state_union.raw(\"2005-GWBush.txt\")"
   ]
  },
  {
   "cell_type": "code",
   "execution_count": 23,
   "metadata": {},
   "outputs": [],
   "source": [
    "custom_sent_tokenizer = PunktSentenceTokenizer(train_text)\n",
    "\n",
    "tokenized = custom_sent_tokenizer.tokenize(sample_text)\n"
   ]
  },
  {
   "cell_type": "code",
   "execution_count": 24,
   "metadata": {},
   "outputs": [
    {
     "name": "stdout",
     "output_type": "stream",
     "text": [
      "[('PRESIDENT', 'NNP'), ('GEORGE', 'NNP'), ('W.', 'NNP'), ('BUSH', 'NNP'), (\"'S\", 'POS'), ('ADDRESS', 'NNP'), ('BEFORE', 'IN'), ('A', 'NNP'), ('JOINT', 'NNP'), ('SESSION', 'NNP'), ('OF', 'IN'), ('THE', 'NNP'), ('CONGRESS', 'NNP'), ('ON', 'NNP'), ('THE', 'NNP'), ('STATE', 'NNP'), ('OF', 'IN'), ('THE', 'NNP'), ('UNION', 'NNP'), ('February', 'NNP'), ('2', 'CD'), (',', ','), ('2005', 'CD'), ('9:10', 'CD'), ('P.M', 'NNP'), ('.', '.')]\n",
      "[('EST', 'IN'), ('THE', 'NNP'), ('PRESIDENT', 'NNP'), (':', ':'), ('Mr.', 'NNP'), ('Speaker', 'NNP'), (',', ','), ('Vice', 'NNP'), ('President', 'NNP'), ('Cheney', 'NNP'), (',', ','), ('members', 'NNS'), ('of', 'IN'), ('Congress', 'NNP'), (',', ','), ('fellow', 'JJ'), ('citizens', 'NNS'), (':', ':'), ('As', 'IN'), ('a', 'DT'), ('new', 'JJ'), ('Congress', 'NNP'), ('gathers', 'NNS'), (',', ','), ('all', 'DT'), ('of', 'IN'), ('us', 'PRP'), ('in', 'IN'), ('the', 'DT'), ('elected', 'JJ'), ('branches', 'NNS'), ('of', 'IN'), ('government', 'NN'), ('share', 'NN'), ('a', 'DT'), ('great', 'JJ'), ('privilege', 'NN'), (':', ':'), ('We', 'PRP'), (\"'ve\", 'VBP'), ('been', 'VBN'), ('placed', 'VBN'), ('in', 'IN'), ('office', 'NN'), ('by', 'IN'), ('the', 'DT'), ('votes', 'NNS'), ('of', 'IN'), ('the', 'DT'), ('people', 'NNS'), ('we', 'PRP'), ('serve', 'VBP'), ('.', '.')]\n",
      "[('And', 'CC'), ('tonight', 'NN'), ('that', 'WDT'), ('is', 'VBZ'), ('a', 'DT'), ('privilege', 'NN'), ('we', 'PRP'), ('share', 'NN'), ('with', 'IN'), ('newly-elected', 'JJ'), ('leaders', 'NNS'), ('of', 'IN'), ('Afghanistan', 'NNP'), (',', ','), ('the', 'DT'), ('Palestinian', 'JJ'), ('Territories', 'NNP'), (',', ','), ('Ukraine', 'NNP'), (',', ','), ('and', 'CC'), ('a', 'DT'), ('free', 'JJ'), ('and', 'CC'), ('sovereign', 'JJ'), ('Iraq', 'NNP'), ('.', '.')]\n",
      "[('(', '('), ('Applause', 'NNP'), ('.', '.'), (')', ')')]\n",
      "[('Two', 'CD'), ('weeks', 'NNS'), ('ago', 'RB'), (',', ','), ('I', 'PRP'), ('stood', 'VBD'), ('on', 'IN'), ('the', 'DT'), ('steps', 'NNS'), ('of', 'IN'), ('this', 'DT'), ('Capitol', 'NNP'), ('and', 'CC'), ('renewed', 'VBN'), ('the', 'DT'), ('commitment', 'NN'), ('of', 'IN'), ('our', 'PRP$'), ('nation', 'NN'), ('to', 'TO'), ('the', 'DT'), ('guiding', 'VBG'), ('ideal', 'NN'), ('of', 'IN'), ('liberty', 'NN'), ('for', 'IN'), ('all', 'DT'), ('.', '.')]\n",
      "[('This', 'DT'), ('evening', 'NN'), ('I', 'PRP'), ('will', 'MD'), ('set', 'VB'), ('forth', 'JJ'), ('policies', 'NNS'), ('to', 'TO'), ('advance', 'VB'), ('that', 'DT'), ('ideal', 'NN'), ('at', 'IN'), ('home', 'NN'), ('and', 'CC'), ('around', 'IN'), ('the', 'DT'), ('world', 'NN'), ('.', '.')]\n",
      "[('Tonight', 'NNP'), (',', ','), ('with', 'IN'), ('a', 'DT'), ('healthy', 'JJ'), (',', ','), ('growing', 'VBG'), ('economy', 'NN'), (',', ','), ('with', 'IN'), ('more', 'JJR'), ('Americans', 'NNS'), ('going', 'VBG'), ('back', 'RB'), ('to', 'TO'), ('work', 'NN'), (',', ','), ('with', 'IN'), ('our', 'PRP$'), ('nation', 'NN'), ('an', 'DT'), ('active', 'JJ'), ('force', 'NN'), ('for', 'IN'), ('good', 'JJ'), ('in', 'IN'), ('the', 'DT'), ('world', 'NN'), ('--', ':'), ('the', 'DT'), ('state', 'NN'), ('of', 'IN'), ('our', 'PRP$'), ('union', 'NN'), ('is', 'VBZ'), ('confident', 'JJ'), ('and', 'CC'), ('strong', 'JJ'), ('.', '.')]\n",
      "[('(', '('), ('Applause', 'NNP'), ('.', '.'), (')', ')')]\n",
      "[('Our', 'PRP$'), ('generation', 'NN'), ('has', 'VBZ'), ('been', 'VBN'), ('blessed', 'VBN'), ('--', ':'), ('by', 'IN'), ('the', 'DT'), ('expansion', 'NN'), ('of', 'IN'), ('opportunity', 'NN'), (',', ','), ('by', 'IN'), ('advances', 'NNS'), ('in', 'IN'), ('medicine', 'NN'), (',', ','), ('by', 'IN'), ('the', 'DT'), ('security', 'NN'), ('purchased', 'VBN'), ('by', 'IN'), ('our', 'PRP$'), ('parents', 'NNS'), (\"'\", 'POS'), ('sacrifice', 'NN'), ('.', '.')]\n",
      "[('Now', 'RB'), (',', ','), ('as', 'IN'), ('we', 'PRP'), ('see', 'VBP'), ('a', 'DT'), ('little', 'JJ'), ('gray', 'NN'), ('in', 'IN'), ('the', 'DT'), ('mirror', 'NN'), ('--', ':'), ('or', 'CC'), ('a', 'DT'), ('lot', 'NN'), ('of', 'IN'), ('gray', 'NN'), ('--', ':'), ('(', '('), ('laughter', 'NN'), (')', ')'), ('--', ':'), ('and', 'CC'), ('we', 'PRP'), ('watch', 'VBP'), ('our', 'PRP$'), ('children', 'NNS'), ('moving', 'VBG'), ('into', 'IN'), ('adulthood', 'NN'), (',', ','), ('we', 'PRP'), ('ask', 'VBP'), ('the', 'DT'), ('question', 'NN'), (':', ':'), ('What', 'WP'), ('will', 'MD'), ('be', 'VB'), ('the', 'DT'), ('state', 'NN'), ('of', 'IN'), ('their', 'PRP$'), ('union', 'NN'), ('?', '.')]\n",
      "[('Members', 'NNS'), ('of', 'IN'), ('Congress', 'NNP'), (',', ','), ('the', 'DT'), ('choices', 'NNS'), ('we', 'PRP'), ('make', 'VBP'), ('together', 'RB'), ('will', 'MD'), ('answer', 'VB'), ('that', 'DT'), ('question', 'NN'), ('.', '.')]\n",
      "[('Over', 'IN'), ('the', 'DT'), ('next', 'JJ'), ('several', 'JJ'), ('months', 'NNS'), (',', ','), ('on', 'IN'), ('issue', 'NN'), ('after', 'IN'), ('issue', 'NN'), (',', ','), ('let', 'VB'), ('us', 'PRP'), ('do', 'VB'), ('what', 'WP'), ('Americans', 'NNPS'), ('have', 'VBP'), ('always', 'RB'), ('done', 'VBN'), (',', ','), ('and', 'CC'), ('build', 'VB'), ('a', 'DT'), ('better', 'JJR'), ('world', 'NN'), ('for', 'IN'), ('our', 'PRP$'), ('children', 'NNS'), ('and', 'CC'), ('our', 'PRP$'), ('grandchildren', 'NNS'), ('.', '.')]\n",
      "[('(', '('), ('Applause', 'NNP'), ('.', '.'), (')', ')')]\n",
      "[('First', 'RB'), (',', ','), ('we', 'PRP'), ('must', 'MD'), ('be', 'VB'), ('good', 'JJ'), ('stewards', 'NNS'), ('of', 'IN'), ('this', 'DT'), ('economy', 'NN'), (',', ','), ('and', 'CC'), ('renew', 'VB'), ('the', 'DT'), ('great', 'JJ'), ('institutions', 'NNS'), ('on', 'IN'), ('which', 'WDT'), ('millions', 'NNS'), ('of', 'IN'), ('our', 'PRP$'), ('fellow', 'JJ'), ('citizens', 'NNS'), ('rely', 'RB'), ('.', '.')]\n",
      "[('America', 'NNP'), (\"'s\", 'POS'), ('economy', 'NN'), ('is', 'VBZ'), ('the', 'DT'), ('fastest', 'JJS'), ('growing', 'NN'), ('of', 'IN'), ('any', 'DT'), ('major', 'JJ'), ('industrialized', 'VBN'), ('nation', 'NN'), ('.', '.')]\n",
      "[('In', 'IN'), ('the', 'DT'), ('past', 'JJ'), ('four', 'CD'), ('years', 'NNS'), (',', ','), ('we', 'PRP'), ('provided', 'VBD'), ('tax', 'NN'), ('relief', 'NN'), ('to', 'TO'), ('every', 'DT'), ('person', 'NN'), ('who', 'WP'), ('pays', 'VBZ'), ('income', 'NN'), ('taxes', 'NNS'), (',', ','), ('overcome', 'VBP'), ('a', 'DT'), ('recession', 'NN'), (',', ','), ('opened', 'VBD'), ('up', 'RP'), ('new', 'JJ'), ('markets', 'NNS'), ('abroad', 'RB'), (',', ','), ('prosecuted', 'JJ'), ('corporate', 'JJ'), ('criminals', 'NNS'), (',', ','), ('raised', 'VBD'), ('homeownership', 'NN'), ('to', 'TO'), ('its', 'PRP$'), ('highest', 'JJS'), ('level', 'NN'), ('in', 'IN'), ('history', 'NN'), (',', ','), ('and', 'CC'), ('in', 'IN'), ('the', 'DT'), ('last', 'JJ'), ('year', 'NN'), ('alone', 'RB'), (',', ','), ('the', 'DT'), ('United', 'NNP'), ('States', 'NNPS'), ('has', 'VBZ'), ('added', 'VBN'), ('2.3', 'CD'), ('million', 'CD'), ('new', 'JJ'), ('jobs', 'NNS'), ('.', '.')]\n",
      "[('(', '('), ('Applause', 'NNP'), ('.', '.'), (')', ')')]\n",
      "[('When', 'WRB'), ('action', 'NN'), ('was', 'VBD'), ('needed', 'VBN'), (',', ','), ('the', 'DT'), ('Congress', 'NNP'), ('delivered', 'VBN'), ('--', ':'), ('and', 'CC'), ('the', 'DT'), ('nation', 'NN'), ('is', 'VBZ'), ('grateful', 'JJ'), ('.', '.')]\n",
      "[('Now', 'RB'), ('we', 'PRP'), ('must', 'MD'), ('add', 'VB'), ('to', 'TO'), ('these', 'DT'), ('achievements', 'NNS'), ('.', '.')]\n",
      "[('By', 'IN'), ('making', 'VBG'), ('our', 'PRP$'), ('economy', 'NN'), ('more', 'RBR'), ('flexible', 'JJ'), (',', ','), ('more', 'RBR'), ('innovative', 'JJ'), (',', ','), ('and', 'CC'), ('more', 'RBR'), ('competitive', 'JJ'), (',', ','), ('we', 'PRP'), ('will', 'MD'), ('keep', 'VB'), ('America', 'NNP'), ('the', 'DT'), ('economic', 'JJ'), ('leader', 'NN'), ('of', 'IN'), ('the', 'DT'), ('world', 'NN'), ('.', '.')]\n",
      "[('(', '('), ('Applause', 'NNP'), ('.', '.'), (')', ')')]\n",
      "[('America', 'NNP'), (\"'s\", 'POS'), ('prosperity', 'NN'), ('requires', 'VBZ'), ('restraining', 'VBG'), ('the', 'DT'), ('spending', 'NN'), ('appetite', 'NN'), ('of', 'IN'), ('the', 'DT'), ('federal', 'JJ'), ('government', 'NN'), ('.', '.')]\n",
      "[('I', 'PRP'), ('welcome', 'VBP'), ('the', 'DT'), ('bipartisan', 'JJ'), ('enthusiasm', 'NN'), ('for', 'IN'), ('spending', 'NN'), ('discipline', 'NN'), ('.', '.')]\n",
      "[('I', 'PRP'), ('will', 'MD'), ('send', 'VB'), ('you', 'PRP'), ('a', 'DT'), ('budget', 'NN'), ('that', 'WDT'), ('holds', 'VBZ'), ('the', 'DT'), ('growth', 'NN'), ('of', 'IN'), ('discretionary', 'JJ'), ('spending', 'NN'), ('below', 'IN'), ('inflation', 'NN'), (',', ','), ('makes', 'VBZ'), ('tax', 'NN'), ('relief', 'NN'), ('permanent', 'NN'), (',', ','), ('and', 'CC'), ('stays', 'NNS'), ('on', 'IN'), ('track', 'NN'), ('to', 'TO'), ('cut', 'VB'), ('the', 'DT'), ('deficit', 'NN'), ('in', 'IN'), ('half', 'NN'), ('by', 'IN'), ('2009', 'CD'), ('.', '.')]\n",
      "[('(', '('), ('Applause', 'NNP'), ('.', '.'), (')', ')')]\n",
      "[('My', 'PRP$'), ('budget', 'NN'), ('substantially', 'RB'), ('reduces', 'VBZ'), ('or', 'CC'), ('eliminates', 'VBZ'), ('more', 'JJR'), ('than', 'IN'), ('150', 'CD'), ('government', 'NN'), ('programs', 'NNS'), ('that', 'WDT'), ('are', 'VBP'), ('not', 'RB'), ('getting', 'VBG'), ('results', 'NNS'), (',', ','), ('or', 'CC'), ('duplicate', 'VB'), ('current', 'JJ'), ('efforts', 'NNS'), (',', ','), ('or', 'CC'), ('do', 'VBP'), ('not', 'RB'), ('fulfill', 'VB'), ('essential', 'JJ'), ('priorities', 'NNS'), ('.', '.')]\n",
      "[('The', 'DT'), ('principle', 'NN'), ('here', 'RB'), ('is', 'VBZ'), ('clear', 'JJ'), (':', ':'), ('Taxpayer', 'NN'), ('dollars', 'NNS'), ('must', 'MD'), ('be', 'VB'), ('spent', 'VBN'), ('wisely', 'RB'), (',', ','), ('or', 'CC'), ('not', 'RB'), ('at', 'IN'), ('all', 'DT'), ('.', '.')]\n",
      "[('(', '('), ('Applause', 'NNP'), ('.', '.'), (')', ')')]\n",
      "[('To', 'TO'), ('make', 'VB'), ('our', 'PRP$'), ('economy', 'NN'), ('stronger', 'JJR'), ('and', 'CC'), ('more', 'RBR'), ('dynamic', 'JJ'), (',', ','), ('we', 'PRP'), ('must', 'MD'), ('prepare', 'VB'), ('a', 'DT'), ('rising', 'VBG'), ('generation', 'NN'), ('to', 'TO'), ('fill', 'VB'), ('the', 'DT'), ('jobs', 'NNS'), ('of', 'IN'), ('the', 'DT'), ('21st', 'JJ'), ('century', 'NN'), ('.', '.')]\n",
      "[('Under', 'IN'), ('the', 'DT'), ('No', 'NNP'), ('Child', 'NNP'), ('Left', 'NNP'), ('Behind', 'NNP'), ('Act', 'NNP'), (',', ','), ('standards', 'NNS'), ('are', 'VBP'), ('higher', 'JJR'), (',', ','), ('test', 'NN'), ('scores', 'NNS'), ('are', 'VBP'), ('on', 'IN'), ('the', 'DT'), ('rise', 'NN'), (',', ','), ('and', 'CC'), ('we', 'PRP'), (\"'re\", 'VBP'), ('closing', 'VBG'), ('the', 'DT'), ('achievement', 'NN'), ('gap', 'NN'), ('for', 'IN'), ('minority', 'NN'), ('students', 'NNS'), ('.', '.')]\n",
      "[('Now', 'RB'), ('we', 'PRP'), ('must', 'MD'), ('demand', 'VB'), ('better', 'JJR'), ('results', 'NNS'), ('from', 'IN'), ('our', 'PRP$'), ('high', 'JJ'), ('schools', 'NNS'), (',', ','), ('so', 'RB'), ('every', 'DT'), ('high', 'JJ'), ('school', 'NN'), ('diploma', 'NN'), ('is', 'VBZ'), ('a', 'DT'), ('ticket', 'NN'), ('to', 'TO'), ('success', 'NN'), ('.', '.')]\n",
      "[('We', 'PRP'), ('will', 'MD'), ('help', 'VB'), ('an', 'DT'), ('additional', 'JJ'), ('200,000', 'CD'), ('workers', 'NNS'), ('to', 'TO'), ('get', 'VB'), ('training', 'NN'), ('for', 'IN'), ('a', 'DT'), ('better', 'JJR'), ('career', 'NN'), (',', ','), ('by', 'IN'), ('reforming', 'VBG'), ('our', 'PRP$'), ('job', 'NN'), ('training', 'NN'), ('system', 'NN'), ('and', 'CC'), ('strengthening', 'VBG'), ('America', 'NNP'), (\"'s\", 'POS'), ('community', 'NN'), ('colleges', 'NNS'), ('.', '.')]\n",
      "[('And', 'CC'), ('we', 'PRP'), (\"'ll\", 'MD'), ('make', 'VB'), ('it', 'PRP'), ('easier', 'JJR'), ('for', 'IN'), ('Americans', 'NNPS'), ('to', 'TO'), ('afford', 'VB'), ('a', 'DT'), ('college', 'NN'), ('education', 'NN'), (',', ','), ('by', 'IN'), ('increasing', 'VBG'), ('the', 'DT'), ('size', 'NN'), ('of', 'IN'), ('Pell', 'NNP'), ('Grants', 'NNP'), ('.', '.')]\n",
      "[('(', '('), ('Applause', 'NNP'), ('.', '.'), (')', ')')]\n",
      "[('To', 'TO'), ('make', 'VB'), ('our', 'PRP$'), ('economy', 'NN'), ('stronger', 'JJR'), ('and', 'CC'), ('more', 'RBR'), ('competitive', 'JJ'), (',', ','), ('America', 'NNP'), ('must', 'MD'), ('reward', 'VB'), (',', ','), ('not', 'RB'), ('punish', 'VB'), (',', ','), ('the', 'DT'), ('efforts', 'NNS'), ('and', 'CC'), ('dreams', 'NNS'), ('of', 'IN'), ('entrepreneurs', 'NNS'), ('.', '.')]\n",
      "[('Small', 'JJ'), ('business', 'NN'), ('is', 'VBZ'), ('the', 'DT'), ('path', 'NN'), ('of', 'IN'), ('advancement', 'NN'), (',', ','), ('especially', 'RB'), ('for', 'IN'), ('women', 'NNS'), ('and', 'CC'), ('minorities', 'NNS'), (',', ','), ('so', 'IN'), ('we', 'PRP'), ('must', 'MD'), ('free', 'VB'), ('small', 'JJ'), ('businesses', 'NNS'), ('from', 'IN'), ('needless', 'JJ'), ('regulation', 'NN'), ('and', 'CC'), ('protect', 'JJ'), ('honest', 'JJS'), ('job-creators', 'NNS'), ('from', 'IN'), ('junk', 'NN'), ('lawsuits', 'NNS'), ('.', '.')]\n",
      "[('(', '('), ('Applause', 'NNP'), ('.', '.'), (')', ')')]\n",
      "[('Justice', 'NNP'), ('is', 'VBZ'), ('distorted', 'VBN'), (',', ','), ('and', 'CC'), ('our', 'PRP$'), ('economy', 'NN'), ('is', 'VBZ'), ('held', 'VBN'), ('back', 'RB'), ('by', 'IN'), ('irresponsible', 'JJ'), ('class-actions', 'NNS'), ('and', 'CC'), ('frivolous', 'JJ'), ('asbestos', 'NN'), ('claims', 'NNS'), ('--', ':'), ('and', 'CC'), ('I', 'PRP'), ('urge', 'VBP'), ('Congress', 'NNP'), ('to', 'TO'), ('pass', 'VB'), ('legal', 'JJ'), ('reforms', 'NNS'), ('this', 'DT'), ('year', 'NN'), ('.', '.')]\n",
      "[('(', '('), ('Applause', 'NNP'), ('.', '.'), (')', ')')]\n",
      "[('To', 'TO'), ('make', 'VB'), ('our', 'PRP$'), ('economy', 'NN'), ('stronger', 'JJR'), ('and', 'CC'), ('more', 'RBR'), ('productive', 'JJ'), (',', ','), ('we', 'PRP'), ('must', 'MD'), ('make', 'VB'), ('health', 'NN'), ('care', 'NN'), ('more', 'RBR'), ('affordable', 'JJ'), (',', ','), ('and', 'CC'), ('give', 'VB'), ('families', 'NNS'), ('greater', 'JJR'), ('access', 'NN'), ('to', 'TO'), ('good', 'JJ'), ('coverage', 'NN'), ('--', ':'), ('(', '('), ('applause', 'NN'), (')', ')'), ('--', ':'), ('and', 'CC'), ('more', 'JJR'), ('control', 'NN'), ('over', 'IN'), ('their', 'PRP$'), ('health', 'NN'), ('decisions', 'NNS'), ('.', '.')]\n",
      "[('(', '('), ('Applause', 'NNP'), ('.', '.'), (')', ')')]\n",
      "[('I', 'PRP'), ('ask', 'VBP'), ('Congress', 'NNP'), ('to', 'TO'), ('move', 'VB'), ('forward', 'RB'), ('on', 'IN'), ('a', 'DT'), ('comprehensive', 'JJ'), ('health', 'NN'), ('care', 'NN'), ('agenda', 'NN'), ('with', 'IN'), ('tax', 'NN'), ('credits', 'NNS'), ('to', 'TO'), ('help', 'VB'), ('low-income', 'JJ'), ('workers', 'NNS'), ('buy', 'VBP'), ('insurance', 'NN'), (',', ','), ('a', 'DT'), ('community', 'NN'), ('health', 'NN'), ('center', 'NN'), ('in', 'IN'), ('every', 'DT'), ('poor', 'JJ'), ('country', 'NN'), (',', ','), ('improved', 'VBN'), ('information', 'NN'), ('technology', 'NN'), ('to', 'TO'), ('prevent', 'VB'), ('medical', 'JJ'), ('error', 'NN'), ('and', 'CC'), ('needless', 'NN'), ('costs', 'NNS'), (',', ','), ('association', 'NN'), ('health', 'NN'), ('plans', 'NNS'), ('for', 'IN'), ('small', 'JJ'), ('businesses', 'NNS'), ('and', 'CC'), ('their', 'PRP$'), ('employees', 'NNS'), ('--', ':'), ('(', '('), ('applause', 'NN'), (')', ')'), ('--', ':'), ('expanded', 'VBD'), ('health', 'NN'), ('savings', 'NNS'), ('accounts', 'NNS'), ('--', ':'), ('(', '('), ('applause', 'NN'), (')', ')'), ('--', ':'), ('and', 'CC'), ('medical', 'JJ'), ('liability', 'NN'), ('reform', 'NN'), ('that', 'WDT'), ('will', 'MD'), ('reduce', 'VB'), ('health', 'NN'), ('care', 'NN'), ('costs', 'NNS'), ('and', 'CC'), ('make', 'VB'), ('sure', 'JJ'), ('patients', 'NNS'), ('have', 'VBP'), ('the', 'DT'), ('doctors', 'NNS'), ('and', 'CC'), ('care', 'NN'), ('they', 'PRP'), ('need', 'VBP'), ('.', '.')]\n",
      "[('(', '('), ('Applause', 'NNP'), ('.', '.'), (')', ')')]\n",
      "[('To', 'TO'), ('keep', 'VB'), ('our', 'PRP$'), ('economy', 'NN'), ('growing', 'VBG'), (',', ','), ('we', 'PRP'), ('also', 'RB'), ('need', 'VBP'), ('reliable', 'JJ'), ('supplies', 'NNS'), ('of', 'IN'), ('affordable', 'JJ'), (',', ','), ('environmentally', 'RB'), ('responsible', 'JJ'), ('energy', 'NN'), ('.', '.')]\n",
      "[('(', '('), ('Applause', 'NNP'), ('.', '.'), (')', ')')]\n",
      "[('Nearly', 'RB'), ('four', 'CD'), ('years', 'NNS'), ('ago', 'RB'), (',', ','), ('I', 'PRP'), ('submitted', 'VBD'), ('a', 'DT'), ('comprehensive', 'JJ'), ('energy', 'NN'), ('strategy', 'NN'), ('that', 'WDT'), ('encourages', 'VBZ'), ('conservation', 'NN'), (',', ','), ('alternative', 'JJ'), ('sources', 'NNS'), (',', ','), ('a', 'DT'), ('modernized', 'JJ'), ('electricity', 'NN'), ('grid', 'NN'), (',', ','), ('and', 'CC'), ('more', 'JJR'), ('production', 'NN'), ('here', 'RB'), ('at', 'IN'), ('home', 'NN'), ('--', ':'), ('including', 'VBG'), ('safe', 'JJ'), (',', ','), ('clean', 'JJ'), ('nuclear', 'JJ'), ('energy', 'NN'), ('.', '.')]\n",
      "[('(', '('), ('Applause', 'NNP'), ('.', '.'), (')', ')')]\n",
      "[('My', 'PRP$'), ('Clear', 'JJ'), ('Skies', 'NNPS'), ('legislation', 'NN'), ('will', 'MD'), ('cut', 'VB'), ('power', 'NN'), ('plant', 'NN'), ('pollution', 'NN'), ('and', 'CC'), ('improve', 'VB'), ('the', 'DT'), ('health', 'NN'), ('of', 'IN'), ('our', 'PRP$'), ('citizens', 'NNS'), ('.', '.')]\n",
      "[('(', '('), ('Applause', 'NNP'), ('.', '.'), (')', ')')]\n",
      "[('And', 'CC'), ('my', 'PRP$'), ('budget', 'NN'), ('provides', 'VBZ'), ('strong', 'JJ'), ('funding', 'NN'), ('for', 'IN'), ('leading-edge', 'JJ'), ('technology', 'NN'), ('--', ':'), ('from', 'IN'), ('hydrogen-fueled', 'JJ'), ('cars', 'NNS'), (',', ','), ('to', 'TO'), ('clean', 'VB'), ('coal', 'NN'), (',', ','), ('to', 'TO'), ('renewable', 'VB'), ('sources', 'NNS'), ('such', 'JJ'), ('as', 'IN'), ('ethanol', 'NN'), ('.', '.')]\n",
      "[('(', '('), ('Applause', 'NNP'), ('.', '.'), (')', ')')]\n",
      "[('Four', 'CD'), ('years', 'NNS'), ('of', 'IN'), ('debate', 'NN'), ('is', 'VBZ'), ('enough', 'JJ'), (':', ':'), ('I', 'PRP'), ('urge', 'VBP'), ('Congress', 'NNP'), ('to', 'TO'), ('pass', 'VB'), ('legislation', 'NN'), ('that', 'WDT'), ('makes', 'VBZ'), ('America', 'NNP'), ('more', 'JJR'), ('secure', 'NN'), ('and', 'CC'), ('less', 'RBR'), ('dependent', 'JJ'), ('on', 'IN'), ('foreign', 'JJ'), ('energy', 'NN'), ('.', '.')]\n",
      "[('(', '('), ('Applause', 'NNP'), ('.', '.'), (')', ')')]\n",
      "[('All', 'PDT'), ('these', 'DT'), ('proposals', 'NNS'), ('are', 'VBP'), ('essential', 'JJ'), ('to', 'TO'), ('expand', 'VB'), ('this', 'DT'), ('economy', 'NN'), ('and', 'CC'), ('add', 'VB'), ('new', 'JJ'), ('jobs', 'NNS'), ('--', ':'), ('but', 'CC'), ('they', 'PRP'), ('are', 'VBP'), ('just', 'RB'), ('the', 'DT'), ('beginning', 'NN'), ('of', 'IN'), ('our', 'PRP$'), ('duty', 'NN'), ('.', '.')]\n",
      "[('To', 'TO'), ('build', 'VB'), ('the', 'DT'), ('prosperity', 'NN'), ('of', 'IN'), ('future', 'JJ'), ('generations', 'NNS'), (',', ','), ('we', 'PRP'), ('must', 'MD'), ('update', 'VB'), ('institutions', 'NNS'), ('that', 'WDT'), ('were', 'VBD'), ('created', 'VBN'), ('to', 'TO'), ('meet', 'VB'), ('the', 'DT'), ('needs', 'NNS'), ('of', 'IN'), ('an', 'DT'), ('earlier', 'JJR'), ('time', 'NN'), ('.', '.')]\n",
      "[('Year', 'NN'), ('after', 'IN'), ('year', 'NN'), (',', ','), ('Americans', 'NNPS'), ('are', 'VBP'), ('burdened', 'VBN'), ('by', 'IN'), ('an', 'DT'), ('archaic', 'NN'), (',', ','), ('incoherent', 'JJ'), ('federal', 'JJ'), ('tax', 'NN'), ('code', 'NN'), ('.', '.')]\n",
      "[('I', 'PRP'), (\"'ve\", 'VBP'), ('appointed', 'VBN'), ('a', 'DT'), ('bipartisan', 'JJ'), ('panel', 'NN'), ('to', 'TO'), ('examine', 'VB'), ('the', 'DT'), ('tax', 'NN'), ('code', 'NN'), ('from', 'IN'), ('top', 'JJ'), ('to', 'TO'), ('bottom', 'VB'), ('.', '.')]\n",
      "[('And', 'CC'), ('when', 'WRB'), ('their', 'PRP$'), ('recommendations', 'NNS'), ('are', 'VBP'), ('delivered', 'VBN'), (',', ','), ('you', 'PRP'), ('and', 'CC'), ('I', 'PRP'), ('will', 'MD'), ('work', 'VB'), ('together', 'RB'), ('to', 'TO'), ('give', 'VB'), ('this', 'DT'), ('nation', 'NN'), ('a', 'DT'), ('tax', 'NN'), ('code', 'NN'), ('that', 'WDT'), ('is', 'VBZ'), ('pro-growth', 'JJ'), (',', ','), ('easy', 'JJ'), ('to', 'TO'), ('understand', 'VB'), (',', ','), ('and', 'CC'), ('fair', 'JJ'), ('to', 'TO'), ('all', 'DT'), ('.', '.')]\n",
      "[('(', '('), ('Applause', 'NNP'), ('.', '.'), (')', ')')]\n",
      "[('America', 'NNP'), (\"'s\", 'POS'), ('immigration', 'NN'), ('system', 'NN'), ('is', 'VBZ'), ('also', 'RB'), ('outdated', 'VBN'), ('--', ':'), ('unsuited', 'JJ'), ('to', 'TO'), ('the', 'DT'), ('needs', 'NNS'), ('of', 'IN'), ('our', 'PRP$'), ('economy', 'NN'), ('and', 'CC'), ('to', 'TO'), ('the', 'DT'), ('values', 'NNS'), ('of', 'IN'), ('our', 'PRP$'), ('country', 'NN'), ('.', '.')]\n",
      "[('We', 'PRP'), ('should', 'MD'), ('not', 'RB'), ('be', 'VB'), ('content', 'JJ'), ('with', 'IN'), ('laws', 'NNS'), ('that', 'WDT'), ('punish', 'VBP'), ('hardworking', 'VBG'), ('people', 'NNS'), ('who', 'WP'), ('want', 'VBP'), ('only', 'RB'), ('to', 'TO'), ('provide', 'VB'), ('for', 'IN'), ('their', 'PRP$'), ('families', 'NNS'), (',', ','), ('and', 'CC'), ('deny', 'JJ'), ('businesses', 'NNS'), ('willing', 'JJ'), ('workers', 'NNS'), (',', ','), ('and', 'CC'), ('invite', 'JJ'), ('chaos', 'NN'), ('at', 'IN'), ('our', 'PRP$'), ('border', 'NN'), ('.', '.')]\n",
      "[('It', 'PRP'), ('is', 'VBZ'), ('time', 'NN'), ('for', 'IN'), ('an', 'DT'), ('immigration', 'NN'), ('policy', 'NN'), ('that', 'IN'), ('permits', 'VBZ'), ('temporary', 'JJ'), ('guest', 'NN'), ('workers', 'NNS'), ('to', 'TO'), ('fill', 'VB'), ('jobs', 'NNS'), ('Americans', 'NNPS'), ('will', 'MD'), ('not', 'RB'), ('take', 'VB'), (',', ','), ('that', 'DT'), ('rejects', 'VBZ'), ('amnesty', 'JJ'), (',', ','), ('that', 'WDT'), ('tells', 'VBZ'), ('us', 'PRP'), ('who', 'WP'), ('is', 'VBZ'), ('entering', 'VBG'), ('and', 'CC'), ('leaving', 'VBG'), ('our', 'PRP$'), ('country', 'NN'), (',', ','), ('and', 'CC'), ('that', 'IN'), ('closes', 'VBZ'), ('the', 'DT'), ('border', 'NN'), ('to', 'TO'), ('drug', 'NN'), ('dealers', 'NNS'), ('and', 'CC'), ('terrorists', 'NNS'), ('.', '.')]\n",
      "[('(', '('), ('Applause', 'NNP'), ('.', '.'), (')', ')')]\n",
      "[('One', 'CD'), ('of', 'IN'), ('America', 'NNP'), (\"'s\", 'POS'), ('most', 'RBS'), ('important', 'JJ'), ('institutions', 'NNS'), ('--', ':'), ('a', 'DT'), ('symbol', 'NN'), ('of', 'IN'), ('the', 'DT'), ('trust', 'NN'), ('between', 'IN'), ('generations', 'NNS'), ('--', ':'), ('is', 'VBZ'), ('also', 'RB'), ('in', 'IN'), ('need', 'NN'), ('of', 'IN'), ('wise', 'NN'), ('and', 'CC'), ('effective', 'JJ'), ('reform', 'NN'), ('.', '.')]\n",
      "[('Social', 'NNP'), ('Security', 'NNP'), ('was', 'VBD'), ('a', 'DT'), ('great', 'JJ'), ('moral', 'JJ'), ('success', 'NN'), ('of', 'IN'), ('the', 'DT'), ('20th', 'JJ'), ('century', 'NN'), (',', ','), ('and', 'CC'), ('we', 'PRP'), ('must', 'MD'), ('honor', 'VB'), ('its', 'PRP$'), ('great', 'JJ'), ('purposes', 'NNS'), ('in', 'IN'), ('this', 'DT'), ('new', 'JJ'), ('century', 'NN'), ('.', '.')]\n",
      "[('(', '('), ('Applause', 'NNP'), ('.', '.'), (')', ')')]\n",
      "[('The', 'DT'), ('system', 'NN'), (',', ','), ('however', 'RB'), (',', ','), ('on', 'IN'), ('its', 'PRP$'), ('current', 'JJ'), ('path', 'NN'), (',', ','), ('is', 'VBZ'), ('headed', 'VBN'), ('toward', 'IN'), ('bankruptcy', 'NN'), ('.', '.')]\n",
      "[('And', 'CC'), ('so', 'IN'), ('we', 'PRP'), ('must', 'MD'), ('join', 'VB'), ('together', 'RB'), ('to', 'TO'), ('strengthen', 'VB'), ('and', 'CC'), ('save', 'VB'), ('Social', 'NNP'), ('Security', 'NNP'), ('.', '.')]\n",
      "[('(', '('), ('Applause', 'NNP'), ('.', '.'), (')', ')')]\n",
      "[('Today', 'NN'), (',', ','), ('more', 'JJR'), ('than', 'IN'), ('45', 'CD'), ('million', 'CD'), ('Americans', 'NNPS'), ('receive', 'VBP'), ('Social', 'NNP'), ('Security', 'NNP'), ('benefits', 'NNS'), (',', ','), ('and', 'CC'), ('millions', 'NNS'), ('more', 'JJR'), ('are', 'VBP'), ('nearing', 'JJ'), ('retirement', 'NN'), ('--', ':'), ('and', 'CC'), ('for', 'IN'), ('them', 'PRP'), ('the', 'DT'), ('system', 'NN'), ('is', 'VBZ'), ('sound', 'JJ'), ('and', 'CC'), ('fiscally', 'RB'), ('strong', 'JJ'), ('.', '.')]\n",
      "[('I', 'PRP'), ('have', 'VBP'), ('a', 'DT'), ('message', 'NN'), ('for', 'IN'), ('every', 'DT'), ('American', 'NNP'), ('who', 'WP'), ('is', 'VBZ'), ('55', 'CD'), ('or', 'CC'), ('older', 'JJR'), (':', ':'), ('Do', 'VB'), ('not', 'RB'), ('let', 'VB'), ('anyone', 'NN'), ('mislead', 'VB'), ('you', 'PRP'), (';', ':'), ('for', 'IN'), ('you', 'PRP'), (',', ','), ('the', 'DT'), ('Social', 'NNP'), ('Security', 'NNP'), ('system', 'NN'), ('will', 'MD'), ('not', 'RB'), ('change', 'VB'), ('in', 'IN'), ('any', 'DT'), ('way', 'NN'), ('.', '.')]\n",
      "[('(', '('), ('Applause', 'NNP'), ('.', '.'), (')', ')')]\n",
      "[('For', 'IN'), ('younger', 'JJR'), ('workers', 'NNS'), (',', ','), ('the', 'DT'), ('Social', 'NNP'), ('Security', 'NNP'), ('system', 'NN'), ('has', 'VBZ'), ('serious', 'JJ'), ('problems', 'NNS'), ('that', 'WDT'), ('will', 'MD'), ('grow', 'VB'), ('worse', 'JJR'), ('with', 'IN'), ('time', 'NN'), ('.', '.')]\n",
      "[('Social', 'NNP'), ('Security', 'NNP'), ('was', 'VBD'), ('created', 'VBN'), ('decades', 'NNS'), ('ago', 'RB'), (',', ','), ('for', 'IN'), ('a', 'DT'), ('very', 'RB'), ('different', 'JJ'), ('era', 'NN'), ('.', '.')]\n",
      "[('In', 'IN'), ('those', 'DT'), ('days', 'NNS'), (',', ','), ('people', 'NNS'), ('did', 'VBD'), ('not', 'RB'), ('live', 'VB'), ('as', 'IN'), ('long', 'RB'), ('.', '.')]\n",
      "[('Benefits', 'NNS'), ('were', 'VBD'), ('much', 'RB'), ('lower', 'JJR'), ('than', 'IN'), ('they', 'PRP'), ('are', 'VBP'), ('today', 'NN'), ('.', '.')]\n",
      "[('And', 'CC'), ('a', 'DT'), ('half-century', 'NN'), ('ago', 'RB'), (',', ','), ('about', 'IN'), ('sixteen', 'JJ'), ('workers', 'NNS'), ('paid', 'VBN'), ('into', 'IN'), ('the', 'DT'), ('system', 'NN'), ('for', 'IN'), ('each', 'DT'), ('person', 'NN'), ('drawing', 'VBG'), ('benefits', 'NNS'), ('.', '.')]\n",
      "[('Our', 'PRP$'), ('society', 'NN'), ('has', 'VBZ'), ('changed', 'VBN'), ('in', 'IN'), ('ways', 'NNS'), ('the', 'DT'), ('founders', 'NNS'), ('of', 'IN'), ('Social', 'NNP'), ('Security', 'NNP'), ('could', 'MD'), ('not', 'RB'), ('have', 'VB'), ('foreseen', 'NN'), ('.', '.')]\n",
      "[('In', 'IN'), ('today', 'NN'), (\"'s\", 'POS'), ('world', 'NN'), (',', ','), ('people', 'NNS'), ('are', 'VBP'), ('living', 'VBG'), ('longer', 'RBR'), ('and', 'CC'), (',', ','), ('therefore', 'RB'), (',', ','), ('drawing', 'VBG'), ('benefits', 'NNS'), ('longer', 'RBR'), ('.', '.')]\n",
      "[('And', 'CC'), ('those', 'DT'), ('benefits', 'NNS'), ('are', 'VBP'), ('scheduled', 'VBN'), ('to', 'TO'), ('rise', 'VB'), ('dramatically', 'RB'), ('over', 'IN'), ('the', 'DT'), ('next', 'JJ'), ('few', 'JJ'), ('decades', 'NNS'), ('.', '.')]\n",
      "[('And', 'CC'), ('instead', 'RB'), ('of', 'IN'), ('sixteen', 'JJ'), ('workers', 'NNS'), ('paying', 'VBG'), ('in', 'IN'), ('for', 'IN'), ('every', 'DT'), ('beneficiary', 'NN'), (',', ','), ('right', 'RB'), ('now', 'RB'), ('it', 'PRP'), (\"'s\", 'VBZ'), ('only', 'RB'), ('about', 'RB'), ('three', 'CD'), ('workers', 'NNS'), ('.', '.')]\n",
      "[('And', 'CC'), ('over', 'IN'), ('the', 'DT'), ('next', 'JJ'), ('few', 'JJ'), ('decades', 'NNS'), ('that', 'IN'), ('number', 'NN'), ('will', 'MD'), ('fall', 'VB'), ('to', 'TO'), ('just', 'RB'), ('two', 'CD'), ('workers', 'NNS'), ('per', 'IN'), ('beneficiary', 'NN'), ('.', '.')]\n",
      "[('With', 'IN'), ('each', 'DT'), ('passing', 'VBG'), ('year', 'NN'), (',', ','), ('fewer', 'JJR'), ('workers', 'NNS'), ('are', 'VBP'), ('paying', 'VBG'), ('ever-higher', 'JJ'), ('benefits', 'NNS'), ('to', 'TO'), ('an', 'DT'), ('ever-larger', 'JJ'), ('number', 'NN'), ('of', 'IN'), ('retirees', 'NNS'), ('.', '.')]\n",
      "[('So', 'RB'), ('here', 'RB'), ('is', 'VBZ'), ('the', 'DT'), ('result', 'NN'), (':', ':'), ('Thirteen', 'CD'), ('years', 'NNS'), ('from', 'IN'), ('now', 'RB'), (',', ','), ('in', 'IN'), ('2018', 'CD'), (',', ','), ('Social', 'NNP'), ('Security', 'NNP'), ('will', 'MD'), ('be', 'VB'), ('paying', 'VBG'), ('out', 'IN'), ('more', 'JJR'), ('than', 'IN'), ('it', 'PRP'), ('takes', 'VBZ'), ('in', 'IN'), ('.', '.')]\n",
      "[('And', 'CC'), ('every', 'DT'), ('year', 'NN'), ('afterward', 'RB'), ('will', 'MD'), ('bring', 'VB'), ('a', 'DT'), ('new', 'JJ'), ('shortfall', 'NN'), (',', ','), ('bigger', 'JJR'), ('than', 'IN'), ('the', 'DT'), ('year', 'NN'), ('before', 'RB'), ('.', '.')]\n",
      "[('For', 'IN'), ('example', 'NN'), (',', ','), ('in', 'IN'), ('the', 'DT'), ('year', 'NN'), ('2027', 'CD'), (',', ','), ('the', 'DT'), ('government', 'NN'), ('will', 'MD'), ('somehow', 'RB'), ('have', 'VB'), ('to', 'TO'), ('come', 'VB'), ('up', 'RP'), ('with', 'IN'), ('an', 'DT'), ('extra', 'JJ'), ('$', '$'), ('200', 'CD'), ('billion', 'CD'), ('to', 'TO'), ('keep', 'VB'), ('the', 'DT'), ('system', 'NN'), ('afloat', 'NN'), ('--', ':'), ('and', 'CC'), ('by', 'IN'), ('2033', 'CD'), (',', ','), ('the', 'DT'), ('annual', 'JJ'), ('shortfall', 'NN'), ('would', 'MD'), ('be', 'VB'), ('more', 'JJR'), ('than', 'IN'), ('$', '$'), ('300', 'CD'), ('billion', 'CD'), ('.', '.')]\n",
      "[('By', 'IN'), ('the', 'DT'), ('year', 'NN'), ('2042', 'CD'), (',', ','), ('the', 'DT'), ('entire', 'JJ'), ('system', 'NN'), ('would', 'MD'), ('be', 'VB'), ('exhausted', 'VBN'), ('and', 'CC'), ('bankrupt', 'JJ'), ('.', '.')]\n",
      "[('If', 'IN'), ('steps', 'NNS'), ('are', 'VBP'), ('not', 'RB'), ('taken', 'VBN'), ('to', 'TO'), ('avert', 'VB'), ('that', 'DT'), ('outcome', 'NN'), (',', ','), ('the', 'DT'), ('only', 'JJ'), ('solutions', 'NNS'), ('would', 'MD'), ('be', 'VB'), ('dramatically', 'RB'), ('higher', 'JJR'), ('taxes', 'NNS'), (',', ','), ('massive', 'JJ'), ('new', 'JJ'), ('borrowing', 'NN'), (',', ','), ('or', 'CC'), ('sudden', 'JJ'), ('and', 'CC'), ('severe', 'JJ'), ('cuts', 'NNS'), ('in', 'IN'), ('Social', 'NNP'), ('Security', 'NNP'), ('benefits', 'NNS'), ('or', 'CC'), ('other', 'JJ'), ('government', 'NN'), ('programs', 'NNS'), ('.', '.')]\n",
      "[('I', 'PRP'), ('recognize', 'VBP'), ('that', 'IN'), ('2018', 'CD'), ('and', 'CC'), ('2042', 'CD'), ('may', 'MD'), ('seem', 'VB'), ('a', 'DT'), ('long', 'JJ'), ('way', 'NN'), ('off', 'IN'), ('.', '.')]\n",
      "[('But', 'CC'), ('those', 'DT'), ('dates', 'NNS'), ('are', 'VBP'), ('not', 'RB'), ('so', 'RB'), ('distant', 'JJ'), (',', ','), ('as', 'IN'), ('any', 'DT'), ('parent', 'NN'), ('will', 'MD'), ('tell', 'VB'), ('you', 'PRP'), ('.', '.')]\n",
      "[('If', 'IN'), ('you', 'PRP'), ('have', 'VBP'), ('a', 'DT'), ('five-year-old', 'JJ'), (',', ','), ('you', 'PRP'), (\"'re\", 'VBP'), ('already', 'RB'), ('concerned', 'VBN'), ('about', 'IN'), ('how', 'WRB'), ('you', 'PRP'), (\"'ll\", 'MD'), ('pay', 'VB'), ('for', 'IN'), ('college', 'NN'), ('tuition', 'NN'), ('13', 'CD'), ('years', 'NNS'), ('down', 'IN'), ('the', 'DT'), ('road', 'NN'), ('.', '.')]\n",
      "[('If', 'IN'), ('you', 'PRP'), (\"'ve\", 'VBP'), ('got', 'VBN'), ('children', 'NNS'), ('in', 'IN'), ('their', 'PRP$'), ('20s', 'CD'), (',', ','), ('as', 'IN'), ('some', 'DT'), ('of', 'IN'), ('us', 'PRP'), ('do', 'VBP'), (',', ','), ('the', 'DT'), ('idea', 'NN'), ('of', 'IN'), ('Social', 'NNP'), ('Security', 'NNP'), ('collapsing', 'VBG'), ('before', 'IN'), ('they', 'PRP'), ('retire', 'VBP'), ('does', 'VBZ'), ('not', 'RB'), ('seem', 'VB'), ('like', 'IN'), ('a', 'DT'), ('small', 'JJ'), ('matter', 'NN'), ('.', '.')]\n",
      "[('And', 'CC'), ('it', 'PRP'), ('should', 'MD'), ('not', 'RB'), ('be', 'VB'), ('a', 'DT'), ('small', 'JJ'), ('matter', 'NN'), ('to', 'TO'), ('the', 'DT'), ('United', 'NNP'), ('States', 'NNPS'), ('Congress', 'NNP'), ('.', '.')]\n",
      "[('(', '('), ('Applause', 'NNP'), ('.', '.'), (')', ')')]\n",
      "[('You', 'PRP'), ('and', 'CC'), ('I', 'PRP'), ('share', 'NN'), ('a', 'DT'), ('responsibility', 'NN'), ('.', '.')]\n",
      "[('We', 'PRP'), ('must', 'MD'), ('pass', 'VB'), ('reforms', 'NNS'), ('that', 'WDT'), ('solve', 'VBP'), ('the', 'DT'), ('financial', 'JJ'), ('problems', 'NNS'), ('of', 'IN'), ('Social', 'NNP'), ('Security', 'NNP'), ('once', 'RB'), ('and', 'CC'), ('for', 'IN'), ('all', 'DT'), ('.', '.')]\n",
      "[('Fixing', 'VBG'), ('Social', 'NNP'), ('Security', 'NNP'), ('permanently', 'RB'), ('will', 'MD'), ('require', 'VB'), ('an', 'DT'), ('open', 'JJ'), (',', ','), ('candid', 'JJ'), ('review', 'NN'), ('of', 'IN'), ('the', 'DT'), ('options', 'NNS'), ('.', '.')]\n",
      "[('Some', 'DT'), ('have', 'VBP'), ('suggested', 'VBN'), ('limiting', 'JJ'), ('benefits', 'NNS'), ('for', 'IN'), ('wealthy', 'JJ'), ('retirees', 'NNS'), ('.', '.')]\n",
      "[('Former', 'NNP'), ('Congressman', 'NNP'), ('Tim', 'NNP'), ('Penny', 'NNP'), ('has', 'VBZ'), ('raised', 'VBN'), ('the', 'DT'), ('possibility', 'NN'), ('of', 'IN'), ('indexing', 'VBG'), ('benefits', 'NNS'), ('to', 'TO'), ('prices', 'NNS'), ('rather', 'RB'), ('than', 'IN'), ('wages', 'NNS'), ('.', '.')]\n",
      "[('During', 'IN'), ('the', 'DT'), ('1990s', 'CD'), (',', ','), ('my', 'PRP$'), ('predecessor', 'NN'), (',', ','), ('President', 'NNP'), ('Clinton', 'NNP'), (',', ','), ('spoke', 'NN'), ('of', 'IN'), ('increasing', 'VBG'), ('the', 'DT'), ('retirement', 'NN'), ('age', 'NN'), ('.', '.')]\n",
      "[('Former', 'NNP'), ('Senator', 'NNP'), ('John', 'NNP'), ('Breaux', 'NNP'), ('suggested', 'VBD'), ('discouraging', 'VBG'), ('early', 'JJ'), ('collection', 'NN'), ('of', 'IN'), ('Social', 'NNP'), ('Security', 'NNP'), ('benefits', 'NNS'), ('.', '.')]\n",
      "[('The', 'DT'), ('late', 'JJ'), ('Senator', 'NNP'), ('Daniel', 'NNP'), ('Patrick', 'NNP'), ('Moynihan', 'NNP'), ('recommended', 'VBD'), ('changing', 'VBG'), ('the', 'DT'), ('way', 'NN'), ('benefits', 'NNS'), ('are', 'VBP'), ('calculated', 'VBN'), ('.', '.')]\n",
      "[('All', 'PDT'), ('these', 'DT'), ('ideas', 'NNS'), ('are', 'VBP'), ('on', 'IN'), ('the', 'DT'), ('table', 'NN'), ('.', '.')]\n",
      "[('I', 'PRP'), ('know', 'VBP'), ('that', 'IN'), ('none', 'NN'), ('of', 'IN'), ('these', 'DT'), ('reforms', 'NNS'), ('would', 'MD'), ('be', 'VB'), ('easy', 'JJ'), ('.', '.')]\n",
      "[('But', 'CC'), ('we', 'PRP'), ('have', 'VBP'), ('to', 'TO'), ('move', 'VB'), ('ahead', 'RB'), ('with', 'IN'), ('courage', 'NN'), ('and', 'CC'), ('honesty', 'NN'), (',', ','), ('because', 'IN'), ('our', 'PRP$'), ('children', 'NNS'), (\"'s\", 'POS'), ('retirement', 'NN'), ('security', 'NN'), ('is', 'VBZ'), ('more', 'RBR'), ('important', 'JJ'), ('than', 'IN'), ('partisan', 'JJ'), ('politics', 'NNS'), ('.', '.')]\n",
      "[('(', '('), ('Applause', 'NNP'), ('.', '.'), (')', ')')]\n",
      "[('I', 'PRP'), ('will', 'MD'), ('work', 'VB'), ('with', 'IN'), ('members', 'NNS'), ('of', 'IN'), ('Congress', 'NNP'), ('to', 'TO'), ('find', 'VB'), ('the', 'DT'), ('most', 'RBS'), ('effective', 'JJ'), ('combination', 'NN'), ('of', 'IN'), ('reforms', 'NNS'), ('.', '.')]\n",
      "[('I', 'PRP'), ('will', 'MD'), ('listen', 'VB'), ('to', 'TO'), ('anyone', 'NN'), ('who', 'WP'), ('has', 'VBZ'), ('a', 'DT'), ('good', 'JJ'), ('idea', 'NN'), ('to', 'TO'), ('offer', 'VB'), ('.', '.')]\n",
      "[('(', '('), ('Applause', 'NNP'), ('.', '.'), (')', ')')]\n",
      "[('We', 'PRP'), ('must', 'MD'), (',', ','), ('however', 'RB'), (',', ','), ('be', 'VB'), ('guided', 'VBN'), ('by', 'IN'), ('some', 'DT'), ('basic', 'JJ'), ('principles', 'NNS'), ('.', '.')]\n",
      "[('We', 'PRP'), ('must', 'MD'), ('make', 'VB'), ('Social', 'NNP'), ('Security', 'NNP'), ('permanently', 'RB'), ('sound', 'VBD'), (',', ','), ('not', 'RB'), ('leave', 'VB'), ('that', 'DT'), ('task', 'NN'), ('for', 'IN'), ('another', 'DT'), ('day', 'NN'), ('.', '.')]\n",
      "[('We', 'PRP'), ('must', 'MD'), ('not', 'RB'), ('jeopardize', 'VB'), ('our', 'PRP$'), ('economic', 'JJ'), ('strength', 'NN'), ('by', 'IN'), ('increasing', 'VBG'), ('payroll', 'NN'), ('taxes', 'NNS'), ('.', '.')]\n",
      "[('We', 'PRP'), ('must', 'MD'), ('ensure', 'VB'), ('that', 'IN'), ('lower-income', 'JJ'), ('Americans', 'NNPS'), ('get', 'VBP'), ('the', 'DT'), ('help', 'NN'), ('they', 'PRP'), ('need', 'VBP'), ('to', 'TO'), ('have', 'VB'), ('dignity', 'NN'), ('and', 'CC'), ('peace', 'NN'), ('of', 'IN'), ('mind', 'NN'), ('in', 'IN'), ('their', 'PRP$'), ('retirement', 'NN'), ('.', '.')]\n",
      "[('We', 'PRP'), ('must', 'MD'), ('guarantee', 'VB'), ('there', 'EX'), ('is', 'VBZ'), ('no', 'DT'), ('change', 'NN'), ('for', 'IN'), ('those', 'DT'), ('now', 'RB'), ('retired', 'JJ'), ('or', 'CC'), ('nearing', 'JJ'), ('retirement', 'NN'), ('.', '.')]\n",
      "[('And', 'CC'), ('we', 'PRP'), ('must', 'MD'), ('take', 'VB'), ('care', 'NN'), ('that', 'IN'), ('any', 'DT'), ('changes', 'NNS'), ('in', 'IN'), ('the', 'DT'), ('system', 'NN'), ('are', 'VBP'), ('gradual', 'JJ'), (',', ','), ('so', 'RB'), ('younger', 'JJR'), ('workers', 'NNS'), ('have', 'VBP'), ('years', 'NNS'), ('to', 'TO'), ('prepare', 'VB'), ('and', 'CC'), ('plan', 'VB'), ('for', 'IN'), ('their', 'PRP$'), ('future', 'NN'), ('.', '.')]\n",
      "[('As', 'IN'), ('we', 'PRP'), ('fix', 'VBP'), ('Social', 'JJ'), ('Security', 'NNP'), (',', ','), ('we', 'PRP'), ('also', 'RB'), ('have', 'VBP'), ('the', 'DT'), ('responsibility', 'NN'), ('to', 'TO'), ('make', 'VB'), ('the', 'DT'), ('system', 'NN'), ('a', 'DT'), ('better', 'JJR'), ('deal', 'NN'), ('for', 'IN'), ('younger', 'JJR'), ('workers', 'NNS'), ('.', '.')]\n",
      "[('And', 'CC'), ('the', 'DT'), ('best', 'JJS'), ('way', 'NN'), ('to', 'TO'), ('reach', 'VB'), ('that', 'DT'), ('goal', 'NN'), ('is', 'VBZ'), ('through', 'IN'), ('voluntary', 'JJ'), ('personal', 'JJ'), ('retirement', 'NN'), ('accounts', 'NNS'), ('.', '.')]\n",
      "[('(', '('), ('Applause', 'NNP'), ('.', '.'), (')', ')')]\n",
      "[('Here', 'RB'), ('is', 'VBZ'), ('how', 'WRB'), ('the', 'DT'), ('idea', 'NN'), ('works', 'VBZ'), ('.', '.')]\n",
      "[('Right', 'RB'), ('now', 'RB'), (',', ','), ('a', 'DT'), ('set', 'NN'), ('portion', 'NN'), ('of', 'IN'), ('the', 'DT'), ('money', 'NN'), ('you', 'PRP'), ('earn', 'VBP'), ('is', 'VBZ'), ('taken', 'VBN'), ('out', 'IN'), ('of', 'IN'), ('your', 'PRP$'), ('paycheck', 'NN'), ('to', 'TO'), ('pay', 'VB'), ('for', 'IN'), ('the', 'DT'), ('Social', 'NNP'), ('Security', 'NNP'), ('benefits', 'NNS'), ('of', 'IN'), ('today', 'NN'), (\"'s\", 'POS'), ('retirees', 'NNS'), ('.', '.')]\n",
      "[('If', 'IN'), ('you', 'PRP'), (\"'re\", 'VBP'), ('a', 'DT'), ('younger', 'JJR'), ('worker', 'NN'), (',', ','), ('I', 'PRP'), ('believe', 'VBP'), ('you', 'PRP'), ('should', 'MD'), ('be', 'VB'), ('able', 'JJ'), ('to', 'TO'), ('set', 'VB'), ('aside', 'RP'), ('part', 'NN'), ('of', 'IN'), ('that', 'DT'), ('money', 'NN'), ('in', 'IN'), ('your', 'PRP$'), ('own', 'JJ'), ('retirement', 'NN'), ('account', 'NN'), (',', ','), ('so', 'IN'), ('you', 'PRP'), ('can', 'MD'), ('build', 'VB'), ('a', 'DT'), ('nest', 'JJS'), ('egg', 'NN'), ('for', 'IN'), ('your', 'PRP$'), ('own', 'JJ'), ('future', 'NN'), ('.', '.')]\n",
      "[('Here', 'RB'), (\"'s\", 'VBZ'), ('why', 'WRB'), ('the', 'DT'), ('personal', 'JJ'), ('accounts', 'NNS'), ('are', 'VBP'), ('a', 'DT'), ('better', 'JJR'), ('deal', 'NN'), ('.', '.')]\n",
      "[('Your', 'PRP$'), ('money', 'NN'), ('will', 'MD'), ('grow', 'VB'), (',', ','), ('over', 'IN'), ('time', 'NN'), (',', ','), ('at', 'IN'), ('a', 'DT'), ('greater', 'JJR'), ('rate', 'NN'), ('than', 'IN'), ('anything', 'NN'), ('the', 'DT'), ('current', 'JJ'), ('system', 'NN'), ('can', 'MD'), ('deliver', 'VB'), ('--', ':'), ('and', 'CC'), ('your', 'PRP$'), ('account', 'NN'), ('will', 'MD'), ('provide', 'VB'), ('money', 'NN'), ('for', 'IN'), ('retirement', 'NN'), ('over', 'IN'), ('and', 'CC'), ('above', 'IN'), ('the', 'DT'), ('check', 'NN'), ('you', 'PRP'), ('will', 'MD'), ('receive', 'VB'), ('from', 'IN'), ('Social', 'NNP'), ('Security', 'NNP'), ('.', '.')]\n",
      "[('In', 'IN'), ('addition', 'NN'), (',', ','), ('you', 'PRP'), (\"'ll\", 'MD'), ('be', 'VB'), ('able', 'JJ'), ('to', 'TO'), ('pass', 'VB'), ('along', 'IN'), ('the', 'DT'), ('money', 'NN'), ('that', 'WDT'), ('accumulates', 'VBZ'), ('in', 'IN'), ('your', 'PRP$'), ('personal', 'JJ'), ('account', 'NN'), (',', ','), ('if', 'IN'), ('you', 'PRP'), ('wish', 'VBP'), (',', ','), ('to', 'TO'), ('your', 'PRP$'), ('children', 'NNS'), ('and', 'CC'), ('--', ':'), ('or', 'CC'), ('grandchildren', 'NNS'), ('.', '.')]\n",
      "[('And', 'CC'), ('best', 'JJS'), ('of', 'IN'), ('all', 'DT'), (',', ','), ('the', 'DT'), ('money', 'NN'), ('in', 'IN'), ('the', 'DT'), ('account', 'NN'), ('is', 'VBZ'), ('yours', 'RB'), (',', ','), ('and', 'CC'), ('the', 'DT'), ('government', 'NN'), ('can', 'MD'), ('never', 'RB'), ('take', 'VB'), ('it', 'PRP'), ('away', 'RB'), ('.', '.')]\n",
      "[('(', '('), ('Applause', 'NNP'), ('.', '.'), (')', ')')]\n",
      "[('The', 'DT'), ('goal', 'NN'), ('here', 'RB'), ('is', 'VBZ'), ('greater', 'JJR'), ('security', 'NN'), ('in', 'IN'), ('retirement', 'NN'), (',', ','), ('so', 'IN'), ('we', 'PRP'), ('will', 'MD'), ('set', 'VB'), ('careful', 'JJ'), ('guidelines', 'NNS'), ('for', 'IN'), ('personal', 'JJ'), ('accounts', 'NNS'), ('.', '.')]\n",
      "[('We', 'PRP'), (\"'ll\", 'MD'), ('make', 'VB'), ('sure', 'JJ'), ('the', 'DT'), ('money', 'NN'), ('can', 'MD'), ('only', 'RB'), ('go', 'VB'), ('into', 'IN'), ('a', 'DT'), ('conservative', 'JJ'), ('mix', 'NN'), ('of', 'IN'), ('bonds', 'NNS'), ('and', 'CC'), ('stock', 'NN'), ('funds', 'NNS'), ('.', '.')]\n",
      "[('We', 'PRP'), (\"'ll\", 'MD'), ('make', 'VB'), ('sure', 'JJ'), ('that', 'IN'), ('your', 'PRP$'), ('earnings', 'NNS'), ('are', 'VBP'), ('not', 'RB'), ('eaten', 'VBN'), ('up', 'RP'), ('by', 'IN'), ('hidden', 'NN'), ('Wall', 'NNP'), ('Street', 'NNP'), ('fees', 'NNS'), ('.', '.')]\n",
      "[('We', 'PRP'), (\"'ll\", 'MD'), ('make', 'VB'), ('sure', 'JJ'), ('there', 'EX'), ('are', 'VBP'), ('good', 'JJ'), ('options', 'NNS'), ('to', 'TO'), ('protect', 'VB'), ('your', 'PRP$'), ('investments', 'NNS'), ('from', 'IN'), ('sudden', 'JJ'), ('market', 'NN'), ('swings', 'NNS'), ('on', 'IN'), ('the', 'DT'), ('eve', 'NN'), ('of', 'IN'), ('your', 'PRP$'), ('retirement', 'NN'), ('.', '.')]\n",
      "[('We', 'PRP'), (\"'ll\", 'MD'), ('make', 'VB'), ('sure', 'JJ'), ('a', 'DT'), ('personal', 'JJ'), ('account', 'NN'), ('can', 'MD'), ('not', 'RB'), ('be', 'VB'), ('emptied', 'VBN'), ('out', 'IN'), ('all', 'DT'), ('at', 'IN'), ('once', 'RB'), (',', ','), ('but', 'CC'), ('rather', 'RB'), ('paid', 'VBD'), ('out', 'RP'), ('over', 'IN'), ('time', 'NN'), (',', ','), ('as', 'IN'), ('an', 'DT'), ('addition', 'NN'), ('to', 'TO'), ('traditional', 'JJ'), ('Social', 'NNP'), ('Security', 'NNP'), ('benefits', 'NNS'), ('.', '.')]\n",
      "[('And', 'CC'), ('we', 'PRP'), (\"'ll\", 'MD'), ('make', 'VB'), ('sure', 'JJ'), ('this', 'DT'), ('plan', 'NN'), ('is', 'VBZ'), ('fiscally', 'RB'), ('responsible', 'JJ'), (',', ','), ('by', 'IN'), ('starting', 'VBG'), ('personal', 'JJ'), ('retirement', 'NN'), ('accounts', 'NNS'), ('gradually', 'RB'), (',', ','), ('and', 'CC'), ('raising', 'VBG'), ('the', 'DT'), ('yearly', 'JJ'), ('limits', 'NNS'), ('on', 'IN'), ('contributions', 'NNS'), ('over', 'IN'), ('time', 'NN'), (',', ','), ('eventually', 'RB'), ('permitting', 'VBG'), ('all', 'DT'), ('workers', 'NNS'), ('to', 'TO'), ('set', 'VB'), ('aside', 'RB'), ('four', 'CD'), ('percentage', 'NN'), ('points', 'NNS'), ('of', 'IN'), ('their', 'PRP$'), ('payroll', 'NN'), ('taxes', 'NNS'), ('in', 'IN'), ('their', 'PRP$'), ('accounts', 'NNS'), ('.', '.')]\n",
      "[('Personal', 'JJ'), ('retirement', 'NN'), ('accounts', 'NNS'), ('should', 'MD'), ('be', 'VB'), ('familiar', 'JJ'), ('to', 'TO'), ('federal', 'JJ'), ('employees', 'NNS'), (',', ','), ('because', 'IN'), ('you', 'PRP'), ('already', 'RB'), ('have', 'VBP'), ('something', 'NN'), ('similar', 'JJ'), (',', ','), ('called', 'VBD'), ('the', 'DT'), ('Thrift', 'NNP'), ('Savings', 'NNPS'), ('Plan', 'NNP'), (',', ','), ('which', 'WDT'), ('lets', 'VBZ'), ('workers', 'NNS'), ('deposit', 'VB'), ('a', 'DT'), ('portion', 'NN'), ('of', 'IN'), ('their', 'PRP$'), ('paychecks', 'NNS'), ('into', 'IN'), ('any', 'DT'), ('of', 'IN'), ('five', 'CD'), ('different', 'JJ'), ('broadly-based', 'JJ'), ('investment', 'NN'), ('funds', 'NNS'), ('.', '.')]\n",
      "[('It', 'PRP'), (\"'s\", 'VBZ'), ('time', 'NN'), ('to', 'TO'), ('extend', 'VB'), ('the', 'DT'), ('same', 'JJ'), ('security', 'NN'), (',', ','), ('and', 'CC'), ('choice', 'NN'), (',', ','), ('and', 'CC'), ('ownership', 'NN'), ('to', 'TO'), ('young', 'JJ'), ('Americans', 'NNPS'), ('.', '.')]\n",
      "[('(', '('), ('Applause', 'NNP'), ('.', '.'), (')', ')')]\n",
      "[('Our', 'PRP$'), ('second', 'JJ'), ('great', 'JJ'), ('responsibility', 'NN'), ('to', 'TO'), ('our', 'PRP$'), ('children', 'NNS'), ('and', 'CC'), ('grandchildren', 'NN'), ('is', 'VBZ'), ('to', 'TO'), ('honor', 'VB'), ('and', 'CC'), ('to', 'TO'), ('pass', 'VB'), ('along', 'IN'), ('the', 'DT'), ('values', 'NNS'), ('that', 'WDT'), ('sustain', 'VBP'), ('a', 'DT'), ('free', 'JJ'), ('society', 'NN'), ('.', '.')]\n",
      "[('So', 'RB'), ('many', 'JJ'), ('of', 'IN'), ('my', 'PRP$'), ('generation', 'NN'), (',', ','), ('after', 'IN'), ('a', 'DT'), ('long', 'JJ'), ('journey', 'NN'), (',', ','), ('have', 'VBP'), ('come', 'VBN'), ('home', 'NN'), ('to', 'TO'), ('family', 'NN'), ('and', 'CC'), ('faith', 'NN'), (',', ','), ('and', 'CC'), ('are', 'VBP'), ('determined', 'VBN'), ('to', 'TO'), ('bring', 'VB'), ('up', 'RP'), ('responsible', 'JJ'), (',', ','), ('moral', 'JJ'), ('children', 'NNS'), ('.', '.')]\n",
      "[('Government', 'NNP'), ('is', 'VBZ'), ('not', 'RB'), ('the', 'DT'), ('source', 'NN'), ('of', 'IN'), ('these', 'DT'), ('values', 'NNS'), (',', ','), ('but', 'CC'), ('government', 'NN'), ('should', 'MD'), ('never', 'RB'), ('undermine', 'VB'), ('them', 'PRP'), ('.', '.')]\n",
      "[('Because', 'IN'), ('marriage', 'NN'), ('is', 'VBZ'), ('a', 'DT'), ('sacred', 'JJ'), ('institution', 'NN'), ('and', 'CC'), ('the', 'DT'), ('foundation', 'NN'), ('of', 'IN'), ('society', 'NN'), (',', ','), ('it', 'PRP'), ('should', 'MD'), ('not', 'RB'), ('be', 'VB'), ('re-defined', 'VBN'), ('by', 'IN'), ('activist', 'NN'), ('judges', 'NNS'), ('.', '.')]\n",
      "[('For', 'IN'), ('the', 'DT'), ('good', 'JJ'), ('of', 'IN'), ('families', 'NNS'), (',', ','), ('children', 'NNS'), (',', ','), ('and', 'CC'), ('society', 'NN'), (',', ','), ('I', 'PRP'), ('support', 'VBP'), ('a', 'DT'), ('constitutional', 'JJ'), ('amendment', 'NN'), ('to', 'TO'), ('protect', 'VB'), ('the', 'DT'), ('institution', 'NN'), ('of', 'IN'), ('marriage', 'NN'), ('.', '.')]\n",
      "[('(', '('), ('Applause', 'NNP'), ('.', '.'), (')', ')')]\n",
      "[('Because', 'IN'), ('a', 'DT'), ('society', 'NN'), ('is', 'VBZ'), ('measured', 'VBN'), ('by', 'IN'), ('how', 'WRB'), ('it', 'PRP'), ('treats', 'VBZ'), ('the', 'DT'), ('weak', 'JJ'), ('and', 'CC'), ('vulnerable', 'JJ'), (',', ','), ('we', 'PRP'), ('must', 'MD'), ('strive', 'VB'), ('to', 'TO'), ('build', 'VB'), ('a', 'DT'), ('culture', 'NN'), ('of', 'IN'), ('life', 'NN'), ('.', '.')]\n",
      "[('Medical', 'JJ'), ('research', 'NN'), ('can', 'MD'), ('help', 'VB'), ('us', 'PRP'), ('reach', 'VB'), ('that', 'DT'), ('goal', 'NN'), (',', ','), ('by', 'IN'), ('developing', 'VBG'), ('treatments', 'NNS'), ('and', 'CC'), ('cures', 'NNS'), ('that', 'WDT'), ('save', 'VBP'), ('lives', 'NNS'), ('and', 'CC'), ('help', 'NN'), ('people', 'NNS'), ('overcome', 'VBP'), ('disabilities', 'NNS'), ('--', ':'), ('and', 'CC'), ('I', 'PRP'), ('thank', 'VBP'), ('the', 'DT'), ('Congress', 'NNP'), ('for', 'IN'), ('doubling', 'VBG'), ('the', 'DT'), ('funding', 'NN'), ('of', 'IN'), ('the', 'DT'), ('National', 'NNP'), ('Institutes', 'NNPS'), ('of', 'IN'), ('Health', 'NNP'), ('.', '.')]\n",
      "[('(', '('), ('Applause', 'NNP'), ('.', '.'), (')', ')')]\n",
      "[('To', 'TO'), ('build', 'VB'), ('a', 'DT'), ('culture', 'NN'), ('of', 'IN'), ('life', 'NN'), (',', ','), ('we', 'PRP'), ('must', 'MD'), ('also', 'RB'), ('ensure', 'VB'), ('that', 'IN'), ('scientific', 'JJ'), ('advances', 'NNS'), ('always', 'RB'), ('serve', 'VBP'), ('human', 'JJ'), ('dignity', 'NN'), (',', ','), ('not', 'RB'), ('take', 'VB'), ('advantage', 'NN'), ('of', 'IN'), ('some', 'DT'), ('lives', 'NNS'), ('for', 'IN'), ('the', 'DT'), ('benefit', 'NN'), ('of', 'IN'), ('others', 'NNS'), ('.', '.')]\n",
      "[('We', 'PRP'), ('should', 'MD'), ('all', 'DT'), ('be', 'VB'), ('able', 'JJ'), ('to', 'TO'), ('agree', 'VB'), ('--', ':'), ('(', '('), ('applause', 'NN'), (')', ')'), ('--', ':'), ('we', 'PRP'), ('should', 'MD'), ('all', 'DT'), ('be', 'VB'), ('able', 'JJ'), ('to', 'TO'), ('agree', 'VB'), ('on', 'IN'), ('some', 'DT'), ('clear', 'JJ'), ('standards', 'NNS'), ('.', '.')]\n",
      "[('I', 'PRP'), ('will', 'MD'), ('work', 'VB'), ('with', 'IN'), ('Congress', 'NNP'), ('to', 'TO'), ('ensure', 'VB'), ('that', 'IN'), ('human', 'JJ'), ('embryos', 'NNS'), ('are', 'VBP'), ('not', 'RB'), ('created', 'VBN'), ('for', 'IN'), ('experimentation', 'NN'), ('or', 'CC'), ('grown', 'VBN'), ('for', 'IN'), ('body', 'NN'), ('parts', 'NNS'), (',', ','), ('and', 'CC'), ('that', 'IN'), ('human', 'JJ'), ('life', 'NN'), ('is', 'VBZ'), ('never', 'RB'), ('bought', 'VBN'), ('and', 'CC'), ('sold', 'VBN'), ('as', 'IN'), ('a', 'DT'), ('commodity', 'NN'), ('.', '.')]\n",
      "[('(', '('), ('Applause', 'NNP'), ('.', '.'), (')', ')')]\n",
      "[('America', 'NNP'), ('will', 'MD'), ('continue', 'VB'), ('to', 'TO'), ('lead', 'VB'), ('the', 'DT'), ('world', 'NN'), ('in', 'IN'), ('medical', 'JJ'), ('research', 'NN'), ('that', 'WDT'), ('is', 'VBZ'), ('ambitious', 'JJ'), (',', ','), ('aggressive', 'JJ'), (',', ','), ('and', 'CC'), ('always', 'RB'), ('ethical', 'JJ'), ('.', '.')]\n",
      "[('Because', 'IN'), ('courts', 'NNS'), ('must', 'MD'), ('always', 'RB'), ('deliver', 'VB'), ('impartial', 'JJ'), ('justice', 'NN'), (',', ','), ('judges', 'NNS'), ('have', 'VBP'), ('a', 'DT'), ('duty', 'NN'), ('to', 'TO'), ('faithfully', 'RB'), ('interpret', 'VB'), ('the', 'DT'), ('law', 'NN'), (',', ','), ('not', 'RB'), ('legislate', 'VB'), ('from', 'IN'), ('the', 'DT'), ('bench', 'NN'), ('.', '.')]\n",
      "[('(', '('), ('Applause', 'NNP'), ('.', '.'), (')', ')')]\n",
      "[('As', 'IN'), ('President', 'NNP'), (',', ','), ('I', 'PRP'), ('have', 'VBP'), ('a', 'DT'), ('constitutional', 'JJ'), ('responsibility', 'NN'), ('to', 'TO'), ('nominate', 'VB'), ('men', 'NNS'), ('and', 'CC'), ('women', 'NNS'), ('who', 'WP'), ('understand', 'VBP'), ('the', 'DT'), ('role', 'NN'), ('of', 'IN'), ('courts', 'NNS'), ('in', 'IN'), ('our', 'PRP$'), ('democracy', 'NN'), (',', ','), ('and', 'CC'), ('are', 'VBP'), ('well-qualified', 'JJ'), ('to', 'TO'), ('serve', 'VB'), ('on', 'IN'), ('the', 'DT'), ('bench', 'NN'), ('--', ':'), ('and', 'CC'), ('I', 'PRP'), ('have', 'VBP'), ('done', 'VBN'), ('so', 'RB'), ('.', '.')]\n",
      "[('(', '('), ('Applause', 'NNP'), ('.', '.'), (')', ')')]\n",
      "[('The', 'DT'), ('Constitution', 'NNP'), ('also', 'RB'), ('gives', 'VBZ'), ('the', 'DT'), ('Senate', 'NNP'), ('a', 'DT'), ('responsibility', 'NN'), (':', ':'), ('Every', 'DT'), ('judicial', 'JJ'), ('nominee', 'NN'), ('deserves', 'VBZ'), ('an', 'DT'), ('up', 'NN'), ('or', 'CC'), ('down', 'RB'), ('vote', 'NN'), ('.', '.')]\n",
      "[('(', '('), ('Applause', 'NNP'), ('.', '.'), (')', ')')]\n",
      "[('Because', 'IN'), ('one', 'CD'), ('of', 'IN'), ('the', 'DT'), ('deepest', 'JJS'), ('values', 'NNS'), ('of', 'IN'), ('our', 'PRP$'), ('country', 'NN'), ('is', 'VBZ'), ('compassion', 'JJ'), (',', ','), ('we', 'PRP'), ('must', 'MD'), ('never', 'RB'), ('turn', 'VB'), ('away', 'RP'), ('from', 'IN'), ('any', 'DT'), ('citizen', 'NN'), ('who', 'WP'), ('feels', 'VBZ'), ('isolated', 'VBN'), ('from', 'IN'), ('the', 'DT'), ('opportunities', 'NNS'), ('of', 'IN'), ('America', 'NNP'), ('.', '.')]\n",
      "[('Our', 'PRP$'), ('government', 'NN'), ('will', 'MD'), ('continue', 'VB'), ('to', 'TO'), ('support', 'VB'), ('faith-based', 'JJ'), ('and', 'CC'), ('community', 'NN'), ('groups', 'NNS'), ('that', 'IN'), ('bring', 'VBG'), ('hope', 'NN'), ('to', 'TO'), ('harsh', 'VB'), ('places', 'NNS'), ('.', '.')]\n",
      "[('Now', 'RB'), ('we', 'PRP'), ('need', 'VBP'), ('to', 'TO'), ('focus', 'VB'), ('on', 'IN'), ('giving', 'VBG'), ('young', 'JJ'), ('people', 'NNS'), (',', ','), ('especially', 'RB'), ('young', 'JJ'), ('men', 'NNS'), ('in', 'IN'), ('our', 'PRP$'), ('cities', 'NNS'), (',', ','), ('better', 'JJR'), ('options', 'NNS'), ('than', 'IN'), ('apathy', 'JJ'), (',', ','), ('or', 'CC'), ('gangs', 'NNS'), (',', ','), ('or', 'CC'), ('jail', 'NN'), ('.', '.')]\n",
      "[('Tonight', 'NNP'), ('I', 'PRP'), ('propose', 'VBP'), ('a', 'DT'), ('three-year', 'JJ'), ('initiative', 'NN'), ('to', 'TO'), ('help', 'VB'), ('organizations', 'NNS'), ('keep', 'VB'), ('young', 'JJ'), ('people', 'NNS'), ('out', 'IN'), ('of', 'IN'), ('gangs', 'NNS'), (',', ','), ('and', 'CC'), ('show', 'VB'), ('young', 'JJ'), ('men', 'NNS'), ('an', 'DT'), ('ideal', 'NN'), ('of', 'IN'), ('manhood', 'NN'), ('that', 'WDT'), ('respects', 'VBZ'), ('women', 'NNS'), ('and', 'CC'), ('rejects', 'NNS'), ('violence', 'NN'), ('.', '.')]\n",
      "[('(', '('), ('Applause', 'NNP'), ('.', '.'), (')', ')')]\n",
      "[('Taking', 'VBG'), ('on', 'IN'), ('gang', 'NN'), ('life', 'NN'), ('will', 'MD'), ('be', 'VB'), ('one', 'CD'), ('part', 'NN'), ('of', 'IN'), ('a', 'DT'), ('broader', 'JJR'), ('outreach', 'NN'), ('to', 'TO'), ('at-risk', 'JJ'), ('youth', 'NN'), (',', ','), ('which', 'WDT'), ('involves', 'VBZ'), ('parents', 'NNS'), ('and', 'CC'), ('pastors', 'NNS'), (',', ','), ('coaches', 'NNS'), ('and', 'CC'), ('community', 'NN'), ('leaders', 'NNS'), (',', ','), ('in', 'IN'), ('programs', 'NNS'), ('ranging', 'VBG'), ('from', 'IN'), ('literacy', 'NN'), ('to', 'TO'), ('sports', 'NNS'), ('.', '.')]\n",
      "[('And', 'CC'), ('I', 'PRP'), ('am', 'VBP'), ('proud', 'JJ'), ('that', 'IN'), ('the', 'DT'), ('leader', 'NN'), ('of', 'IN'), ('this', 'DT'), ('nationwide', 'JJ'), ('effort', 'NN'), ('will', 'MD'), ('be', 'VB'), ('our', 'PRP$'), ('First', 'NNP'), ('Lady', 'NNP'), (',', ','), ('Laura', 'NNP'), ('Bush', 'NNP'), ('.', '.')]\n",
      "[('(', '('), ('Applause', 'NNP'), ('.', '.'), (')', ')')]\n",
      "[('Because', 'IN'), ('HIV/AIDS', 'NNP'), ('brings', 'VBZ'), ('suffering', 'NN'), ('and', 'CC'), ('fear', 'NN'), ('into', 'IN'), ('so', 'RB'), ('many', 'JJ'), ('lives', 'NNS'), (',', ','), ('I', 'PRP'), ('ask', 'VBP'), ('you', 'PRP'), ('to', 'TO'), ('reauthorize', 'VB'), ('the', 'DT'), ('Ryan', 'NNP'), ('White', 'NNP'), ('Act', 'NNP'), ('to', 'TO'), ('encourage', 'VB'), ('prevention', 'NN'), (',', ','), ('and', 'CC'), ('provide', 'VB'), ('care', 'NN'), ('and', 'CC'), ('treatment', 'NN'), ('to', 'TO'), ('the', 'DT'), ('victims', 'NNS'), ('of', 'IN'), ('that', 'DT'), ('disease', 'NN'), ('.', '.')]\n",
      "[('(', '('), ('Applause', 'NNP'), ('.', '.'), (')', ')')]\n",
      "[('And', 'CC'), ('as', 'IN'), ('we', 'PRP'), ('update', 'VBP'), ('this', 'DT'), ('important', 'JJ'), ('law', 'NN'), (',', ','), ('we', 'PRP'), ('must', 'MD'), ('focus', 'VB'), ('our', 'PRP$'), ('efforts', 'NNS'), ('on', 'IN'), ('fellow', 'JJ'), ('citizens', 'NNS'), ('with', 'IN'), ('the', 'DT'), ('highest', 'JJS'), ('rates', 'NNS'), ('of', 'IN'), ('new', 'JJ'), ('cases', 'NNS'), (',', ','), ('African', 'JJ'), ('American', 'JJ'), ('men', 'NNS'), ('and', 'CC'), ('women', 'NNS'), ('.', '.')]\n",
      "[('(', '('), ('Applause', 'NNP'), ('.', '.'), (')', ')')]\n",
      "[('Because', 'IN'), ('one', 'CD'), ('of', 'IN'), ('the', 'DT'), ('main', 'JJ'), ('sources', 'NNS'), ('of', 'IN'), ('our', 'PRP$'), ('national', 'JJ'), ('unity', 'NN'), ('is', 'VBZ'), ('our', 'PRP$'), ('belief', 'NN'), ('in', 'IN'), ('equal', 'JJ'), ('justice', 'NN'), (',', ','), ('we', 'PRP'), ('need', 'VBP'), ('to', 'TO'), ('make', 'VB'), ('sure', 'JJ'), ('Americans', 'NNPS'), ('of', 'IN'), ('all', 'DT'), ('races', 'NNS'), ('and', 'CC'), ('backgrounds', 'NNS'), ('have', 'VBP'), ('confidence', 'NN'), ('in', 'IN'), ('the', 'DT'), ('system', 'NN'), ('that', 'WDT'), ('provides', 'VBZ'), ('justice', 'NN'), ('.', '.')]\n",
      "[('In', 'IN'), ('America', 'NNP'), ('we', 'PRP'), ('must', 'MD'), ('make', 'VB'), ('doubly', 'RB'), ('sure', 'JJ'), ('no', 'DT'), ('person', 'NN'), ('is', 'VBZ'), ('held', 'VBN'), ('to', 'TO'), ('account', 'VB'), ('for', 'IN'), ('a', 'DT'), ('crime', 'NN'), ('he', 'PRP'), ('or', 'CC'), ('she', 'PRP'), ('did', 'VBD'), ('not', 'RB'), ('commit', 'VB'), ('--', ':'), ('so', 'IN'), ('we', 'PRP'), ('are', 'VBP'), ('dramatically', 'RB'), ('expanding', 'VBG'), ('the', 'DT'), ('use', 'NN'), ('of', 'IN'), ('DNA', 'NNP'), ('evidence', 'NN'), ('to', 'TO'), ('prevent', 'VB'), ('wrongful', 'JJ'), ('conviction', 'NN'), ('.', '.')]\n",
      "[('(', '('), ('Applause', 'NNP'), ('.', '.'), (')', ')')]\n",
      "[('Soon', 'RB'), ('I', 'PRP'), ('will', 'MD'), ('send', 'VB'), ('to', 'TO'), ('Congress', 'NNP'), ('a', 'DT'), ('proposal', 'NN'), ('to', 'TO'), ('fund', 'VB'), ('special', 'JJ'), ('training', 'NN'), ('for', 'IN'), ('defense', 'NN'), ('counsel', 'NN'), ('in', 'IN'), ('capital', 'NN'), ('cases', 'NNS'), (',', ','), ('because', 'IN'), ('people', 'NNS'), ('on', 'IN'), ('trial', 'NN'), ('for', 'IN'), ('their', 'PRP$'), ('lives', 'NNS'), ('must', 'MD'), ('have', 'VB'), ('competent', 'NN'), ('lawyers', 'NNS'), ('by', 'IN'), ('their', 'PRP$'), ('side', 'NN'), ('.', '.')]\n",
      "[('(', '('), ('Applause', 'NNP'), ('.', '.'), (')', ')')]\n",
      "[('Our', 'PRP$'), ('third', 'JJ'), ('responsibility', 'NN'), ('to', 'TO'), ('future', 'JJ'), ('generations', 'NNS'), ('is', 'VBZ'), ('to', 'TO'), ('leave', 'VB'), ('them', 'PRP'), ('an', 'DT'), ('America', 'NNP'), ('that', 'WDT'), ('is', 'VBZ'), ('safe', 'JJ'), ('from', 'IN'), ('danger', 'NN'), (',', ','), ('and', 'CC'), ('protected', 'VBN'), ('by', 'IN'), ('peace', 'NN'), ('.', '.')]\n",
      "[('We', 'PRP'), ('will', 'MD'), ('pass', 'VB'), ('along', 'RB'), ('to', 'TO'), ('our', 'PRP$'), ('children', 'NNS'), ('all', 'PDT'), ('the', 'DT'), ('freedoms', 'NNS'), ('we', 'PRP'), ('enjoy', 'VBP'), ('--', ':'), ('and', 'CC'), ('chief', 'JJ'), ('among', 'IN'), ('them', 'PRP'), ('is', 'VBZ'), ('freedom', 'NN'), ('from', 'IN'), ('fear', 'NN'), ('.', '.')]\n",
      "[('In', 'IN'), ('the', 'DT'), ('three', 'CD'), ('and', 'CC'), ('a', 'DT'), ('half', 'NN'), ('years', 'NNS'), ('since', 'IN'), ('September', 'NNP'), ('the', 'DT'), ('11th', 'CD'), (',', ','), ('2001', 'CD'), (',', ','), ('we', 'PRP'), ('have', 'VBP'), ('taken', 'VBN'), ('unprecedented', 'JJ'), ('actions', 'NNS'), ('to', 'TO'), ('protect', 'VB'), ('Americans', 'NNPS'), ('.', '.')]\n",
      "[('We', 'PRP'), (\"'ve\", 'VBP'), ('created', 'VBN'), ('a', 'DT'), ('new', 'JJ'), ('department', 'NN'), ('of', 'IN'), ('government', 'NN'), ('to', 'TO'), ('defend', 'VB'), ('our', 'PRP$'), ('homeland', 'NN'), (',', ','), ('focused', 'VBD'), ('the', 'DT'), ('FBI', 'NNP'), ('on', 'IN'), ('preventing', 'VBG'), ('terrorism', 'NN'), (',', ','), ('begun', 'VBN'), ('to', 'TO'), ('reform', 'VB'), ('our', 'PRP$'), ('intelligence', 'NN'), ('agencies', 'NNS'), (',', ','), ('broken', 'VBD'), ('up', 'RP'), ('terror', 'NN'), ('cells', 'NNS'), ('across', 'IN'), ('the', 'DT'), ('country', 'NN'), (',', ','), ('expanded', 'VBN'), ('research', 'NN'), ('on', 'IN'), ('defenses', 'NNS'), ('against', 'IN'), ('biological', 'JJ'), ('and', 'CC'), ('chemical', 'JJ'), ('attack', 'NN'), (',', ','), ('improved', 'VBN'), ('border', 'NN'), ('security', 'NN'), (',', ','), ('and', 'CC'), ('trained', 'VBD'), ('more', 'JJR'), ('than', 'IN'), ('a', 'DT'), ('half-million', 'NN'), ('first', 'JJ'), ('responders', 'NNS'), ('.', '.')]\n",
      "[('Police', 'NNP'), ('and', 'CC'), ('firefighters', 'NNS'), (',', ','), ('air', 'NN'), ('marshals', 'NNS'), (',', ','), ('researchers', 'NNS'), (',', ','), ('and', 'CC'), ('so', 'RB'), ('many', 'JJ'), ('others', 'NNS'), ('are', 'VBP'), ('working', 'VBG'), ('every', 'DT'), ('day', 'NN'), ('to', 'TO'), ('make', 'VB'), ('our', 'PRP$'), ('homeland', 'NN'), ('safer', 'NN'), (',', ','), ('and', 'CC'), ('we', 'PRP'), ('thank', 'VBP'), ('them', 'PRP'), ('all', 'DT'), ('.', '.')]\n",
      "[('(', '('), ('Applause', 'NNP'), ('.', '.'), (')', ')')]\n",
      "[('Our', 'PRP$'), ('nation', 'NN'), (',', ','), ('working', 'VBG'), ('with', 'IN'), ('allies', 'NNS'), ('and', 'CC'), ('friends', 'NNS'), (',', ','), ('has', 'VBZ'), ('also', 'RB'), ('confronted', 'VBN'), ('the', 'DT'), ('enemy', 'NN'), ('abroad', 'RB'), (',', ','), ('with', 'IN'), ('measures', 'NNS'), ('that', 'WDT'), ('are', 'VBP'), ('determined', 'VBN'), (',', ','), ('successful', 'JJ'), (',', ','), ('and', 'CC'), ('continuing', 'VBG'), ('.', '.')]\n",
      "[('The', 'DT'), ('al', 'NN'), ('Qaeda', 'NNP'), ('terror', 'NN'), ('network', 'NN'), ('that', 'WDT'), ('attacked', 'VBD'), ('our', 'PRP$'), ('country', 'NN'), ('still', 'RB'), ('has', 'VBZ'), ('leaders', 'NNS'), ('--', ':'), ('but', 'CC'), ('many', 'JJ'), ('of', 'IN'), ('its', 'PRP$'), ('top', 'JJ'), ('commanders', 'NNS'), ('have', 'VBP'), ('been', 'VBN'), ('removed', 'VBN'), ('.', '.')]\n",
      "[('There', 'EX'), ('are', 'VBP'), ('still', 'RB'), ('governments', 'NNS'), ('that', 'IN'), ('sponsor', 'NN'), ('and', 'CC'), ('harbor', 'NN'), ('terrorists', 'NNS'), ('--', ':'), ('but', 'CC'), ('their', 'PRP$'), ('number', 'NN'), ('has', 'VBZ'), ('declined', 'VBN'), ('.', '.')]\n",
      "[('There', 'EX'), ('are', 'VBP'), ('still', 'RB'), ('regimes', 'NNS'), ('seeking', 'VBG'), ('weapons', 'NNS'), ('of', 'IN'), ('mass', 'NN'), ('destruction', 'NN'), ('--', ':'), ('but', 'CC'), ('no', 'DT'), ('longer', 'RB'), ('without', 'IN'), ('attention', 'NN'), ('and', 'CC'), ('without', 'IN'), ('consequence', 'NN'), ('.', '.')]\n",
      "[('Our', 'PRP$'), ('country', 'NN'), ('is', 'VBZ'), ('still', 'RB'), ('the', 'DT'), ('target', 'NN'), ('of', 'IN'), ('terrorists', 'NNS'), ('who', 'WP'), ('want', 'VBP'), ('to', 'TO'), ('kill', 'VB'), ('many', 'JJ'), (',', ','), ('and', 'CC'), ('intimidate', 'VB'), ('us', 'PRP'), ('all', 'DT'), ('--', ':'), ('and', 'CC'), ('we', 'PRP'), ('will', 'MD'), ('stay', 'VB'), ('on', 'IN'), ('the', 'DT'), ('offensive', 'JJ'), ('against', 'IN'), ('them', 'PRP'), (',', ','), ('until', 'IN'), ('the', 'DT'), ('fight', 'NN'), ('is', 'VBZ'), ('won', 'VBN'), ('.', '.')]\n",
      "[('(', '('), ('Applause', 'NNP'), ('.', '.'), (')', ')')]\n",
      "[('Pursuing', 'VBG'), ('our', 'PRP$'), ('enemies', 'NNS'), ('is', 'VBZ'), ('a', 'DT'), ('vital', 'JJ'), ('commitment', 'NN'), ('of', 'IN'), ('the', 'DT'), ('war', 'NN'), ('on', 'IN'), ('terror', 'NN'), ('--', ':'), ('and', 'CC'), ('I', 'PRP'), ('thank', 'VBP'), ('the', 'DT'), ('Congress', 'NNP'), ('for', 'IN'), ('providing', 'VBG'), ('our', 'PRP$'), ('servicemen', 'NNS'), ('and', 'CC'), ('women', 'NNS'), ('with', 'IN'), ('the', 'DT'), ('resources', 'NNS'), ('they', 'PRP'), ('have', 'VBP'), ('needed', 'VBN'), ('.', '.')]\n",
      "[('During', 'IN'), ('this', 'DT'), ('time', 'NN'), ('of', 'IN'), ('war', 'NN'), (',', ','), ('we', 'PRP'), ('must', 'MD'), ('continue', 'VB'), ('to', 'TO'), ('support', 'VB'), ('our', 'PRP$'), ('military', 'JJ'), ('and', 'CC'), ('give', 'VB'), ('them', 'PRP'), ('the', 'DT'), ('tools', 'NNS'), ('for', 'IN'), ('victory', 'NN'), ('.', '.')]\n",
      "[('(', '('), ('Applause', 'NNP'), ('.', '.'), (')', ')')]\n",
      "[('Other', 'JJ'), ('nations', 'NNS'), ('around', 'IN'), ('the', 'DT'), ('globe', 'NN'), ('have', 'VBP'), ('stood', 'VBN'), ('with', 'IN'), ('us', 'PRP'), ('.', '.')]\n",
      "[('In', 'IN'), ('Afghanistan', 'NNP'), (',', ','), ('an', 'DT'), ('international', 'JJ'), ('force', 'NN'), ('is', 'VBZ'), ('helping', 'VBG'), ('provide', 'JJ'), ('security', 'NN'), ('.', '.')]\n",
      "[('In', 'IN'), ('Iraq', 'NNP'), (',', ','), ('28', 'CD'), ('countries', 'NNS'), ('have', 'VBP'), ('troops', 'NNS'), ('on', 'IN'), ('the', 'DT'), ('ground', 'NN'), (',', ','), ('the', 'DT'), ('United', 'NNP'), ('Nations', 'NNPS'), ('and', 'CC'), ('the', 'DT'), ('European', 'NNP'), ('Union', 'NNP'), ('provided', 'VBD'), ('technical', 'JJ'), ('assistance', 'NN'), ('for', 'IN'), ('the', 'DT'), ('elections', 'NNS'), (',', ','), ('and', 'CC'), ('NATO', 'NNP'), ('is', 'VBZ'), ('leading', 'VBG'), ('a', 'DT'), ('mission', 'NN'), ('to', 'TO'), ('help', 'VB'), ('train', 'VB'), ('Iraqi', 'NNP'), ('officers', 'NNS'), ('.', '.')]\n",
      "[('We', 'PRP'), (\"'re\", 'VBP'), ('cooperating', 'VBG'), ('with', 'IN'), ('60', 'CD'), ('governments', 'NNS'), ('in', 'IN'), ('the', 'DT'), ('Proliferation', 'NNP'), ('Security', 'NNP'), ('Initiative', 'NNP'), (',', ','), ('to', 'TO'), ('detect', 'VB'), ('and', 'CC'), ('stop', 'VB'), ('the', 'DT'), ('transit', 'NN'), ('of', 'IN'), ('dangerous', 'JJ'), ('materials', 'NNS'), ('.', '.')]\n",
      "[('We', 'PRP'), (\"'re\", 'VBP'), ('working', 'VBG'), ('closely', 'RB'), ('with', 'IN'), ('the', 'DT'), ('governments', 'NNS'), ('in', 'IN'), ('Asia', 'NNP'), ('to', 'TO'), ('convince', 'VB'), ('North', 'NNP'), ('Korea', 'NNP'), ('to', 'TO'), ('abandon', 'VB'), ('its', 'PRP$'), ('nuclear', 'JJ'), ('ambitions', 'NNS'), ('.', '.')]\n",
      "[('Pakistan', 'NNP'), (',', ','), ('Saudi', 'NNP'), ('Arabia', 'NNP'), (',', ','), ('and', 'CC'), ('nine', 'CD'), ('other', 'JJ'), ('countries', 'NNS'), ('have', 'VBP'), ('captured', 'VBN'), ('or', 'CC'), ('detained', 'VBN'), ('al', 'RP'), ('Qaeda', 'NNP'), ('terrorists', 'NNS'), ('.', '.')]\n",
      "[('In', 'IN'), ('the', 'DT'), ('next', 'JJ'), ('four', 'CD'), ('years', 'NNS'), (',', ','), ('my', 'PRP$'), ('administration', 'NN'), ('will', 'MD'), ('continue', 'VB'), ('to', 'TO'), ('build', 'VB'), ('the', 'DT'), ('coalitions', 'NNS'), ('that', 'WDT'), ('will', 'MD'), ('defeat', 'VB'), ('the', 'DT'), ('dangers', 'NNS'), ('of', 'IN'), ('our', 'PRP$'), ('time', 'NN'), ('.', '.')]\n",
      "[('(', '('), ('Applause', 'NNP'), ('.', '.'), (')', ')')]\n",
      "[('In', 'IN'), ('the', 'DT'), ('long-term', 'JJ'), (',', ','), ('the', 'DT'), ('peace', 'NN'), ('we', 'PRP'), ('seek', 'VBP'), ('will', 'MD'), ('only', 'RB'), ('be', 'VB'), ('achieved', 'VBN'), ('by', 'IN'), ('eliminating', 'VBG'), ('the', 'DT'), ('conditions', 'NNS'), ('that', 'WDT'), ('feed', 'VBP'), ('radicalism', 'NN'), ('and', 'CC'), ('ideologies', 'NNS'), ('of', 'IN'), ('murder', 'NN'), ('.', '.')]\n",
      "[('If', 'IN'), ('whole', 'JJ'), ('regions', 'NNS'), ('of', 'IN'), ('the', 'DT'), ('world', 'NN'), ('remain', 'NN'), ('in', 'IN'), ('despair', 'NN'), ('and', 'CC'), ('grow', 'NN'), ('in', 'IN'), ('hatred', 'VBN'), (',', ','), ('they', 'PRP'), ('will', 'MD'), ('be', 'VB'), ('the', 'DT'), ('recruiting', 'NN'), ('grounds', 'NNS'), ('for', 'IN'), ('terror', 'NN'), (',', ','), ('and', 'CC'), ('that', 'DT'), ('terror', 'NN'), ('will', 'MD'), ('stalk', 'VB'), ('America', 'NNP'), ('and', 'CC'), ('other', 'JJ'), ('free', 'JJ'), ('nations', 'NNS'), ('for', 'IN'), ('decades', 'NNS'), ('.', '.')]\n",
      "[('The', 'DT'), ('only', 'JJ'), ('force', 'NN'), ('powerful', 'JJ'), ('enough', 'RB'), ('to', 'TO'), ('stop', 'VB'), ('the', 'DT'), ('rise', 'NN'), ('of', 'IN'), ('tyranny', 'NN'), ('and', 'CC'), ('terror', 'NN'), (',', ','), ('and', 'CC'), ('replace', 'VB'), ('hatred', 'VBN'), ('with', 'IN'), ('hope', 'NN'), (',', ','), ('is', 'VBZ'), ('the', 'DT'), ('force', 'NN'), ('of', 'IN'), ('human', 'JJ'), ('freedom', 'NN'), ('.', '.')]\n",
      "[('(', '('), ('Applause', 'NNP'), ('.', '.'), (')', ')')]\n",
      "[('Our', 'PRP$'), ('enemies', 'NNS'), ('know', 'VBP'), ('this', 'DT'), (',', ','), ('and', 'CC'), ('that', 'DT'), ('is', 'VBZ'), ('why', 'WRB'), ('the', 'DT'), ('terrorist', 'NN'), ('Zarqawi', 'NNP'), ('recently', 'RB'), ('declared', 'VBD'), ('war', 'NN'), ('on', 'IN'), ('what', 'WP'), ('he', 'PRP'), ('called', 'VBD'), ('the', 'DT'), ('``', '``'), ('evil', 'JJ'), ('principle', 'NN'), (\"''\", \"''\"), ('of', 'IN'), ('democracy', 'NN'), ('.', '.')]\n",
      "[('And', 'CC'), ('we', 'PRP'), (\"'ve\", 'VBP'), ('declared', 'VBN'), ('our', 'PRP$'), ('own', 'JJ'), ('intention', 'NN'), (':', ':'), ('America', 'NNP'), ('will', 'MD'), ('stand', 'VB'), ('with', 'IN'), ('the', 'DT'), ('allies', 'NNS'), ('of', 'IN'), ('freedom', 'NN'), ('to', 'TO'), ('support', 'VB'), ('democratic', 'JJ'), ('movements', 'NNS'), ('in', 'IN'), ('the', 'DT'), ('Middle', 'NNP'), ('East', 'NNP'), ('and', 'CC'), ('beyond', 'IN'), (',', ','), ('with', 'IN'), ('the', 'DT'), ('ultimate', 'JJ'), ('goal', 'NN'), ('of', 'IN'), ('ending', 'VBG'), ('tyranny', 'NN'), ('in', 'IN'), ('our', 'PRP$'), ('world', 'NN'), ('.', '.')]\n",
      "[('(', '('), ('Applause', 'NNP'), ('.', '.'), (')', ')')]\n",
      "[('The', 'DT'), ('United', 'NNP'), ('States', 'NNPS'), ('has', 'VBZ'), ('no', 'DT'), ('right', 'NN'), (',', ','), ('no', 'DT'), ('desire', 'NN'), (',', ','), ('and', 'CC'), ('no', 'DT'), ('intention', 'NN'), ('to', 'TO'), ('impose', 'VB'), ('our', 'PRP$'), ('form', 'NN'), ('of', 'IN'), ('government', 'NN'), ('on', 'IN'), ('anyone', 'NN'), ('else', 'RB'), ('.', '.')]\n",
      "[('That', 'DT'), ('is', 'VBZ'), ('one', 'CD'), ('of', 'IN'), ('the', 'DT'), ('main', 'JJ'), ('differences', 'NNS'), ('between', 'IN'), ('us', 'PRP'), ('and', 'CC'), ('our', 'PRP$'), ('enemies', 'NNS'), ('.', '.')]\n",
      "[('They', 'PRP'), ('seek', 'VBP'), ('to', 'TO'), ('impose', 'VB'), ('and', 'CC'), ('expand', 'VB'), ('an', 'DT'), ('empire', 'NN'), ('of', 'IN'), ('oppression', 'NN'), (',', ','), ('in', 'IN'), ('which', 'WDT'), ('a', 'DT'), ('tiny', 'JJ'), ('group', 'NN'), ('of', 'IN'), ('brutal', 'NN'), (',', ','), ('self-appointed', 'JJ'), ('rulers', 'NNS'), ('control', 'NN'), ('every', 'DT'), ('aspect', 'NN'), ('of', 'IN'), ('every', 'DT'), ('life', 'NN'), ('.', '.')]\n",
      "[('Our', 'PRP$'), ('aim', 'NN'), ('is', 'VBZ'), ('to', 'TO'), ('build', 'VB'), ('and', 'CC'), ('preserve', 'VB'), ('a', 'DT'), ('community', 'NN'), ('of', 'IN'), ('free', 'JJ'), ('and', 'CC'), ('independent', 'JJ'), ('nations', 'NNS'), (',', ','), ('with', 'IN'), ('governments', 'NNS'), ('that', 'WDT'), ('answer', 'VBP'), ('to', 'TO'), ('their', 'PRP$'), ('citizens', 'NNS'), (',', ','), ('and', 'CC'), ('reflect', 'VBP'), ('their', 'PRP$'), ('own', 'JJ'), ('cultures', 'NNS'), ('.', '.')]\n",
      "[('And', 'CC'), ('because', 'IN'), ('democracies', 'NNS'), ('respect', 'VBP'), ('their', 'PRP$'), ('own', 'JJ'), ('people', 'NNS'), ('and', 'CC'), ('their', 'PRP$'), ('neighbors', 'NNS'), (',', ','), ('the', 'DT'), ('advance', 'NN'), ('of', 'IN'), ('freedom', 'NN'), ('will', 'MD'), ('lead', 'VB'), ('to', 'TO'), ('peace', 'NN'), ('.', '.')]\n",
      "[('(', '('), ('Applause', 'NNP'), ('.', '.'), (')', ')')]\n",
      "[('That', 'DT'), ('advance', 'NN'), ('has', 'VBZ'), ('great', 'JJ'), ('momentum', 'NN'), ('in', 'IN'), ('our', 'PRP$'), ('time', 'NN'), ('--', ':'), ('shown', 'VBN'), ('by', 'IN'), ('women', 'NNS'), ('voting', 'VBG'), ('in', 'IN'), ('Afghanistan', 'NNP'), (',', ','), ('and', 'CC'), ('Palestinians', 'NNPS'), ('choosing', 'VBG'), ('a', 'DT'), ('new', 'JJ'), ('direction', 'NN'), (',', ','), ('and', 'CC'), ('the', 'DT'), ('people', 'NNS'), ('of', 'IN'), ('Ukraine', 'NNP'), ('asserting', 'VBG'), ('their', 'PRP$'), ('democratic', 'JJ'), ('rights', 'NNS'), ('and', 'CC'), ('electing', 'VBG'), ('a', 'DT'), ('president', 'NN'), ('.', '.')]\n",
      "[('We', 'PRP'), ('are', 'VBP'), ('witnessing', 'VBG'), ('landmark', 'NN'), ('events', 'NNS'), ('in', 'IN'), ('the', 'DT'), ('history', 'NN'), ('of', 'IN'), ('liberty', 'NN'), ('.', '.')]\n",
      "[('And', 'CC'), ('in', 'IN'), ('the', 'DT'), ('coming', 'VBG'), ('years', 'NNS'), (',', ','), ('we', 'PRP'), ('will', 'MD'), ('add', 'VB'), ('to', 'TO'), ('that', 'DT'), ('story', 'NN'), ('.', '.')]\n",
      "[('(', '('), ('Applause', 'NNP'), ('.', '.'), (')', ')')]\n",
      "[('The', 'DT'), ('beginnings', 'NNS'), ('of', 'IN'), ('reform', 'NN'), ('and', 'CC'), ('democracy', 'NN'), ('in', 'IN'), ('the', 'DT'), ('Palestinian', 'JJ'), ('territories', 'NNS'), ('are', 'VBP'), ('now', 'RB'), ('showing', 'VBG'), ('the', 'DT'), ('power', 'NN'), ('of', 'IN'), ('freedom', 'NN'), ('to', 'TO'), ('break', 'VB'), ('old', 'JJ'), ('patterns', 'NNS'), ('of', 'IN'), ('violence', 'NN'), ('and', 'CC'), ('failure', 'NN'), ('.', '.')]\n",
      "[('Tomorrow', 'NN'), ('morning', 'NN'), (',', ','), ('Secretary', 'NNP'), ('of', 'IN'), ('State', 'NNP'), ('Rice', 'NNP'), ('departs', 'NNS'), ('on', 'IN'), ('a', 'DT'), ('trip', 'NN'), ('that', 'WDT'), ('will', 'MD'), ('take', 'VB'), ('her', 'PRP$'), ('to', 'TO'), ('Israel', 'NNP'), ('and', 'CC'), ('the', 'DT'), ('West', 'NNP'), ('Bank', 'NNP'), ('for', 'IN'), ('meetings', 'NNS'), ('with', 'IN'), ('Prime', 'NNP'), ('Minister', 'NNP'), ('Sharon', 'NNP'), ('and', 'CC'), ('President', 'NNP'), ('Abbas', 'NNP'), ('.', '.')]\n",
      "[('She', 'PRP'), ('will', 'MD'), ('discuss', 'VB'), ('with', 'IN'), ('them', 'PRP'), ('how', 'WRB'), ('we', 'PRP'), ('and', 'CC'), ('our', 'PRP$'), ('friends', 'NNS'), ('can', 'MD'), ('help', 'VB'), ('the', 'DT'), ('Palestinian', 'JJ'), ('people', 'NNS'), ('end', 'VBP'), ('terror', 'NN'), ('and', 'CC'), ('build', 'VB'), ('the', 'DT'), ('institutions', 'NNS'), ('of', 'IN'), ('a', 'DT'), ('peaceful', 'JJ'), (',', ','), ('independent', 'JJ'), (',', ','), ('democratic', 'JJ'), ('state', 'NN'), ('.', '.')]\n",
      "[('To', 'TO'), ('promote', 'VB'), ('this', 'DT'), ('democracy', 'NN'), (',', ','), ('I', 'PRP'), ('will', 'MD'), ('ask', 'VB'), ('Congress', 'NNP'), ('for', 'IN'), ('$', '$'), ('350', 'CD'), ('million', 'CD'), ('to', 'TO'), ('support', 'VB'), ('Palestinian', 'JJ'), ('political', 'JJ'), (',', ','), ('economic', 'JJ'), (',', ','), ('and', 'CC'), ('security', 'NN'), ('reforms', 'NNS'), ('.', '.')]\n",
      "[('The', 'DT'), ('goal', 'NN'), ('of', 'IN'), ('two', 'CD'), ('democratic', 'JJ'), ('states', 'NNS'), (',', ','), ('Israel', 'NNP'), ('and', 'CC'), ('Palestine', 'NNP'), (',', ','), ('living', 'VBG'), ('side', 'NN'), ('by', 'IN'), ('side', 'NN'), ('in', 'IN'), ('peace', 'NN'), (',', ','), ('is', 'VBZ'), ('within', 'IN'), ('reach', 'NN'), ('--', ':'), ('and', 'CC'), ('America', 'NNP'), ('will', 'MD'), ('help', 'VB'), ('them', 'PRP'), ('achieve', 'VB'), ('that', 'DT'), ('goal', 'NN'), ('.', '.')]\n",
      "[('(', '('), ('Applause', 'NNP'), ('.', '.'), (')', ')')]\n",
      "[('To', 'TO'), ('promote', 'VB'), ('peace', 'NN'), ('and', 'CC'), ('stability', 'NN'), ('in', 'IN'), ('the', 'DT'), ('broader', 'JJR'), ('Middle', 'NNP'), ('East', 'NNP'), (',', ','), ('the', 'DT'), ('United', 'NNP'), ('States', 'NNPS'), ('will', 'MD'), ('work', 'VB'), ('with', 'IN'), ('our', 'PRP$'), ('friends', 'NNS'), ('in', 'IN'), ('the', 'DT'), ('region', 'NN'), ('to', 'TO'), ('fight', 'VB'), ('the', 'DT'), ('common', 'JJ'), ('threat', 'NN'), ('of', 'IN'), ('terror', 'NN'), (',', ','), ('while', 'IN'), ('we', 'PRP'), ('encourage', 'VBP'), ('a', 'DT'), ('higher', 'JJR'), ('standard', 'NN'), ('of', 'IN'), ('freedom', 'NN'), ('.', '.')]\n",
      "[('Hopeful', 'JJ'), ('reform', 'NN'), ('is', 'VBZ'), ('already', 'RB'), ('taking', 'VBG'), ('hold', 'NN'), ('in', 'IN'), ('an', 'DT'), ('arc', 'NN'), ('from', 'IN'), ('Morocco', 'NNP'), ('to', 'TO'), ('Jordan', 'NNP'), ('to', 'TO'), ('Bahrain', 'NNP'), ('.', '.')]\n",
      "[('The', 'DT'), ('government', 'NN'), ('of', 'IN'), ('Saudi', 'NNP'), ('Arabia', 'NNP'), ('can', 'MD'), ('demonstrate', 'VB'), ('its', 'PRP$'), ('leadership', 'NN'), ('in', 'IN'), ('the', 'DT'), ('region', 'NN'), ('by', 'IN'), ('expanding', 'VBG'), ('the', 'DT'), ('role', 'NN'), ('of', 'IN'), ('its', 'PRP$'), ('people', 'NNS'), ('in', 'IN'), ('determining', 'VBG'), ('their', 'PRP$'), ('future', 'NN'), ('.', '.')]\n",
      "[('And', 'CC'), ('the', 'DT'), ('great', 'JJ'), ('and', 'CC'), ('proud', 'JJ'), ('nation', 'NN'), ('of', 'IN'), ('Egypt', 'NNP'), (',', ','), ('which', 'WDT'), ('showed', 'VBD'), ('the', 'DT'), ('way', 'NN'), ('toward', 'IN'), ('peace', 'NN'), ('in', 'IN'), ('the', 'DT'), ('Middle', 'NNP'), ('East', 'NNP'), (',', ','), ('can', 'MD'), ('now', 'RB'), ('show', 'VB'), ('the', 'DT'), ('way', 'NN'), ('toward', 'IN'), ('democracy', 'NN'), ('in', 'IN'), ('the', 'DT'), ('Middle', 'NNP'), ('East', 'NNP'), ('.', '.')]\n",
      "[('(', '('), ('Applause', 'NNP'), ('.', '.'), (')', ')')]\n",
      "[('To', 'TO'), ('promote', 'VB'), ('peace', 'NN'), ('in', 'IN'), ('the', 'DT'), ('broader', 'JJR'), ('Middle', 'NNP'), ('East', 'NNP'), (',', ','), ('we', 'PRP'), ('must', 'MD'), ('confront', 'VB'), ('regimes', 'NNS'), ('that', 'WDT'), ('continue', 'VBP'), ('to', 'TO'), ('harbor', 'VB'), ('terrorists', 'NNS'), ('and', 'CC'), ('pursue', 'NN'), ('weapons', 'NNS'), ('of', 'IN'), ('mass', 'NN'), ('murder', 'NN'), ('.', '.')]\n",
      "[('Syria', 'NNP'), ('still', 'RB'), ('allows', 'VBZ'), ('its', 'PRP$'), ('territory', 'NN'), (',', ','), ('and', 'CC'), ('parts', 'NNS'), ('of', 'IN'), ('Lebanon', 'NNP'), (',', ','), ('to', 'TO'), ('be', 'VB'), ('used', 'VBN'), ('by', 'IN'), ('terrorists', 'NNS'), ('who', 'WP'), ('seek', 'VBP'), ('to', 'TO'), ('destroy', 'VB'), ('every', 'DT'), ('chance', 'NN'), ('of', 'IN'), ('peace', 'NN'), ('in', 'IN'), ('the', 'DT'), ('region', 'NN'), ('.', '.')]\n",
      "[('You', 'PRP'), ('have', 'VBP'), ('passed', 'VBN'), (',', ','), ('and', 'CC'), ('we', 'PRP'), ('are', 'VBP'), ('applying', 'VBG'), (',', ','), ('the', 'DT'), ('Syrian', 'JJ'), ('Accountability', 'NNP'), ('Act', 'NNP'), ('--', ':'), ('and', 'CC'), ('we', 'PRP'), ('expect', 'VBP'), ('the', 'DT'), ('Syrian', 'JJ'), ('government', 'NN'), ('to', 'TO'), ('end', 'VB'), ('all', 'DT'), ('support', 'NN'), ('for', 'IN'), ('terror', 'NN'), ('and', 'CC'), ('open', 'VB'), ('the', 'DT'), ('door', 'NN'), ('to', 'TO'), ('freedom', 'NN'), ('.', '.')]\n",
      "[('(', '('), ('Applause', 'NNP'), ('.', '.'), (')', ')')]\n",
      "[('Today', 'NN'), (',', ','), ('Iran', 'NNP'), ('remains', 'VBZ'), ('the', 'DT'), ('world', 'NN'), (\"'s\", 'POS'), ('primary', 'JJ'), ('state', 'NN'), ('sponsor', 'NN'), ('of', 'IN'), ('terror', 'NN'), ('--', ':'), ('pursuing', 'VBG'), ('nuclear', 'JJ'), ('weapons', 'NNS'), ('while', 'IN'), ('depriving', 'VBG'), ('its', 'PRP$'), ('people', 'NNS'), ('of', 'IN'), ('the', 'DT'), ('freedom', 'NN'), ('they', 'PRP'), ('seek', 'VBP'), ('and', 'CC'), ('deserve', 'VBP'), ('.', '.')]\n",
      "[('We', 'PRP'), ('are', 'VBP'), ('working', 'VBG'), ('with', 'IN'), ('European', 'JJ'), ('allies', 'NNS'), ('to', 'TO'), ('make', 'VB'), ('clear', 'JJ'), ('to', 'TO'), ('the', 'DT'), ('Iranian', 'JJ'), ('regime', 'NN'), ('that', 'IN'), ('it', 'PRP'), ('must', 'MD'), ('give', 'VB'), ('up', 'RP'), ('its', 'PRP$'), ('uranium', 'JJ'), ('enrichment', 'JJ'), ('program', 'NN'), ('and', 'CC'), ('any', 'DT'), ('plutonium', 'NN'), ('reprocessing', 'NN'), (',', ','), ('and', 'CC'), ('end', 'VB'), ('its', 'PRP$'), ('support', 'NN'), ('for', 'IN'), ('terror', 'NN'), ('.', '.')]\n",
      "[('And', 'CC'), ('to', 'TO'), ('the', 'DT'), ('Iranian', 'JJ'), ('people', 'NNS'), (',', ','), ('I', 'PRP'), ('say', 'VBP'), ('tonight', 'JJ'), (':', ':'), ('As', 'IN'), ('you', 'PRP'), ('stand', 'VBP'), ('for', 'IN'), ('your', 'PRP$'), ('own', 'JJ'), ('liberty', 'NN'), (',', ','), ('America', 'NNP'), ('stands', 'VBZ'), ('with', 'IN'), ('you', 'PRP'), ('.', '.')]\n",
      "[('(', '('), ('Applause', 'NNP'), ('.', '.'), (')', ')')]\n",
      "[('Our', 'PRP$'), ('generational', 'JJ'), ('commitment', 'NN'), ('to', 'TO'), ('the', 'DT'), ('advance', 'NN'), ('of', 'IN'), ('freedom', 'NN'), (',', ','), ('especially', 'RB'), ('in', 'IN'), ('the', 'DT'), ('Middle', 'NNP'), ('East', 'NNP'), (',', ','), ('is', 'VBZ'), ('now', 'RB'), ('being', 'VBG'), ('tested', 'VBN'), ('and', 'CC'), ('honored', 'VBN'), ('in', 'IN'), ('Iraq', 'NNP'), ('.', '.')]\n",
      "[('That', 'DT'), ('country', 'NN'), ('is', 'VBZ'), ('a', 'DT'), ('vital', 'JJ'), ('front', 'NN'), ('in', 'IN'), ('the', 'DT'), ('war', 'NN'), ('on', 'IN'), ('terror', 'NN'), (',', ','), ('which', 'WDT'), ('is', 'VBZ'), ('why', 'WRB'), ('the', 'DT'), ('terrorists', 'NNS'), ('have', 'VBP'), ('chosen', 'VBN'), ('to', 'TO'), ('make', 'VB'), ('a', 'DT'), ('stand', 'NN'), ('there', 'RB'), ('.', '.')]\n",
      "[('Our', 'PRP$'), ('men', 'NNS'), ('and', 'CC'), ('women', 'NNS'), ('in', 'IN'), ('uniform', 'NN'), ('are', 'VBP'), ('fighting', 'VBG'), ('terrorists', 'NNS'), ('in', 'IN'), ('Iraq', 'NNP'), (',', ','), ('so', 'IN'), ('we', 'PRP'), ('do', 'VBP'), ('not', 'RB'), ('have', 'VB'), ('to', 'TO'), ('face', 'VB'), ('them', 'PRP'), ('here', 'RB'), ('at', 'IN'), ('home', 'NN'), ('.', '.')]\n",
      "[('(', '('), ('Applause', 'NNP'), ('.', '.'), (')', ')')]\n",
      "[('And', 'CC'), ('the', 'DT'), ('victory', 'NN'), ('of', 'IN'), ('freedom', 'NN'), ('in', 'IN'), ('Iraq', 'NNP'), ('will', 'MD'), ('strengthen', 'VB'), ('a', 'DT'), ('new', 'JJ'), ('ally', 'NN'), ('in', 'IN'), ('the', 'DT'), ('war', 'NN'), ('on', 'IN'), ('terror', 'NN'), (',', ','), ('inspire', 'VBP'), ('democratic', 'JJ'), ('reformers', 'NNS'), ('from', 'IN'), ('Damascus', 'NNP'), ('to', 'TO'), ('Tehran', 'NNP'), (',', ','), ('bring', 'VBG'), ('more', 'JJR'), ('hope', 'NN'), ('and', 'CC'), ('progress', 'NN'), ('to', 'TO'), ('a', 'DT'), ('troubled', 'JJ'), ('region', 'NN'), (',', ','), ('and', 'CC'), ('thereby', 'RB'), ('lift', 'VB'), ('a', 'DT'), ('terrible', 'JJ'), ('threat', 'NN'), ('from', 'IN'), ('the', 'DT'), ('lives', 'NNS'), ('of', 'IN'), ('our', 'PRP$'), ('children', 'NNS'), ('and', 'CC'), ('grandchildren', 'NNS'), ('.', '.')]\n",
      "[('We', 'PRP'), ('will', 'MD'), ('succeed', 'VB'), ('because', 'IN'), ('the', 'DT'), ('Iraqi', 'NNP'), ('people', 'NNS'), ('value', 'NN'), ('their', 'PRP$'), ('own', 'JJ'), ('liberty', 'NN'), ('--', ':'), ('as', 'IN'), ('they', 'PRP'), ('showed', 'VBD'), ('the', 'DT'), ('world', 'NN'), ('last', 'JJ'), ('Sunday', 'NNP'), ('.', '.')]\n",
      "[('(', '('), ('Applause', 'NNP'), ('.', '.'), (')', ')')]\n",
      "[('Across', 'IN'), ('Iraq', 'NNP'), (',', ','), ('often', 'RB'), ('at', 'IN'), ('great', 'JJ'), ('risk', 'NN'), (',', ','), ('millions', 'NNS'), ('of', 'IN'), ('citizens', 'NNS'), ('went', 'VBD'), ('to', 'TO'), ('the', 'DT'), ('polls', 'NNS'), ('and', 'CC'), ('elected', 'VBD'), ('275', 'CD'), ('men', 'NNS'), ('and', 'CC'), ('women', 'NNS'), ('to', 'TO'), ('represent', 'VB'), ('them', 'PRP'), ('in', 'IN'), ('a', 'DT'), ('new', 'JJ'), ('Transitional', 'NNP'), ('National', 'NNP'), ('Assembly', 'NNP'), ('.', '.')]\n",
      "[('A', 'DT'), ('young', 'JJ'), ('woman', 'NN'), ('in', 'IN'), ('Baghdad', 'NNP'), ('told', 'VBD'), ('of', 'IN'), ('waking', 'VBG'), ('to', 'TO'), ('the', 'DT'), ('sound', 'NN'), ('of', 'IN'), ('mortar', 'NN'), ('fire', 'NN'), ('on', 'IN'), ('election', 'NN'), ('day', 'NN'), (',', ','), ('and', 'CC'), ('wondering', 'VBG'), ('if', 'IN'), ('it', 'PRP'), ('might', 'MD'), ('be', 'VB'), ('too', 'RB'), ('dangerous', 'JJ'), ('to', 'TO'), ('vote', 'VB'), ('.', '.')]\n",
      "[('She', 'PRP'), ('said', 'VBD'), (',', ','), ('``', '``'), ('Hearing', 'VBG'), ('those', 'DT'), ('explosions', 'NNS'), (',', ','), ('it', 'PRP'), ('occurred', 'VBD'), ('to', 'TO'), ('me', 'PRP'), ('--', ':'), ('the', 'DT'), ('insurgents', 'NNS'), ('are', 'VBP'), ('weak', 'JJ'), (',', ','), ('they', 'PRP'), ('are', 'VBP'), ('afraid', 'JJ'), ('of', 'IN'), ('democracy', 'NN'), (',', ','), ('they', 'PRP'), ('are', 'VBP'), ('losing', 'VBG'), ('.', '.')]\n",
      "[('So', 'RB'), ('I', 'PRP'), ('got', 'VBD'), ('my', 'PRP$'), ('husband', 'NN'), (',', ','), ('and', 'CC'), ('I', 'PRP'), ('got', 'VBD'), ('my', 'PRP$'), ('parents', 'NNS'), (',', ','), ('and', 'CC'), ('we', 'PRP'), ('all', 'DT'), ('came', 'VBD'), ('out', 'RP'), ('and', 'CC'), ('voted', 'VBD'), ('together', 'RB'), ('.', '.'), (\"''\", \"''\")]\n",
      "[('Americans', 'NNPS'), ('recognize', 'VBP'), ('that', 'IN'), ('spirit', 'NN'), ('of', 'IN'), ('liberty', 'NN'), (',', ','), ('because', 'IN'), ('we', 'PRP'), ('share', 'NN'), ('it', 'PRP'), ('.', '.')]\n",
      "[('In', 'IN'), ('any', 'DT'), ('nation', 'NN'), (',', ','), ('casting', 'VBG'), ('your', 'PRP$'), ('vote', 'NN'), ('is', 'VBZ'), ('an', 'DT'), ('act', 'NN'), ('of', 'IN'), ('civic', 'JJ'), ('responsibility', 'NN'), (';', ':'), ('for', 'IN'), ('millions', 'NNS'), ('of', 'IN'), ('Iraqis', 'NNP'), (',', ','), ('it', 'PRP'), ('was', 'VBD'), ('also', 'RB'), ('an', 'DT'), ('act', 'NN'), ('of', 'IN'), ('personal', 'JJ'), ('courage', 'NN'), (',', ','), ('and', 'CC'), ('they', 'PRP'), ('have', 'VBP'), ('earned', 'VBN'), ('the', 'DT'), ('respect', 'NN'), ('of', 'IN'), ('us', 'PRP'), ('all', 'DT'), ('.', '.')]\n",
      "[('(', '('), ('Applause', 'NNP'), ('.', '.'), (')', ')')]\n",
      "[('One', 'CD'), ('of', 'IN'), ('Iraq', 'NNP'), (\"'s\", 'POS'), ('leading', 'JJ'), ('democracy', 'NN'), ('and', 'CC'), ('human', 'JJ'), ('rights', 'NNS'), ('advocates', 'NNS'), ('is', 'VBZ'), ('Safia', 'NNP'), ('Taleb', 'NNP'), ('al-Suhail', 'NN'), ('.', '.')]\n",
      "[('She', 'PRP'), ('says', 'VBZ'), ('of', 'IN'), ('her', 'PRP$'), ('country', 'NN'), (',', ','), ('``', '``'), ('We', 'PRP'), ('were', 'VBD'), ('occupied', 'VBN'), ('for', 'IN'), ('35', 'CD'), ('years', 'NNS'), ('by', 'IN'), ('Saddam', 'NNP'), ('Hussein', 'NNP'), ('.', '.')]\n",
      "[('That', 'DT'), ('was', 'VBD'), ('the', 'DT'), ('real', 'JJ'), ('occupation', 'NN'), ('.', '.')]\n",
      "[('Thank', 'NNP'), ('you', 'PRP'), ('to', 'TO'), ('the', 'DT'), ('American', 'JJ'), ('people', 'NNS'), ('who', 'WP'), ('paid', 'VBD'), ('the', 'DT'), ('cost', 'NN'), (',', ','), ('but', 'CC'), ('most', 'JJS'), ('of', 'IN'), ('all', 'DT'), (',', ','), ('to', 'TO'), ('the', 'DT'), ('soldiers', 'NNS'), ('.', '.'), (\"''\", \"''\")]\n",
      "[('Eleven', 'CD'), ('years', 'NNS'), ('ago', 'RB'), (',', ','), ('Safia', 'NNP'), (\"'s\", 'POS'), ('father', 'NN'), ('was', 'VBD'), ('assassinated', 'VBN'), ('by', 'IN'), ('Saddam', 'NNP'), (\"'s\", 'POS'), ('intelligence', 'NN'), ('service', 'NN'), ('.', '.')]\n",
      "[('Three', 'CD'), ('days', 'NNS'), ('ago', 'RB'), ('in', 'IN'), ('Baghdad', 'NNP'), (',', ','), ('Safia', 'NNP'), ('was', 'VBD'), ('finally', 'RB'), ('able', 'JJ'), ('to', 'TO'), ('vote', 'VB'), ('for', 'IN'), ('the', 'DT'), ('leaders', 'NNS'), ('of', 'IN'), ('her', 'PRP$'), ('country', 'NN'), ('--', ':'), ('and', 'CC'), ('we', 'PRP'), ('are', 'VBP'), ('honored', 'VBN'), ('that', 'IN'), ('she', 'PRP'), ('is', 'VBZ'), ('with', 'IN'), ('us', 'PRP'), ('tonight', 'NN'), ('.', '.')]\n",
      "[('(', '('), ('Applause', 'NNP'), ('.', '.'), (')', ')')]\n",
      "[('The', 'DT'), ('terrorists', 'NNS'), ('and', 'CC'), ('insurgents', 'NNS'), ('are', 'VBP'), ('violently', 'RB'), ('opposed', 'VBN'), ('to', 'TO'), ('democracy', 'NN'), (',', ','), ('and', 'CC'), ('will', 'MD'), ('continue', 'VB'), ('to', 'TO'), ('attack', 'VB'), ('it', 'PRP'), ('.', '.')]\n",
      "[('Yet', 'RB'), (',', ','), ('the', 'DT'), ('terrorists', 'NNS'), (\"'\", 'POS'), ('most', 'RBS'), ('powerful', 'JJ'), ('myth', 'NN'), ('is', 'VBZ'), ('being', 'VBG'), ('destroyed', 'VBN'), ('.', '.')]\n",
      "[('The', 'DT'), ('whole', 'JJ'), ('world', 'NN'), ('is', 'VBZ'), ('seeing', 'VBG'), ('that', 'IN'), ('the', 'DT'), ('car', 'NN'), ('bombers', 'NNS'), ('and', 'CC'), ('assassins', 'NNS'), ('are', 'VBP'), ('not', 'RB'), ('only', 'RB'), ('fighting', 'VBG'), ('coalition', 'NN'), ('forces', 'NNS'), (',', ','), ('they', 'PRP'), ('are', 'VBP'), ('trying', 'VBG'), ('to', 'TO'), ('destroy', 'VB'), ('the', 'DT'), ('hopes', 'NNS'), ('of', 'IN'), ('Iraqis', 'NNP'), (',', ','), ('expressed', 'VBD'), ('in', 'IN'), ('free', 'JJ'), ('elections', 'NNS'), ('.', '.')]\n",
      "[('And', 'CC'), ('the', 'DT'), ('whole', 'JJ'), ('world', 'NN'), ('now', 'RB'), ('knows', 'VBZ'), ('that', 'IN'), ('a', 'DT'), ('small', 'JJ'), ('group', 'NN'), ('of', 'IN'), ('extremists', 'NNS'), ('will', 'MD'), ('not', 'RB'), ('overturn', 'VB'), ('the', 'DT'), ('will', 'MD'), ('of', 'IN'), ('the', 'DT'), ('Iraqi', 'NNP'), ('people', 'NNS'), ('.', '.')]\n",
      "[('(', '('), ('Applause', 'NNP'), ('.', '.'), (')', ')')]\n",
      "[('We', 'PRP'), ('will', 'MD'), ('succeed', 'VB'), ('in', 'IN'), ('Iraq', 'NNP'), ('because', 'IN'), ('Iraqis', 'NNP'), ('are', 'VBP'), ('determined', 'VBN'), ('to', 'TO'), ('fight', 'VB'), ('for', 'IN'), ('their', 'PRP$'), ('own', 'JJ'), ('freedom', 'NN'), (',', ','), ('and', 'CC'), ('to', 'TO'), ('write', 'VB'), ('their', 'PRP$'), ('own', 'JJ'), ('history', 'NN'), ('.', '.')]\n",
      "[('As', 'IN'), ('Prime', 'NNP'), ('Minister', 'NNP'), ('Allawi', 'NNP'), ('said', 'VBD'), ('in', 'IN'), ('his', 'PRP$'), ('speech', 'NN'), ('to', 'TO'), ('Congress', 'NNP'), ('last', 'JJ'), ('September', 'NNP'), (',', ','), ('``', '``'), ('Ordinary', 'JJ'), ('Iraqis', 'NNP'), ('are', 'VBP'), ('anxious', 'JJ'), ('to', 'TO'), ('shoulder', 'VB'), ('all', 'PDT'), ('the', 'DT'), ('security', 'NN'), ('burdens', 'VBZ'), ('of', 'IN'), ('our', 'PRP$'), ('country', 'NN'), ('as', 'RB'), ('quickly', 'RB'), ('as', 'IN'), ('possible', 'JJ'), ('.', '.'), (\"''\", \"''\")]\n",
      "[('That', 'DT'), ('is', 'VBZ'), ('the', 'DT'), ('natural', 'JJ'), ('desire', 'NN'), ('of', 'IN'), ('an', 'DT'), ('independent', 'JJ'), ('nation', 'NN'), (',', ','), ('and', 'CC'), ('it', 'PRP'), ('is', 'VBZ'), ('also', 'RB'), ('the', 'DT'), ('stated', 'JJ'), ('mission', 'NN'), ('of', 'IN'), ('our', 'PRP$'), ('coalition', 'NN'), ('in', 'IN'), ('Iraq', 'NNP'), ('.', '.')]\n",
      "[('The', 'DT'), ('new', 'JJ'), ('political', 'JJ'), ('situation', 'NN'), ('in', 'IN'), ('Iraq', 'NNP'), ('opens', 'VBZ'), ('a', 'DT'), ('new', 'JJ'), ('phase', 'NN'), ('of', 'IN'), ('our', 'PRP$'), ('work', 'NN'), ('in', 'IN'), ('that', 'DT'), ('country', 'NN'), ('.', '.')]\n",
      "[('At', 'IN'), ('the', 'DT'), ('recommendation', 'NN'), ('of', 'IN'), ('our', 'PRP$'), ('commanders', 'NNS'), ('on', 'IN'), ('the', 'DT'), ('ground', 'NN'), (',', ','), ('and', 'CC'), ('in', 'IN'), ('consultation', 'NN'), ('with', 'IN'), ('the', 'DT'), ('Iraqi', 'NNP'), ('government', 'NN'), (',', ','), ('we', 'PRP'), ('will', 'MD'), ('increasingly', 'RB'), ('focus', 'VB'), ('our', 'PRP$'), ('efforts', 'NNS'), ('on', 'IN'), ('helping', 'VBG'), ('prepare', 'VB'), ('more', 'RBR'), ('capable', 'JJ'), ('Iraqi', 'NNP'), ('security', 'NN'), ('forces', 'NNS'), ('--', ':'), ('forces', 'NNS'), ('with', 'IN'), ('skilled', 'JJ'), ('officers', 'NNS'), ('and', 'CC'), ('an', 'DT'), ('effective', 'JJ'), ('command', 'NN'), ('structure', 'NN'), ('.', '.')]\n",
      "[('As', 'IN'), ('those', 'DT'), ('forces', 'NNS'), ('become', 'VBP'), ('more', 'JJR'), ('self-reliant', 'JJ'), ('and', 'CC'), ('take', 'VB'), ('on', 'IN'), ('greater', 'JJR'), ('security', 'NN'), ('responsibilities', 'NNS'), (',', ','), ('America', 'NNP'), ('and', 'CC'), ('its', 'PRP$'), ('coalition', 'NN'), ('partners', 'NNS'), ('will', 'MD'), ('increasingly', 'RB'), ('be', 'VB'), ('in', 'IN'), ('a', 'DT'), ('supporting', 'JJ'), ('role', 'NN'), ('.', '.')]\n",
      "[('In', 'IN'), ('the', 'DT'), ('end', 'NN'), (',', ','), ('Iraqis', 'NNP'), ('must', 'MD'), ('be', 'VB'), ('able', 'JJ'), ('to', 'TO'), ('defend', 'VB'), ('their', 'PRP$'), ('own', 'JJ'), ('country', 'NN'), ('--', ':'), ('and', 'CC'), ('we', 'PRP'), ('will', 'MD'), ('help', 'VB'), ('that', 'DT'), ('proud', 'NN'), (',', ','), ('new', 'JJ'), ('nation', 'NN'), ('secure', 'NN'), ('its', 'PRP$'), ('liberty', 'NN'), ('.', '.')]\n",
      "[('Recently', 'RB'), ('an', 'DT'), ('Iraqi', 'NNP'), ('interpreter', 'NN'), ('said', 'VBD'), ('to', 'TO'), ('a', 'DT'), ('reporter', 'NN'), (',', ','), ('``', '``'), ('Tell', 'NNP'), ('America', 'NNP'), ('not', 'RB'), ('to', 'TO'), ('abandon', 'VB'), ('us', 'PRP'), ('.', '.'), (\"''\", \"''\")]\n",
      "[('He', 'PRP'), ('and', 'CC'), ('all', 'DT'), ('Iraqis', 'NNP'), ('can', 'MD'), ('be', 'VB'), ('certain', 'JJ'), (':', ':'), ('While', 'IN'), ('our', 'PRP$'), ('military', 'JJ'), ('strategy', 'NN'), ('is', 'VBZ'), ('adapting', 'VBG'), ('to', 'TO'), ('circumstances', 'NNS'), (',', ','), ('our', 'PRP$'), ('commitment', 'NN'), ('remains', 'VBZ'), ('firm', 'JJ'), ('and', 'CC'), ('unchanging', 'JJ'), ('.', '.')]\n",
      "[('We', 'PRP'), ('are', 'VBP'), ('standing', 'VBG'), ('for', 'IN'), ('the', 'DT'), ('freedom', 'NN'), ('of', 'IN'), ('our', 'PRP$'), ('Iraqi', 'NNP'), ('friends', 'NNS'), (',', ','), ('and', 'CC'), ('freedom', 'NN'), ('in', 'IN'), ('Iraq', 'NNP'), ('will', 'MD'), ('make', 'VB'), ('America', 'NNP'), ('safer', 'NN'), ('for', 'IN'), ('generations', 'NNS'), ('to', 'TO'), ('come', 'VB'), ('.', '.')]\n",
      "[('(', '('), ('Applause', 'NNP'), ('.', '.'), (')', ')')]\n",
      "[('We', 'PRP'), ('will', 'MD'), ('not', 'RB'), ('set', 'VB'), ('an', 'DT'), ('artificial', 'JJ'), ('timetable', 'NN'), ('for', 'IN'), ('leaving', 'VBG'), ('Iraq', 'NNP'), (',', ','), ('because', 'IN'), ('that', 'DT'), ('would', 'MD'), ('embolden', 'VB'), ('the', 'DT'), ('terrorists', 'NNS'), ('and', 'CC'), ('make', 'VB'), ('them', 'PRP'), ('believe', 'VB'), ('they', 'PRP'), ('can', 'MD'), ('wait', 'VB'), ('us', 'PRP'), ('out', 'RP'), ('.', '.')]\n",
      "[('We', 'PRP'), ('are', 'VBP'), ('in', 'IN'), ('Iraq', 'NNP'), ('to', 'TO'), ('achieve', 'VB'), ('a', 'DT'), ('result', 'NN'), (':', ':'), ('A', 'DT'), ('country', 'NN'), ('that', 'WDT'), ('is', 'VBZ'), ('democratic', 'JJ'), (',', ','), ('representative', 'NN'), ('of', 'IN'), ('all', 'PDT'), ('its', 'PRP$'), ('people', 'NNS'), (',', ','), ('at', 'IN'), ('peace', 'NN'), ('with', 'IN'), ('its', 'PRP$'), ('neighbors', 'NNS'), (',', ','), ('and', 'CC'), ('able', 'JJ'), ('to', 'TO'), ('defend', 'VB'), ('itself', 'PRP'), ('.', '.')]\n",
      "[('And', 'CC'), ('when', 'WRB'), ('that', 'DT'), ('result', 'NN'), ('is', 'VBZ'), ('achieved', 'VBN'), (',', ','), ('our', 'PRP$'), ('men', 'NNS'), ('and', 'CC'), ('women', 'NNS'), ('serving', 'VBG'), ('in', 'IN'), ('Iraq', 'NNP'), ('will', 'MD'), ('return', 'VB'), ('home', 'NN'), ('with', 'IN'), ('the', 'DT'), ('honor', 'NN'), ('they', 'PRP'), ('have', 'VBP'), ('earned', 'VBN'), ('.', '.')]\n",
      "[('(', '('), ('Applause', 'NNP'), ('.', '.'), (')', ')')]\n",
      "[('Right', 'RB'), ('now', 'RB'), (',', ','), ('Americans', 'NNPS'), ('in', 'IN'), ('uniform', 'NN'), ('are', 'VBP'), ('serving', 'VBG'), ('at', 'IN'), ('posts', 'NNS'), ('across', 'IN'), ('the', 'DT'), ('world', 'NN'), (',', ','), ('often', 'RB'), ('taking', 'VBG'), ('great', 'JJ'), ('risks', 'NNS'), ('on', 'IN'), ('my', 'PRP$'), ('orders', 'NNS'), ('.', '.')]\n",
      "[('We', 'PRP'), ('have', 'VBP'), ('given', 'VBN'), ('them', 'PRP'), ('training', 'VBG'), ('and', 'CC'), ('equipment', 'NN'), (';', ':'), ('and', 'CC'), ('they', 'PRP'), ('have', 'VBP'), ('given', 'VBN'), ('us', 'PRP'), ('an', 'DT'), ('example', 'NN'), ('of', 'IN'), ('idealism', 'NN'), ('and', 'CC'), ('character', 'NN'), ('that', 'WDT'), ('makes', 'VBZ'), ('every', 'DT'), ('American', 'JJ'), ('proud', 'NN'), ('.', '.')]\n",
      "[('(', '('), ('Applause', 'NNP'), ('.', '.'), (')', ')')]\n",
      "[('The', 'DT'), ('volunteers', 'NNS'), ('of', 'IN'), ('our', 'PRP$'), ('military', 'JJ'), ('are', 'VBP'), ('unrelenting', 'VBG'), ('in', 'IN'), ('battle', 'NN'), (',', ','), ('unwavering', 'VBG'), ('in', 'IN'), ('loyalty', 'NN'), (',', ','), ('unmatched', 'VBN'), ('in', 'IN'), ('honor', 'NN'), ('and', 'CC'), ('decency', 'NN'), (',', ','), ('and', 'CC'), ('every', 'DT'), ('day', 'NN'), ('they', 'PRP'), (\"'re\", 'VBP'), ('making', 'VBG'), ('our', 'PRP$'), ('nation', 'NN'), ('more', 'RBR'), ('secure', 'NN'), ('.', '.')]\n",
      "[('Some', 'DT'), ('of', 'IN'), ('our', 'PRP$'), ('servicemen', 'NNS'), ('and', 'CC'), ('women', 'NNS'), ('have', 'VBP'), ('survived', 'VBN'), ('terrible', 'JJ'), ('injuries', 'NNS'), (',', ','), ('and', 'CC'), ('this', 'DT'), ('grateful', 'JJ'), ('country', 'NN'), ('will', 'MD'), ('do', 'VB'), ('everything', 'NN'), ('we', 'PRP'), ('can', 'MD'), ('to', 'TO'), ('help', 'VB'), ('them', 'PRP'), ('recover', 'VB'), ('.', '.')]\n",
      "[('(', '('), ('Applause', 'NNP'), ('.', '.'), (')', ')')]\n",
      "[('And', 'CC'), ('we', 'PRP'), ('have', 'VBP'), ('said', 'VBD'), ('farewell', 'NN'), ('to', 'TO'), ('some', 'DT'), ('very', 'RB'), ('good', 'JJ'), ('men', 'NNS'), ('and', 'CC'), ('women', 'NNS'), (',', ','), ('who', 'WP'), ('died', 'VBD'), ('for', 'IN'), ('our', 'PRP$'), ('freedom', 'NN'), (',', ','), ('and', 'CC'), ('whose', 'WP$'), ('memory', 'NN'), ('this', 'DT'), ('nation', 'NN'), ('will', 'MD'), ('honor', 'VB'), ('forever', 'RB'), ('.', '.')]\n",
      "[('One', 'CD'), ('name', 'NN'), ('we', 'PRP'), ('honor', 'VBP'), ('is', 'VBZ'), ('Marine', 'NNP'), ('Corps', 'NNP'), ('Sergeant', 'NNP'), ('Byron', 'NNP'), ('Norwood', 'NNP'), ('of', 'IN'), ('Pflugerville', 'NNP'), (',', ','), ('Texas', 'NNP'), (',', ','), ('who', 'WP'), ('was', 'VBD'), ('killed', 'VBN'), ('during', 'IN'), ('the', 'DT'), ('assault', 'NN'), ('on', 'IN'), ('Fallujah', 'NNP'), ('.', '.')]\n",
      "[('His', 'PRP$'), ('mom', 'NN'), (',', ','), ('Janet', 'NNP'), (',', ','), ('sent', 'VBD'), ('me', 'PRP'), ('a', 'DT'), ('letter', 'NN'), ('and', 'CC'), ('told', 'VBD'), ('me', 'PRP'), ('how', 'WRB'), ('much', 'JJ'), ('Byron', 'NNP'), ('loved', 'VBD'), ('being', 'VBG'), ('a', 'DT'), ('Marine', 'NNP'), (',', ','), ('and', 'CC'), ('how', 'WRB'), ('proud', 'JJ'), ('he', 'PRP'), ('was', 'VBD'), ('to', 'TO'), ('be', 'VB'), ('on', 'IN'), ('the', 'DT'), ('front', 'JJ'), ('line', 'NN'), ('against', 'IN'), ('terror', 'NN'), ('.', '.')]\n",
      "[('She', 'PRP'), ('wrote', 'VBD'), (',', ','), ('``', '``'), ('When', 'WRB'), ('Byron', 'NNP'), ('was', 'VBD'), ('home', 'VBN'), ('the', 'DT'), ('last', 'JJ'), ('time', 'NN'), (',', ','), ('I', 'PRP'), ('said', 'VBD'), ('that', 'IN'), ('I', 'PRP'), ('wanted', 'VBD'), ('to', 'TO'), ('protect', 'VB'), ('him', 'PRP'), ('like', 'IN'), ('I', 'PRP'), ('had', 'VBD'), ('since', 'IN'), ('he', 'PRP'), ('was', 'VBD'), ('born', 'VBN'), ('.', '.')]\n",
      "[('He', 'PRP'), ('just', 'RB'), ('hugged', 'VBD'), ('me', 'PRP'), ('and', 'CC'), ('said', 'VBD'), (',', ','), (\"'You\", \"''\"), (\"'ve\", 'VBP'), ('done', 'VBN'), ('your', 'PRP$'), ('job', 'NN'), (',', ','), ('Mom', 'NNP'), ('.', '.')]\n",
      "[('Now', 'RB'), ('it', 'PRP'), ('is', 'VBZ'), ('my', 'PRP$'), ('turn', 'NN'), ('to', 'TO'), ('protect', 'VB'), ('you', 'PRP'), ('.', '.'), (\"'\", \"''\"), (\"''\", \"''\")]\n",
      "[('Ladies', 'NNS'), ('and', 'CC'), ('gentlemen', 'NNS'), (',', ','), ('with', 'IN'), ('grateful', 'JJ'), ('hearts', 'NNS'), (',', ','), ('we', 'PRP'), ('honor', 'VBP'), ('freedom', 'NN'), (\"'s\", 'POS'), ('defenders', 'NNS'), (',', ','), ('and', 'CC'), ('our', 'PRP$'), ('military', 'JJ'), ('families', 'NNS'), (',', ','), ('represented', 'VBN'), ('here', 'RB'), ('this', 'DT'), ('evening', 'NN'), ('by', 'IN'), ('Sergeant', 'NNP'), ('Norwood', 'NNP'), (\"'s\", 'POS'), ('mom', 'NN'), ('and', 'CC'), ('dad', 'NN'), (',', ','), ('Janet', 'NNP'), ('and', 'CC'), ('Bill', 'NNP'), ('Norwood', 'NNP'), ('.', '.')]\n",
      "[('(', '('), ('Applause', 'NNP'), ('.', '.'), (')', ')')]\n",
      "[('In', 'IN'), ('these', 'DT'), ('four', 'CD'), ('years', 'NNS'), (',', ','), ('Americans', 'NNPS'), ('have', 'VBP'), ('seen', 'VBN'), ('the', 'DT'), ('unfolding', 'NN'), ('of', 'IN'), ('large', 'JJ'), ('events', 'NNS'), ('.', '.')]\n",
      "[('We', 'PRP'), ('have', 'VBP'), ('known', 'VBN'), ('times', 'NNS'), ('of', 'IN'), ('sorrow', 'NN'), (',', ','), ('and', 'CC'), ('hours', 'NNS'), ('of', 'IN'), ('uncertainty', 'NN'), (',', ','), ('and', 'CC'), ('days', 'NNS'), ('of', 'IN'), ('victory', 'NN'), ('.', '.')]\n",
      "[('In', 'IN'), ('all', 'PDT'), ('this', 'DT'), ('history', 'NN'), (',', ','), ('even', 'RB'), ('when', 'WRB'), ('we', 'PRP'), ('have', 'VBP'), ('disagreed', 'VBN'), (',', ','), ('we', 'PRP'), ('have', 'VBP'), ('seen', 'VBN'), ('threads', 'NNS'), ('of', 'IN'), ('purpose', 'NN'), ('that', 'IN'), ('unite', 'JJ'), ('us', 'PRP'), ('.', '.')]\n",
      "[('The', 'DT'), ('attack', 'NN'), ('on', 'IN'), ('freedom', 'NN'), ('in', 'IN'), ('our', 'PRP$'), ('world', 'NN'), ('has', 'VBZ'), ('reaffirmed', 'VBN'), ('our', 'PRP$'), ('confidence', 'NN'), ('in', 'IN'), ('freedom', 'NN'), (\"'s\", 'POS'), ('power', 'NN'), ('to', 'TO'), ('change', 'VB'), ('the', 'DT'), ('world', 'NN'), ('.', '.')]\n",
      "[('We', 'PRP'), ('are', 'VBP'), ('all', 'DT'), ('part', 'NN'), ('of', 'IN'), ('a', 'DT'), ('great', 'JJ'), ('venture', 'NN'), (':', ':'), ('To', 'TO'), ('extend', 'VB'), ('the', 'DT'), ('promise', 'NN'), ('of', 'IN'), ('freedom', 'NN'), ('in', 'IN'), ('our', 'PRP$'), ('country', 'NN'), (',', ','), ('to', 'TO'), ('renew', 'VB'), ('the', 'DT'), ('values', 'NNS'), ('that', 'WDT'), ('sustain', 'VBP'), ('our', 'PRP$'), ('liberty', 'NN'), (',', ','), ('and', 'CC'), ('to', 'TO'), ('spread', 'VB'), ('the', 'DT'), ('peace', 'NN'), ('that', 'WDT'), ('freedom', 'NN'), ('brings', 'NNS'), ('.', '.')]\n",
      "[('As', 'IN'), ('Franklin', 'NNP'), ('Roosevelt', 'NNP'), ('once', 'RB'), ('reminded', 'VBD'), ('Americans', 'NNPS'), (',', ','), ('``', '``'), ('Each', 'DT'), ('age', 'NN'), ('is', 'VBZ'), ('a', 'DT'), ('dream', 'NN'), ('that', 'WDT'), ('is', 'VBZ'), ('dying', 'VBG'), (',', ','), ('or', 'CC'), ('one', 'CD'), ('that', 'WDT'), ('is', 'VBZ'), ('coming', 'VBG'), ('to', 'TO'), ('birth', 'NN'), ('.', '.'), (\"''\", \"''\")]\n",
      "[('And', 'CC'), ('we', 'PRP'), ('live', 'VBP'), ('in', 'IN'), ('the', 'DT'), ('country', 'NN'), ('where', 'WRB'), ('the', 'DT'), ('biggest', 'JJS'), ('dreams', 'NNS'), ('are', 'VBP'), ('born', 'VBN'), ('.', '.')]\n",
      "[('The', 'DT'), ('abolition', 'NN'), ('of', 'IN'), ('slavery', 'NN'), ('was', 'VBD'), ('only', 'RB'), ('a', 'DT'), ('dream', 'NN'), ('--', ':'), ('until', 'IN'), ('it', 'PRP'), ('was', 'VBD'), ('fulfilled', 'VBN'), ('.', '.')]\n",
      "[('The', 'DT'), ('liberation', 'NN'), ('of', 'IN'), ('Europe', 'NNP'), ('from', 'IN'), ('fascism', 'NN'), ('was', 'VBD'), ('only', 'RB'), ('a', 'DT'), ('dream', 'NN'), ('--', ':'), ('until', 'IN'), ('it', 'PRP'), ('was', 'VBD'), ('achieved', 'VBN'), ('.', '.')]\n",
      "[('The', 'DT'), ('fall', 'NN'), ('of', 'IN'), ('imperial', 'JJ'), ('communism', 'NN'), ('was', 'VBD'), ('only', 'RB'), ('a', 'DT'), ('dream', 'NN'), ('--', ':'), ('until', 'IN'), (',', ','), ('one', 'CD'), ('day', 'NN'), (',', ','), ('it', 'PRP'), ('was', 'VBD'), ('accomplished', 'VBN'), ('.', '.')]\n",
      "[('Our', 'PRP$'), ('generation', 'NN'), ('has', 'VBZ'), ('dreams', 'NNS'), ('of', 'IN'), ('its', 'PRP$'), ('own', 'JJ'), (',', ','), ('and', 'CC'), ('we', 'PRP'), ('also', 'RB'), ('go', 'VBP'), ('forward', 'RB'), ('with', 'IN'), ('confidence', 'NN'), ('.', '.')]\n",
      "[('The', 'DT'), ('road', 'NN'), ('of', 'IN'), ('Providence', 'NNP'), ('is', 'VBZ'), ('uneven', 'JJ'), ('and', 'CC'), ('unpredictable', 'JJ'), ('--', ':'), ('yet', 'RB'), ('we', 'PRP'), ('know', 'VBP'), ('where', 'WRB'), ('it', 'PRP'), ('leads', 'VBZ'), (':', ':'), ('It', 'PRP'), ('leads', 'VBZ'), ('to', 'TO'), ('freedom', 'VB'), ('.', '.')]\n",
      "[('Thank', 'NNP'), ('you', 'PRP'), (',', ','), ('and', 'CC'), ('may', 'MD'), ('God', 'NNP'), ('bless', 'NN'), ('America', 'NNP'), ('.', '.')]\n",
      "[('(', '('), ('Applause', 'NNP'), ('.', '.'), (')', ')')]\n",
      "[('END', 'NN'), ('10:03', 'CD'), ('P.M', 'NNP'), ('.', '.')]\n",
      "[('EST', 'NN')]\n"
     ]
    }
   ],
   "source": [
    "\n",
    "\n",
    "\n",
    "def process_content():\n",
    "    try:\n",
    "        for i in tokenized:\n",
    "            words = nltk.word_tokenize(i)\n",
    "            tagged = nltk.pos_tag(words)\n",
    "            \n",
    "            print(tagged)\n",
    "            \n",
    "    except Exception as e:\n",
    "        print(str(e))\n",
    "        \n",
    "process_content()        "
   ]
  },
  {
   "cell_type": "markdown",
   "metadata": {},
   "source": [
    "***POS tag list:***\n",
    "\n",
    "CC\tcoordinating conjunction\n",
    "\n",
    "CD\tcardinal digit\n",
    "\n",
    "DT\tdeterminer\n",
    "\n",
    "EX\texistential there (like: \"there is\" ... think of it like \"there exists\")\n",
    "\n",
    "FW\tforeign word\n",
    "\n",
    "IN\tpreposition/subordinating conjunction\n",
    "\n",
    "JJ\tadjective\t'big'\n",
    "\n",
    "JJR\tadjective, comparative\t'bigger'\n",
    "\n",
    "JJS\tadjective, superlative\t'biggest'\n",
    "\n",
    "LS\tlist marker\t1)\n",
    "\n",
    "MD\tmodal\tcould, will\n",
    "\n",
    "NN\tnoun, singular 'desk'\n",
    "\n",
    "NNS\tnoun plural\t'desks'\n",
    "\n",
    "NNP\tproper noun, singular\t'Harrison'\n",
    "\n",
    "NNPS\tproper noun, plural\t'Americans'\n",
    "\n",
    "PDT\tpredeterminer\t'all the kids'\n",
    "\n",
    "POS\tpossessive ending\tparent\\'s\n",
    "\n",
    "PRP\tpersonal pronoun\tI, he, she\n",
    "\n",
    "PRP$\tpossessive pronoun\tmy, his, hers\n",
    "\n",
    "RB\tadverb\tvery, silently,\n",
    "\n",
    "RBR\tadverb, comparative\tbetter\n",
    "\n",
    "RBS\tadverb, superlative\tbest\n",
    "\n",
    "RP\tparticle\tgive up\n",
    "\n",
    "TO\tto\tgo 'to' the store.\n",
    "\n",
    "UH\tinterjection\terrrrrrrrm\n",
    "\n",
    "VB\tverb, base form\ttake\n",
    "\n",
    "VBD\tverb, past tense\ttook\n",
    "\n",
    "VBG\tverb, gerund/present participle\ttaking\n",
    "\n",
    "VBN\tverb, past participle\ttaken\n",
    "\n",
    "VBP\tverb, sing. present, non-3d\ttake\n",
    "\n",
    "VBZ\tverb, 3rd person sing. present\ttakes\n",
    "\n",
    "WDT\twh-determiner\twhich\n",
    "\n",
    "WP\twh-pronoun\twho, what\n",
    "\n",
    "WP$\tpossessive wh-pronoun\twhose\n",
    "\n",
    "WRB\twh-abverb\twhere, when"
   ]
  },
  {
   "cell_type": "markdown",
   "metadata": {},
   "source": [
    "\n",
    "\n",
    "\n",
    "### CHUNKING"
   ]
  },
  {
   "cell_type": "markdown",
   "metadata": {},
   "source": [
    "*One of the main goals of chunking is to group into what are known as \"noun phrases.\" These are phrases of one or more words that contain a noun, maybe some descriptive words, maybe a verb, and maybe something like an adverb. The idea is to group nouns with the words that are in relation to them.*"
   ]
  },
  {
   "cell_type": "markdown",
   "metadata": {},
   "source": [
    "*In order to chunk, we combine the part of speech tags with regular expressions. Mainly from regular expressions, we are going to utilize the following:*\n",
    "    "
   ]
  },
  {
   "cell_type": "markdown",
   "metadata": {},
   "source": [
    "*+ = match 1 or more*\n",
    "\n",
    "? = match 0 or 1 repetitions.\n",
    "\n",
    "** = match 0 or MORE repetitions*\t\n",
    "\n",
    ". = Any character except a new line\n",
    "\t  "
   ]
  },
  {
   "cell_type": "code",
   "execution_count": 25,
   "metadata": {},
   "outputs": [
    {
     "name": "stdout",
     "output_type": "stream",
     "text": [
      "(S\n",
      "  (Chunk PRESIDENT/NNP GEORGE/NNP W./NNP BUSH/NNP)\n",
      "  'S/POS\n",
      "  (Chunk ADDRESS/NNP)\n",
      "  BEFORE/IN\n",
      "  (Chunk A/NNP JOINT/NNP SESSION/NNP)\n",
      "  OF/IN\n",
      "  (Chunk THE/NNP CONGRESS/NNP ON/NNP THE/NNP STATE/NNP)\n",
      "  OF/IN\n",
      "  (Chunk THE/NNP UNION/NNP February/NNP)\n",
      "  2/CD\n",
      "  ,/,\n",
      "  2005/CD\n",
      "  9:10/CD\n",
      "  (Chunk P.M/NNP)\n",
      "  ./.)\n",
      "(Chunk PRESIDENT/NNP GEORGE/NNP W./NNP BUSH/NNP)\n",
      "(Chunk ADDRESS/NNP)\n",
      "(Chunk A/NNP JOINT/NNP SESSION/NNP)\n",
      "(Chunk THE/NNP CONGRESS/NNP ON/NNP THE/NNP STATE/NNP)\n",
      "(Chunk THE/NNP UNION/NNP February/NNP)\n",
      "(Chunk P.M/NNP)\n",
      "(S\n",
      "  EST/IN\n",
      "  (Chunk THE/NNP PRESIDENT/NNP)\n",
      "  :/:\n",
      "  (Chunk Mr./NNP Speaker/NNP)\n",
      "  ,/,\n",
      "  (Chunk Vice/NNP President/NNP Cheney/NNP)\n",
      "  ,/,\n",
      "  members/NNS\n",
      "  of/IN\n",
      "  (Chunk Congress/NNP)\n",
      "  ,/,\n",
      "  fellow/JJ\n",
      "  citizens/NNS\n",
      "  :/:\n",
      "  As/IN\n",
      "  a/DT\n",
      "  new/JJ\n",
      "  (Chunk Congress/NNP)\n",
      "  gathers/NNS\n",
      "  ,/,\n",
      "  all/DT\n",
      "  of/IN\n",
      "  us/PRP\n",
      "  in/IN\n",
      "  the/DT\n",
      "  elected/JJ\n",
      "  branches/NNS\n",
      "  of/IN\n",
      "  government/NN\n",
      "  share/NN\n",
      "  a/DT\n",
      "  great/JJ\n",
      "  privilege/NN\n",
      "  :/:\n",
      "  We/PRP\n",
      "  've/VBP\n",
      "  been/VBN\n",
      "  placed/VBN\n",
      "  in/IN\n",
      "  office/NN\n",
      "  by/IN\n",
      "  the/DT\n",
      "  votes/NNS\n",
      "  of/IN\n",
      "  the/DT\n",
      "  people/NNS\n",
      "  we/PRP\n",
      "  serve/VBP\n",
      "  ./.)\n",
      "(Chunk THE/NNP PRESIDENT/NNP)\n",
      "(Chunk Mr./NNP Speaker/NNP)\n",
      "(Chunk Vice/NNP President/NNP Cheney/NNP)\n",
      "(Chunk Congress/NNP)\n",
      "(Chunk Congress/NNP)\n",
      "(S\n",
      "  And/CC\n",
      "  tonight/NN\n",
      "  that/WDT\n",
      "  is/VBZ\n",
      "  a/DT\n",
      "  privilege/NN\n",
      "  we/PRP\n",
      "  share/NN\n",
      "  with/IN\n",
      "  newly-elected/JJ\n",
      "  leaders/NNS\n",
      "  of/IN\n",
      "  (Chunk Afghanistan/NNP)\n",
      "  ,/,\n",
      "  the/DT\n",
      "  Palestinian/JJ\n",
      "  (Chunk Territories/NNP)\n",
      "  ,/,\n",
      "  (Chunk Ukraine/NNP)\n",
      "  ,/,\n",
      "  and/CC\n",
      "  a/DT\n",
      "  free/JJ\n",
      "  and/CC\n",
      "  sovereign/JJ\n",
      "  (Chunk Iraq/NNP)\n",
      "  ./.)\n",
      "(Chunk Afghanistan/NNP)\n",
      "(Chunk Territories/NNP)\n",
      "(Chunk Ukraine/NNP)\n",
      "(Chunk Iraq/NNP)\n"
     ]
    }
   ],
   "source": [
    "train_text = state_union.raw(\"2006-GWBush.txt\")\n",
    "sample_text = state_union.raw(\"2005-GWBush.txt\")\n",
    "\n",
    "custom_sent_tokenizer = PunktSentenceTokenizer(train_text)\n",
    "\n",
    "tokenized = custom_sent_tokenizer.tokenize(sample_text)\n",
    "\n",
    "def process_content():\n",
    "    try:\n",
    "        for i in tokenized[:3]:\n",
    "            words = nltk.word_tokenize(i)\n",
    "            tagged = nltk.pos_tag(words)\n",
    "            \n",
    "            chunkGram = r\"\"\"Chunk: {<RB.?>*<VB.?>*<NNP>+<NN>?}\"\"\"\n",
    "            chunkParser = nltk.RegexpParser(chunkGram)\n",
    "            chunked = chunkParser.parse(tagged)\n",
    "            \n",
    "            print(chunked)\n",
    "            for subtree in chunked.subtrees(filter=lambda t: t.label() == 'Chunk'):\n",
    "                print(subtree)\n",
    "\n",
    "            chunked.draw()\n",
    "\n",
    "    except Exception as e:\n",
    "        print(str(e))\n",
    "\n",
    "process_content()"
   ]
  },
  {
   "cell_type": "markdown",
   "metadata": {},
   "source": [
    "### CHINKING"
   ]
  },
  {
   "cell_type": "markdown",
   "metadata": {},
   "source": [
    "Chinking is a lot like chunking, it is basically a way for you to remove a chunk from a chunk. The chunk that you remove from your chunk is your chink.\n",
    "\n",
    "The code is very similar, you just denote the chink, after the chunk, with }{ instead of the chunk's {}.\n"
   ]
  },
  {
   "cell_type": "code",
   "execution_count": 6,
   "metadata": {},
   "outputs": [],
   "source": [
    "#train_text = state_union.raw(\"2005-GWBush.txt\")\n",
    "#sample_text = state_union.raw(\"2006-GWBush.txt\")\n",
    "\n",
    "#custom_sent_tokenizer = PunktSentenceTokenizer(train_text)\n",
    "\n",
    "#tokenized = custom_sent_tokenizer.tokenize(sample_text)\n",
    "\n",
    "#def process_content():\n",
    "#    try:\n",
    "#        for i in tokenized[:5]:\n",
    "#            words = nltk.word_tokenize(i)\n",
    "#            tagged = nltk.pos_tag(words)\n",
    "\n",
    "#            chunkGram = r\"\"\"Chunk: {<.*>+}\n",
    "#                                    }<VB.?|IN|DT|TO>+{\"\"\"\n",
    "\n",
    "#            chunkParser = nltk.RegexpParser(chunkGram)\n",
    "#            chunked = chunkParser.parse(tagged)\n",
    "\n",
    "#            chunked.draw()\n",
    "\n",
    "#    except Exception as e:\n",
    "#        print(str(e))\n",
    "\n",
    "#process_content()"
   ]
  },
  {
   "cell_type": "markdown",
   "metadata": {},
   "source": [
    "### NAMED ENTITY RECOGNITION"
   ]
  },
  {
   "cell_type": "markdown",
   "metadata": {},
   "source": [
    "The idea is to have the machine immediately be able to pull out \"entities\" like people, places, things, locations, monetary figures, and more."
   ]
  },
  {
   "cell_type": "code",
   "execution_count": 7,
   "metadata": {},
   "outputs": [],
   "source": [
    "import nltk\n",
    "from nltk import sent_tokenize, word_tokenize\n",
    "from nltk.corpus import state_union #state union adresses by various america​PunktSentenceTokenizern presidents\n",
    "from nltk.tokenize import PunktSentenceTokenizer"
   ]
  },
  {
   "cell_type": "code",
   "execution_count": 10,
   "metadata": {},
   "outputs": [],
   "source": [
    "train_text = state_union.raw(\"2006-GWBush.txt\")\n",
    "sample_text = state_union.raw(\"2005-GWBush.txt\")\n",
    "\n",
    "custom_sent_tokenizer = PunktSentenceTokenizer(train_text)\n",
    "\n",
    "tokenized = custom_sent_tokenizer.tokenize(sample_text)\n",
    "\n",
    "def process_content():\n",
    "    try:\n",
    "        for i in tokenized[:3]:\n",
    "            words = nltk.word_tokenize(i)\n",
    "            tagged = nltk.pos_tag(words)\n",
    "            namedEnt = nltk.ne_chunk(tagged, binary=False)\n",
    "            namedEnt.draw()\n",
    "    except Exception as e:\n",
    "        print(str(e))\n",
    "\n",
    "\n",
    "process_content()\n",
    "            \n",
    "            "
   ]
  },
  {
   "cell_type": "markdown",
   "metadata": {},
   "source": [
    "### LEMMATIZING\n"
   ]
  },
  {
   "cell_type": "markdown",
   "metadata": {},
   "source": [
    "Lemmatizing is similar to stemming. The major difference between these is, as you saw earlier, stemming can often create non-existent words, whereas lemmas are actual words."
   ]
  },
  {
   "cell_type": "code",
   "execution_count": 52,
   "metadata": {},
   "outputs": [],
   "source": [
    "from nltk.stem import WordNetLemmatizer\n",
    "lemmatizer = WordNetLemmatizer()\n"
   ]
  },
  {
   "cell_type": "code",
   "execution_count": 53,
   "metadata": {},
   "outputs": [
    {
     "name": "stdout",
     "output_type": "stream",
     "text": [
      "cat\n",
      "cactus\n",
      "goose\n",
      "rock\n",
      "python\n"
     ]
    }
   ],
   "source": [
    "print(lemmatizer.lemmatize(\"cats\"))\n",
    "print(lemmatizer.lemmatize(\"cacti\"))\n",
    "print(lemmatizer.lemmatize(\"geese\"))\n",
    "print(lemmatizer.lemmatize(\"rocks\"))\n",
    "print(lemmatizer.lemmatize(\"python\"))"
   ]
  },
  {
   "cell_type": "code",
   "execution_count": 56,
   "metadata": {},
   "outputs": [
    {
     "name": "stdout",
     "output_type": "stream",
     "text": [
      "bad\n"
     ]
    }
   ],
   "source": [
    "#(lemmatizer.lemmatize(\"better\"))\n",
    "print(lemmatizer.lemmatize(\"worse\", pos='a')) # a= adjective\n",
    "#print(lemmatizer.lemmatize(\"best\", pos='a'))"
   ]
  },
  {
   "cell_type": "markdown",
   "metadata": {},
   "source": [
    "### WORDNET"
   ]
  },
  {
   "cell_type": "markdown",
   "metadata": {},
   "source": [
    "WordNet is a lexical database for the English language. \n",
    "\n",
    "We can use WordNet alongside the NLTK module to find the meanings of words, synonyms, antonyms, and more. Let's cover some examples."
   ]
  },
  {
   "cell_type": "code",
   "execution_count": 1,
   "metadata": {},
   "outputs": [],
   "source": [
    "from nltk.corpus import wordnet"
   ]
  },
  {
   "cell_type": "code",
   "execution_count": 20,
   "metadata": {},
   "outputs": [
    {
     "name": "stdout",
     "output_type": "stream",
     "text": [
      "[Synset('good.n.01'), Synset('good.n.02'), Synset('good.n.03'), Synset('commodity.n.01'), Synset('good.a.01'), Synset('full.s.06'), Synset('good.a.03'), Synset('estimable.s.02'), Synset('beneficial.s.01'), Synset('good.s.06'), Synset('good.s.07'), Synset('adept.s.01'), Synset('good.s.09'), Synset('dear.s.02'), Synset('dependable.s.04'), Synset('good.s.12'), Synset('good.s.13'), Synset('effective.s.04'), Synset('good.s.15'), Synset('good.s.16'), Synset('good.s.17'), Synset('good.s.18'), Synset('good.s.19'), Synset('good.s.20'), Synset('good.s.21'), Synset('well.r.01'), Synset('thoroughly.r.02')]\n"
     ]
    }
   ],
   "source": [
    "syns = wordnet.synsets(\"good\")\n",
    "print(syns)"
   ]
  },
  {
   "cell_type": "code",
   "execution_count": 13,
   "metadata": {},
   "outputs": [
    {
     "name": "stdout",
     "output_type": "stream",
     "text": [
      "good.n.01\n"
     ]
    }
   ],
   "source": [
    "print(syns[0].name())"
   ]
  },
  {
   "cell_type": "code",
   "execution_count": 14,
   "metadata": {},
   "outputs": [
    {
     "name": "stdout",
     "output_type": "stream",
     "text": [
      "good\n"
     ]
    }
   ],
   "source": [
    "print(syns[0].lemmas()[0].name())"
   ]
  },
  {
   "cell_type": "code",
   "execution_count": 22,
   "metadata": {},
   "outputs": [
    {
     "name": "stdout",
     "output_type": "stream",
     "text": [
      "benefit\n"
     ]
    }
   ],
   "source": [
    "print(syns[0].definition())"
   ]
  },
  {
   "cell_type": "code",
   "execution_count": 21,
   "metadata": {},
   "outputs": [
    {
     "name": "stdout",
     "output_type": "stream",
     "text": [
      "['for your own good', \"what's the good of worrying?\"]\n"
     ]
    }
   ],
   "source": [
    "print(syns[0].examples())"
   ]
  },
  {
   "cell_type": "markdown",
   "metadata": {},
   "source": [
    "We might be discern synonyms and antonyms to a word. The lemmas will be synonyms, and then we can use .antonyms to find the antonyms to the lemmas. As such, we can populate some lists like"
   ]
  },
  {
   "cell_type": "code",
   "execution_count": 23,
   "metadata": {},
   "outputs": [
    {
     "name": "stdout",
     "output_type": "stream",
     "text": [
      "{'serious', 'goodness', 'near', 'estimable', 'undecomposed', 'effective', 'upright', 'full', 'skillful', 'thoroughly', 'ripe', 'proficient', 'salutary', 'good', 'commodity', 'in_force', 'honorable', 'unspoiled', 'just', 'in_effect', 'beneficial', 'secure', 'expert', 'well', 'dependable', 'trade_good', 'honest', 'safe', 'adept', 'practiced', 'respectable', 'dear', 'unspoilt', 'soundly', 'sound', 'skilful', 'right'}\n",
      "{'evilness', 'ill', 'evil', 'badness', 'bad'}\n"
     ]
    }
   ],
   "source": [
    "synonyms = []\n",
    "\n",
    "antonyms = []\n",
    "\n",
    "for syn in wordnet.synsets(\"good\"):\n",
    "    for l in syn.lemmas():\n",
    "        synonyms.append(l.name())\n",
    "        if l.antonyms():\n",
    "            antonyms.append(l.antonyms()[0].name())\n",
    "            \n",
    "print(set(synonyms))\n",
    "print(set(antonyms))"
   ]
  },
  {
   "cell_type": "markdown",
   "metadata": {},
   "source": [
    "Next, we can also easily use WordNet to compare the similarity of two words and their tenses, by incorporating the **Wu and Palmer** method for semantic related-ness.\n",
    "\n",
    "Let's compare the noun of \"ship\" and \"boat:\"\n"
   ]
  },
  {
   "cell_type": "code",
   "execution_count": 24,
   "metadata": {},
   "outputs": [
    {
     "name": "stdout",
     "output_type": "stream",
     "text": [
      "0.9090909090909091\n"
     ]
    }
   ],
   "source": [
    "w1 = wordnet.synset('ship.n.01')\n",
    "w2 = wordnet.synset('boat.n.01')\n",
    "print(w1.wup_similarity(w2))"
   ]
  },
  {
   "cell_type": "code",
   "execution_count": 27,
   "metadata": {},
   "outputs": [
    {
     "name": "stdout",
     "output_type": "stream",
     "text": [
      "0.7333333333333333\n"
     ]
    }
   ],
   "source": [
    "w1 = wordnet.synset('sheep.n.01')\n",
    "w2 = wordnet.synset('dog.n.01')\n",
    "print(w1.wup_similarity(w2))"
   ]
  },
  {
   "cell_type": "code",
   "execution_count": 6,
   "metadata": {},
   "outputs": [],
   "source": [
    "#w1 = wordnet.synset('ship.n.01')\n",
    "#w2 = wordnet.synset('cat.n.01')\n",
    "#print(w1.wup_similarity(w2))"
   ]
  },
  {
   "cell_type": "markdown",
   "metadata": {},
   "source": [
    "### TEXT CLASSIFICATION"
   ]
  },
  {
   "cell_type": "markdown",
   "metadata": {},
   "source": [
    "We're going to start by trying to use the movie reviews database that is part of the NLTK corpus. From there we'll try to use words as \"features\" which are a part of either a positive or negative movie review. The NLTK corpus movie_reviews data set has the reviews, and they are labeled already as positive or negative."
   ]
  },
  {
   "cell_type": "code",
   "execution_count": 3,
   "metadata": {},
   "outputs": [],
   "source": [
    "import nltk\n",
    "import random\n",
    "from nltk.corpus import movie_reviews"
   ]
  },
  {
   "cell_type": "code",
   "execution_count": 4,
   "metadata": {},
   "outputs": [
    {
     "name": "stdout",
     "output_type": "stream",
     "text": [
      "(['he', 'has', 'spent', 'his', 'entire', 'life', 'in', 'an', 'awful', 'little', 'apartment', ',', 'raised', 'and', 'cared', 'for', 'and', 'imprisoned', 'by', 'his', 'domineering', 'mother', '.', 'she', 'inspires', 'his', 'love', 'and', 'his', 'fear', ',', 'and', 'instills', 'in', 'him', 'a', 'similar', 'love', 'and', 'fear', 'of', 'jesus', '.', 'he', 'has', 'a', 'rudimentary', 'grasp', 'of', 'language', ',', 'mouthing', 'monosyllables', 'and', 'repetitions', 'of', 'his', 'mother', \"'\", 's', 'phrases', '.', 'he', 'is', 'taught', 'that', 'the', 'world', 'outside', 'is', 'fatally', 'poisonous', ';', 'his', 'mother', 'dons', 'a', 'gasmask', 'whenever', 'she', 'goes', 'out', 'the', 'door', '.', 'he', 'is', '35', '-', 'years', '-', 'old', 'in', 'body', ',', 'but', 'a', 'child', 'in', 'mind', 'and', 'spirit', '.', 'he', 'is', 'the', 'premise', 'for', 'bad', 'boy', 'bubby', ',', 'a', 'defiantly', 'original', 'australian', 'movie', 'about', 'a', 'man', 'called', 'bubby', '(', 'nicholas', 'hope', ')', 'who', 'has', 'spent', 'his', 'entire', 'life', 'in', 'an', 'awful', 'little', 'apartment', ',', 'etc', '.', ',', 'etc', '.', 'then', 'one', 'day', 'his', 'father', '(', 'ralph', 'cotterill', ')', 'appears', '.', 'his', 'father', 'is', 'a', 'shabby', 'down', '-', 'at', '-', 'heels', 'priest', 'who', 'appears', 'to', 'have', 'permanently', 'misplaced', 'his', 'religion', '.', 'unsurprisingly', ',', 'he', 'is', 'not', 'thrilled', 'with', 'the', 'way', '\"', 'his', '\"', 'boy', 'has', 'turned', 'out', '.', 'he', 'is', ',', 'however', ',', 'rather', 'pleased', 'at', 'renewing', 'his', 'acquaintance', 'with', 'the', 'mother', '(', 'claire', 'benito', ')', ',', 'and', ',', 'more', 'to', 'the', 'point', ',', 'her', 'ample', 'breasts', '.', 'soon', 'they', 'are', 'copulating', 'on', 'the', 'dingy', 'couch', ',', 'while', 'bubby', 'crouches', ',', 'confused', ',', 'in', 'the', 'next', 'room', ',', 'acutely', 'aware', 'that', 'the', 'mother', 'who', 'had', 'devoted', 'all', 'her', 'attention', 'to', 'him', 'has', 'a', 'new', 'interest', '.', 'bubby', \"'\", 's', 'relationship', 'to', 'the', 'world', 'may', 'be', 'warped', ',', 'but', 'it', 'is', 'at', 'least', 'stable', '.', 'the', 'father', \"'\", 's', 'arrival', 'disturbs', 'his', 'precarious', 'balance', ',', 'causing', 'an', 'oedipal', 'conflict', 'which', 'ends', '--', 'freud', 'would', 'be', 'pleased', '--', 'in', 'violence', 'and', ',', 'as', 'a', 'result', ',', 'freedom', '.', 'bubby', 'intuits', 'from', 'his', 'father', \"'\", 's', 'arrival', 'that', 'the', 'air', 'outside', 'is', 'breathable', ':', 'he', 'leaves', 'the', 'apartment', ',', 'his', 'past', ',', 'his', 'world', ',', 'behind', '.', 'so', 'far', ',', 'so', 'good', '.', 'the', 'first', 'thirty', 'minutes', 'or', 'so', 'of', 'bad', 'boy', 'bubby', ',', 'which', 'bring', 'us', 'to', 'this', 'point', ',', 'are', 'quite', 'brilliant', '.', 'the', 'movie', 'is', 'at', 'its', 'best', 'when', 'its', 'stays', 'within', 'the', 'constraints', 'of', 'bubby', \"'\", 's', 'hermetic', 'two', '-', 'room', 'universe', '.', 'it', 'follows', 'through', 'unrelentingly', 'on', 'the', 'implications', 'of', 'its', 'premise', ':', 'bubby', 'is', 'used', 'by', 'his', 'mother', 'for', 'sex', ',', 'he', 'unwittingly', 'suffocates', 'the', 'pet', 'cat', 'with', 'cellophane', ',', 'he', 'is', 'terrifed', 'by', 'the', 'notion', 'that', 'jesus', 'will', 'beat', 'him', 'senseless', 'if', 'he', 'sins', '.', 'it', 'is', 'grim', 'and', 'savage', 'and', 'appalling', ',', 'but', 'also', 'strangely', 'tender', '--', 'de', 'heer', ',', 'having', 'imagined', 'a', 'life', 'as', 'bizarre', 'as', 'bubby', \"'\", 's', ',', 'does', 'not', 'exaggerate', 'for', 'comic', 'or', 'grotesqe', 'purposes', ',', 'but', 'simply', 'empathizes', '.', 'he', 'observes', 'what', 'it', 'might', 'be', 'like', '.', 'the', 'intensity', 'of', 'these', 'opening', 'scenes', ',', 'with', 'their', 'minimalist', 'mise', '-', 'en', '-', 'scene', ',', 'immerses', 'us', 'in', 'a', 'claustrophobic', 'environment', 'which', 'seems', 'to', 'be', 'a', 'decayed', 'stratum', 'of', 'our', 'own', 'world', ',', 'and', 'owes', 'much', 'to', 'david', 'lynch', \"'\", 's', 'eraserhead', ',', 'not', 'least', 'the', 'ambient', 'industrial', 'white', 'noise', 'of', 'the', 'soundtrack', '.', 'for', 'thirty', 'minutes', ',', 'the', 'movie', 'maintains', 'the', 'feel', 'and', 'mood', 'of', 'a', 'reality', 'that', 'does', 'not', 'seem', 'far', 'removed', 'from', 'our', 'own', '.', 'then', 'de', 'heer', 'lets', 'bubby', 'out', ',', 'brings', 'him', 'into', 'contact', 'with', 'our', 'world', ',', 'and', 'the', 'film', 'never', 'quite', 'recovers', '.', 'our', 'unlikely', 'hero', 'finds', 'himself', 'in', 'port', 'adelaide', ',', 'where', 'he', 'wanders', 'the', 'streets', 'and', 'meets', 'people', ',', 'where', 'he', 'suffers', 'and', 'learns', 'and', 'survives', '.', 'he', 'is', 'seduced', 'by', 'a', 'young', 'woman', 'from', 'a', 'salvation', 'army', 'band', '(', 'how', 'an', 'anti', '-', 'social', 'half', '-', 'wit', 'with', 'no', 'sense', 'of', 'hygiene', 'manages', 'to', 'get', 'laid', 'mere', 'hours', 'after', 'his', 'escape', 'is', 'not', 'the', 'sort', 'of', 'question', 'the', 'film', 'encourages', ',', 'wisely', ')', ';', 'he', 'is', 'given', 'free', 'pizza', 'by', 'a', 'sympathetic', 'waitress', ';', 'he', 'insults', 'a', 'traffic', 'cop', 'and', 'is', 'punched', 'in', 'the', 'stomach', ';', 'he', 'shares', 'a', 'few', 'beers', 'in', 'the', 'back', 'of', 'a', 'truck', 'with', 'a', 'rock', 'group', ';', 'he', 'is', 'imprisoned', 'and', 'raped', ';', 'he', 'becomes', 'a', 'translator', 'for', 'mentally', 'handicapped', 'people', 'whose', 'speech', 'is', 'impaired', 'beyond', 'comprehension', ';', 'he', 'is', 'loved', 'by', 'a', 'motherly', 'large', '-', 'breasted', 'nurse', '(', 'carmel', 'johnson', ')', '.', '.', '.', 'it', 'goes', 'on', ',', 'by', 'turns', 'inventive', ',', 'silly', ',', 'tasteless', ',', 'endearing', ',', 'and', 'sometimes', 'all', 'of', 'these', 'things', 'at', 'once', '.', 'de', 'heer', 'never', 'seems', 'to', 'be', 'sure', 'how', 'bubby', 'should', 'interface', 'with', 'the', 'real', 'world', ':', 'the', 'tone', 'shifts', ',', 'uneasily', ',', 'from', 'fable', 'to', 'realism', 'to', 'satire', 'and', 'back', 'again', '.', 'the', 'scenes', 'which', 'try', 'to', 'touch', 'base', 'with', 'a', 'believable', 'version', 'of', 'reality', 'are', 'the', 'weakest', ';', 'the', 'film', 'is', 'best', 'understood', 'as', 'a', 'kind', 'of', 'parable', ',', 'and', ',', 'indeed', ',', 'the', 'religious', 'implications', 'of', 'bubby', \"'\", 's', 'experiences', 'are', 'foregrounded', ':', 'icons', 'of', 'jesus', 'on', 'the', 'cross', 'hang', 'from', 'the', 'mother', \"'\", 's', 'walls', ',', 'bubby', 'dons', 'a', 'priest', \"'\", 's', 'collar', 'stolen', 'from', 'his', 'father', ',', 'a', 'church', 'organ', '-', 'playing', 'atheist', 'lectures', 'him', 'on', 'the', 'necessity', 'of', 'unbelief', ',', 'the', 'woman', 'who', 'redeems', 'him', 'is', 'named', 'angel', '.', 'the', 'manifold', 'stresses', 'of', 'our', 'world', 'do', 'not', 'shatter', 'bubby', \"'\", 's', 'mind', ',', 'do', 'not', 'fragment', 'him', 'into', 'psychosis', ';', 'rather', ',', 'the', 'world', 'accomodates', 'him', ',', 'and', 'heals', 'him', '.', 'although', 'de', 'heer', \"'\", 's', 'touch', 'is', 'at', 'times', 'overbearing', ',', 'bubby', \"'\", 's', 'salvation', 'is', 'touching', ';', 'what', 'seemd', 'at', 'first', 'a', 'harsh', 'lesson', 'in', 'the', 'damaging', 'effects', 'of', 'the', 'social', 'construction', 'of', 'reality', 'becomes', 'a', 'na', '?', 've', 'humanist', 'tale', 'of', 'improbable', 'hope', '.', 'a', 'hapless', 'rock', 'group', 'write', 'a', 'song', 'about', 'bubby', 'and', 'sing', 'it', 'for', 'him', 'and', 'so', 'give', 'him', 'the', 'gift', 'of', 'community', '.', 'he', 'returns', 'the', 'favour', 'when', 'he', 'steps', 'on', 'stage', 'one', 'night', 'and', 'becomes', 'their', 'frontman', ',', 'turning', 'the', 'fragmented', 'impressions', 'of', 'his', 'experiences', 'into', 'performance', 'art', ',', 'and', 'turning', 'the', 'band', 'into', 'a', 'popular', 'draw', '.', 'innocence', 'triumphs', '.', 'bubby', 'becomes', 'a', 'holy', 'fool', ',', 'an', 'idiot', 'savant', ',', 'and', 'graces', 'us', 'with', 'wisdom', '.', 'it', \"'\", 's', 'a', 'strange', 'turn', 'of', 'events', ',', 'but', 'by', 'now', 'we', 'shouldn', \"'\", 't', 'be', 'surprised', ',', 'because', 'bad', 'boy', 'bubby', 'ain', \"'\", 't', 'like', 'other', 'movies', '.'], 'pos')\n",
      "[(',', 77717), ('the', 76529), ('.', 65876), ('a', 38106), ('and', 35576), ('of', 34123), ('to', 31937), (\"'\", 30585), ('is', 25195), ('in', 21822), ('s', 18513), ('\"', 17612), ('it', 16107), ('that', 15924), ('-', 15595)]\n",
      "253\n"
     ]
    }
   ],
   "source": [
    "documents = [(list(movie_reviews.words(fileid)), category)\n",
    "             for category in movie_reviews.categories()\n",
    "             for fileid in movie_reviews.fileids(category)]\n",
    "\n",
    "random.shuffle(documents)\n",
    "\n",
    "print(documents[1])\n",
    "\n",
    "all_words = []\n",
    "for w in movie_reviews.words():\n",
    "    all_words.append(w.lower())\n",
    "\n",
    "all_words = nltk.FreqDist(all_words)\n",
    "print(all_words.most_common(15))\n",
    "print(all_words[\"stupid\"])"
   ]
  },
  {
   "cell_type": "code",
   "execution_count": 5,
   "metadata": {},
   "outputs": [
    {
     "name": "stdout",
     "output_type": "stream",
     "text": [
      "15\n"
     ]
    }
   ],
   "source": [
    "all_words = nltk.FreqDist(all_words)\n",
    "#print(all_words.most_common(15))\n",
    "print(all_words[\"python\"])"
   ]
  },
  {
   "cell_type": "markdown",
   "metadata": {},
   "source": [
    "### Words as Feature for Learning"
   ]
  },
  {
   "cell_type": "markdown",
   "metadata": {},
   "source": [
    "We're going to be building and compiling feature lists of words from positive reviews and words from the negative reviews to hopefully see trends in specific types of words in positive or negative reviews."
   ]
  },
  {
   "cell_type": "code",
   "execution_count": 6,
   "metadata": {},
   "outputs": [],
   "source": [
    "import nltk\n",
    "import random\n",
    "from nltk.corpus import movie_reviews"
   ]
  },
  {
   "cell_type": "code",
   "execution_count": 7,
   "metadata": {},
   "outputs": [],
   "source": [
    "\n",
    "\n",
    "documents = [(list(movie_reviews.words(fileid)), category)\n",
    "             for category in movie_reviews.categories()\n",
    "             for fileid in movie_reviews.fileids(category)]\n",
    "\n",
    "random.shuffle(documents)\n",
    "\n",
    "all_words = []\n",
    "\n",
    "for w in movie_reviews.words():\n",
    "    all_words.append(w.lower())\n",
    "\n",
    "all_words = nltk.FreqDist(all_words)\n",
    "\n",
    "word_features = list(all_words.keys())[:2500]"
   ]
  },
  {
   "cell_type": "code",
   "execution_count": 8,
   "metadata": {},
   "outputs": [],
   "source": [
    "def find_features(document):\n",
    "    words = set(document)\n",
    "    features = {}\n",
    "    for w in word_features:\n",
    "        features[w] = (w in words)\n",
    "\n",
    "    return features"
   ]
  },
  {
   "cell_type": "code",
   "execution_count": 9,
   "metadata": {},
   "outputs": [
    {
     "name": "stdout",
     "output_type": "stream",
     "text": [
      "{'plot': True, ':': True, 'two': True, 'teen': True, 'couples': True, 'go': True, 'to': True, 'a': True, 'church': True, 'party': True, ',': True, 'drink': True, 'and': True, 'then': True, 'drive': True, '.': True, 'they': True, 'get': True, 'into': True, 'an': True, 'accident': True, 'one': True, 'of': True, 'the': True, 'guys': True, 'dies': True, 'but': True, 'his': True, 'girlfriend': True, 'continues': True, 'see': True, 'him': True, 'in': True, 'her': True, 'life': True, 'has': True, 'nightmares': True, 'what': True, \"'\": True, 's': True, 'deal': True, '?': True, 'watch': True, 'movie': True, '\"': True, 'sorta': True, 'find': True, 'out': True, 'critique': True, 'mind': True, '-': True, 'fuck': True, 'for': True, 'generation': True, 'that': True, 'touches': True, 'on': True, 'very': True, 'cool': True, 'idea': True, 'presents': True, 'it': True, 'bad': True, 'package': True, 'which': True, 'is': True, 'makes': True, 'this': True, 'review': True, 'even': True, 'harder': True, 'write': True, 'since': True, 'i': True, 'generally': True, 'applaud': True, 'films': True, 'attempt': True, 'break': True, 'mold': True, 'mess': True, 'with': True, 'your': True, 'head': True, 'such': True, '(': True, 'lost': True, 'highway': True, '&': True, 'memento': True, ')': True, 'there': True, 'are': True, 'good': True, 'ways': True, 'making': True, 'all': True, 'types': True, 'these': True, 'folks': True, 'just': True, 'didn': True, 't': True, 'snag': True, 'correctly': True, 'seem': True, 'have': True, 'taken': True, 'pretty': True, 'neat': True, 'concept': True, 'executed': True, 'terribly': True, 'so': True, 'problems': True, 'well': True, 'its': True, 'main': True, 'problem': True, 'simply': True, 'too': True, 'jumbled': True, 'starts': True, 'off': True, 'normal': True, 'downshifts': True, 'fantasy': True, 'world': True, 'you': True, 'as': True, 'audience': True, 'member': True, 'no': True, 'going': True, 'dreams': True, 'characters': True, 'coming': True, 'back': True, 'from': True, 'dead': True, 'others': True, 'who': True, 'look': True, 'like': True, 'strange': True, 'apparitions': True, 'disappearances': True, 'looooot': True, 'chase': True, 'scenes': True, 'tons': True, 'weird': True, 'things': True, 'happen': True, 'most': True, 'not': True, 'explained': True, 'now': True, 'personally': True, 'don': True, 'trying': True, 'unravel': True, 'film': True, 'every': True, 'when': True, 'does': True, 'give': True, 'me': True, 'same': True, 'clue': True, 'over': True, 'again': True, 'kind': True, 'fed': True, 'up': True, 'after': True, 'while': True, 'biggest': True, 'obviously': True, 'got': True, 'big': True, 'secret': True, 'hide': True, 'seems': True, 'want': True, 'completely': True, 'until': True, 'final': True, 'five': True, 'minutes': True, 'do': True, 'make': True, 'entertaining': True, 'thrilling': True, 'or': True, 'engaging': True, 'meantime': True, 'really': True, 'sad': True, 'part': True, 'arrow': True, 'both': True, 'dig': True, 'flicks': True, 'we': True, 'actually': True, 'figured': True, 'by': True, 'half': True, 'way': True, 'point': True, 'strangeness': True, 'did': True, 'start': True, 'little': True, 'bit': True, 'sense': True, 'still': True, 'more': True, 'guess': True, 'bottom': True, 'line': True, 'movies': True, 'should': True, 'always': True, 'sure': True, 'before': True, 'given': True, 'password': True, 'enter': True, 'understanding': True, 'mean': True, 'showing': True, 'melissa': True, 'sagemiller': True, 'running': True, 'away': True, 'visions': True, 'about': True, '20': True, 'throughout': True, 'plain': True, 'lazy': True, '!': True, 'okay': True, 'people': True, 'chasing': True, 'know': True, 'need': True, 'how': True, 'giving': True, 'us': True, 'different': True, 'offering': True, 'further': True, 'insight': True, 'down': True, 'apparently': True, 'studio': True, 'took': True, 'director': True, 'chopped': True, 'themselves': True, 'shows': True, 'might': True, 've': True, 'been': True, 'decent': True, 'here': True, 'somewhere': True, 'suits': True, 'decided': True, 'turning': True, 'music': True, 'video': True, 'edge': True, 'would': True, 'actors': True, 'although': True, 'wes': True, 'bentley': True, 'seemed': True, 'be': True, 'playing': True, 'exact': True, 'character': True, 'he': True, 'american': True, 'beauty': True, 'only': True, 'new': True, 'neighborhood': True, 'my': True, 'kudos': True, 'holds': True, 'own': True, 'entire': True, 'feeling': True, 'unraveling': True, 'overall': True, 'doesn': True, 'stick': True, 'because': True, 'entertain': True, 'confusing': True, 'rarely': True, 'excites': True, 'feels': True, 'redundant': True, 'runtime': True, 'despite': True, 'ending': True, 'explanation': True, 'craziness': True, 'came': True, 'oh': True, 'horror': True, 'slasher': True, 'flick': True, 'packaged': True, 'someone': True, 'assuming': True, 'genre': True, 'hot': True, 'kids': True, 'also': True, 'wrapped': True, 'production': True, 'years': True, 'ago': True, 'sitting': True, 'shelves': True, 'ever': True, 'whatever': True, 'skip': True, 'where': True, 'joblo': True, 'nightmare': True, 'elm': True, 'street': True, '3': True, '7': True, '/': True, '10': True, 'blair': True, 'witch': True, '2': True, 'crow': True, '9': True, 'salvation': True, '4': True, 'stir': True, 'echoes': True, '8': True, 'happy': False, 'bastard': False, 'quick': False, 'damn': False, 'y2k': False, 'bug': False, 'starring': False, 'jamie': False, 'lee': False, 'curtis': False, 'another': False, 'baldwin': False, 'brother': False, 'william': False, 'time': False, 'story': False, 'regarding': False, 'crew': False, 'tugboat': False, 'comes': False, 'across': False, 'deserted': False, 'russian': False, 'tech': False, 'ship': False, 'kick': False, 'power': False, 'within': False, 'gore': False, 'bringing': False, 'few': False, 'action': False, 'sequences': False, 'virus': False, 'empty': False, 'flash': False, 'substance': False, 'why': False, 'was': False, 'middle': False, 'nowhere': False, 'origin': False, 'pink': False, 'flashy': False, 'thing': False, 'hit': False, 'mir': False, 'course': False, 'donald': False, 'sutherland': False, 'stumbling': False, 'around': False, 'drunkenly': False, 'hey': False, 'let': False, 'some': False, 'robots': False, 'acting': False, 'below': False, 'average': False, 'likes': False, 're': False, 'likely': False, 'work': False, 'halloween': False, 'h20': False, 'wasted': False, 'real': False, 'star': False, 'stan': False, 'winston': False, 'robot': False, 'design': False, 'schnazzy': False, 'cgi': False, 'occasional': False, 'shot': False, 'picking': False, 'brain': False, 'if': False, 'body': False, 'parts': False, 'turn': False, 'otherwise': False, 'much': False, 'sunken': False, 'jaded': False, 'viewer': False, 'thankful': False, 'invention': False, 'timex': False, 'indiglo': False, 'based': False, 'late': False, '1960': False, 'television': False, 'show': False, 'name': False, 'mod': False, 'squad': False, 'tells': False, 'tale': False, 'three': False, 'reformed': False, 'criminals': False, 'under': False, 'employ': False, 'police': False, 'undercover': False, 'however': False, 'wrong': False, 'evidence': False, 'gets': False, 'stolen': False, 'immediately': False, 'suspicion': False, 'ads': False, 'cuts': False, 'claire': False, 'dane': False, 'nice': False, 'hair': False, 'cute': False, 'outfits': False, 'car': False, 'chases': False, 'stuff': False, 'blowing': False, 'sounds': False, 'first': False, 'fifteen': False, 'quickly': False, 'becomes': False, 'apparent': False, 'certainly': False, 'slick': False, 'looking': False, 'complete': False, 'costumes': False, 'isn': False, 'enough': False, 'best': False, 'described': False, 'cross': False, 'between': False, 'hour': False, 'long': False, 'cop': False, 'stretched': False, 'span': False, 'single': False, 'clich': False, 'matter': False, 'elements': False, 'recycled': False, 'everything': False, 'already': False, 'seen': False, 'nothing': False, 'spectacular': False, 'sometimes': False, 'bordering': False, 'wooden': False, 'danes': False, 'omar': False, 'epps': False, 'deliver': False, 'their': False, 'lines': False, 'bored': False, 'transfers': False, 'onto': False, 'escape': False, 'relatively': False, 'unscathed': False, 'giovanni': False, 'ribisi': False, 'plays': False, 'resident': False, 'crazy': False, 'man': False, 'ultimately': False, 'being': False, 'worth': False, 'watching': False, 'unfortunately': False, 'save': False, 'convoluted': False, 'apart': False, 'occupying': False, 'screen': False, 'young': False, 'cast': False, 'clothes': False, 'hip': False, 'soundtrack': False, 'appears': False, 'geared': False, 'towards': False, 'teenage': False, 'mindset': False, 'r': False, 'rating': False, 'content': False, 'justify': False, 'juvenile': False, 'older': False, 'information': False, 'literally': False, 'spoon': False, 'hard': False, 'instead': False, 'telling': False, 'dialogue': False, 'poorly': False, 'written': False, 'extremely': False, 'predictable': False, 'progresses': False, 'won': False, 'care': False, 'heroes': False, 'any': False, 'jeopardy': False, 'll': False, 'aren': False, 'basing': False, 'nobody': False, 'remembers': False, 'questionable': False, 'wisdom': False, 'especially': False, 'considers': False, 'target': False, 'fact': False, 'number': False, 'memorable': False, 'can': False, 'counted': False, 'hand': False, 'missing': False, 'finger': False, 'times': False, 'checked': False, 'six': False, 'clear': False, 'indication': False, 'them': False, 'than': False, 'cash': False, 'spending': False, 'dollar': False, 'judging': False, 'rash': False, 'awful': False, 'seeing': False, 'avoid': False, 'at': False, 'costs': False, 'quest': False, 'camelot': False, 'warner': False, 'bros': False, 'feature': False, 'length': False, 'fully': False, 'animated': False, 'steal': False, 'clout': False, 'disney': False, 'cartoon': False, 'empire': False, 'mouse': False, 'reason': False, 'worried': False, 'other': False, 'recent': False, 'challenger': False, 'throne': False, 'last': False, 'fall': False, 'promising': False, 'flawed': False, '20th': False, 'century': False, 'fox': False, 'anastasia': False, 'hercules': False, 'lively': False, 'colorful': False, 'palate': False, 'had': False, 'beat': False, 'hands': False, 'crown': False, '1997': False, 'piece': False, 'animation': False, 'year': False, 'contest': False, 'arrival': False, 'magic': False, 'kingdom': False, 'mediocre': False, '--': False, 'd': False, 'pocahontas': False, 'those': False, 'keeping': False, 'score': False, 'nearly': False, 'dull': False, 'revolves': False, 'adventures': False, 'free': False, 'spirited': False, 'kayley': False, 'voiced': False, 'jessalyn': False, 'gilsig': False, 'early': False, 'daughter': False, 'belated': False, 'knight': False, 'king': False, 'arthur': False, 'round': False, 'table': False, 'dream': False, 'follow': False, 'father': False, 'footsteps': False, 'she': False, 'chance': False, 'evil': False, 'warlord': False, 'ruber': False, 'gary': False, 'oldman': False, 'ex': False, 'gone': False, 'steals': False, 'magical': False, 'sword': False, 'excalibur': False, 'accidentally': False, 'loses': False, 'dangerous': False, 'booby': False, 'trapped': False, 'forest': False, 'help': False, 'hunky': False, 'blind': False, 'timberland': False, 'dweller': False, 'garrett': False, 'carey': False, 'elwes': False, 'headed': False, 'dragon': False, 'eric': False, 'idle': False, 'rickles': False, 'arguing': False, 'itself': False, 'able': False, 'medieval': False, 'sexist': False, 'prove': False, 'fighter': False, 'side': False, 'pure': False, 'showmanship': False, 'essential': False, 'element': False, 'expected': False, 'climb': False, 'high': False, 'ranks': False, 'differentiates': False, 'something': False, 'saturday': False, 'morning': False, 'subpar': False, 'instantly': False, 'forgettable': False, 'songs': False, 'integrated': False, 'computerized': False, 'footage': False, 'compare': False, 'run': False, 'angry': False, 'ogre': False, 'herc': False, 'battle': False, 'hydra': False, 'rest': False, 'case': False, 'stink': False, 'none': False, 'remotely': False, 'interesting': False, 'race': False, 'bland': False, 'end': False, 'tie': False, 'win': False, 'comedy': False, 'shtick': False, 'awfully': False, 'cloying': False, 'least': False, 'signs': False, 'pulse': False, 'fans': False, \"-'\": False, '90s': False, 'tgif': False, 'will': False, 'thrilled': False, 'jaleel': False, 'urkel': False, 'white': False, 'bronson': False, 'balki': False, 'pinchot': False, 'sharing': False, 'nicely': False, 'realized': False, 'though': False, 'm': False, 'loss': False, 'recall': False, 'specific': False, 'providing': False, 'voice': False, 'talent': False, 'enthusiastic': False, 'paired': False, 'singers': False, 'sound': False, 'musical': False, 'moments': False, 'jane': False, 'seymour': False, 'celine': False, 'dion': False, 'must': False, 'strain': False, 'through': False, 'aside': False, 'children': False, 'probably': False, 'adults': False, 'grievous': False, 'error': False, 'lack': False, 'personality': False, 'learn': False, 'goes': False, 'synopsis': False, 'mentally': False, 'unstable': False, 'undergoing': False, 'psychotherapy': False, 'saves': False, 'boy': False, 'potentially': False, 'fatal': False, 'falls': False, 'love': False, 'mother': False, 'fledgling': False, 'restauranteur': False, 'unsuccessfully': False, 'attempting': False, 'gain': False, 'woman': False, 'favor': False, 'takes': False, 'pictures': False, 'kills': False, 'comments': False, 'stalked': False, 'yet': False, 'seemingly': False, 'endless': False, 'string': False, 'spurned': False, 'psychos': False, 'getting': False, 'revenge': False, 'type': False, 'stable': False, 'category': False, '1990s': False, 'industry': False, 'theatrical': False, 'direct': False, 'proliferation': False, 'may': False, 'due': False, 'typically': False, 'inexpensive': False, 'produce': False, 'special': False, 'effects': False, 'stars': False, 'serve': False, 'vehicles': False, 'nudity': False, 'allowing': False, 'frequent': False, 'night': False, 'cable': False, 'wavers': False, 'slightly': False, 'norm': False, 'respect': False, 'psycho': False, 'never': False, 'affair': False, ';': False, 'contrary': False, 'rejected': False, 'rather': False, 'lover': False, 'wife': False, 'husband': False, 'entry': False, 'doomed': False, 'collect': False, 'dust': False, 'viewed': False, 'midnight': False, 'provide': False, 'suspense': False, 'sets': False, 'interspersed': False, 'opening': False, 'credits': False, 'instance': False, 'serious': False, 'sounding': False, 'narrator': False, 'spouts': False, 'statistics': False, 'stalkers': False, 'ponders': False, 'cause': False, 'stalk': False, 'implicitly': False, 'implied': False, 'men': False, 'shown': False, 'snapshot': False, 'actor': False, 'jay': False, 'underwood': False, 'states': False, 'daryl': False, 'gleason': False, 'stalker': False, 'brooke': False, 'daniels': False, 'meant': False, 'called': False, 'guesswork': False, 'required': False, 'proceeds': False, 'begins': False, 'obvious': False, 'sequence': False, 'contrived': False, 'quite': False, 'brings': False, 'victim': False, 'together': False, 'obsesses': False, 'follows': False, 'tries': False, 'woo': False, 'plans': False, 'become': False, 'desperate': False, 'elaborate': False, 'include': False, 'cliche': False, 'murdered': False, 'pet': False, 'require': False, 'found': False, 'exception': False, 'cat': False, 'shower': False, 'events': False, 'lead': False, 'inevitable': False, 'showdown': False, 'survives': False, 'invariably': False, 'conclusion': False, 'turkey': False, 'uniformly': False, 'adequate': False, 'anything': False, 'home': False, 'either': False, 'turns': False, 'toward': False, 'melodrama': False, 'overdoes': False, 'words': False, 'manages': False, 'creepy': False, 'pass': False, 'demands': False, 'maryam': False, 'abo': False, 'close': False, 'played': False, 'bond': False, 'chick': False, 'living': False, 'daylights': False, 'equally': False, 'title': False, 'ditzy': False, 'strong': False, 'independent': False, 'business': False, 'owner': False, 'needs': False, 'proceed': False, 'example': False, 'suspicions': False, 'ensure': False, 'use': False, 'excuse': False, 'decides': False, 'return': False, 'toolbox': False, 'left': False, 'place': False, 'house': False, 'leave': False, 'door': False, 'answers': False, 'opens': False, 'wanders': False, 'returns': False, 'enters': False, 'our': False, 'heroine': False, 'danger': False, 'somehow': False, 'parked': False, 'front': False, 'right': False, 'oblivious': False, 'presence': False, 'inside': False, 'whole': False, 'episode': False, 'places': False, 'incredible': False, 'suspension': False, 'disbelief': False, 'questions': False, 'validity': False, 'intelligence': False, 'receives': False, 'highly': False, 'derivative': False, 'somewhat': False, 'boring': False, 'cannot': False, 'watched': False, 'rated': False, 'mostly': False, 'several': False, 'murder': False, 'brief': False, 'strip': False, 'bar': False, 'offensive': False, 'many': False, 'thrillers': False, 'mood': False, 'stake': False, 'else': False, 'capsule': False, '2176': False, 'planet': False, 'mars': False, 'taking': False, 'custody': False, 'accused': False, 'murderer': False, 'face': False, 'menace': False, 'lot': False, 'fighting': False, 'john': False, 'carpenter': False, 'reprises': False, 'ideas': False, 'previous': False, 'assault': False, 'precinct': False, '13': False, 'homage': False, 'himself': False, '0': False, '+': False, 'believes': False, 'fight': False, 'horrible': False, 'writer': False, 'supposedly': False, 'expert': False, 'mistake': False, 'ghosts': False, 'drawn': False, 'humans': False, 'surprisingly': False, 'low': False, 'powered': False, 'alien': False, 'addition': False, 'anybody': False, 'made': False, 'grounds': False, 'sue': False, 'chock': False, 'full': False, 'pieces': False, 'prince': False, 'darkness': False, 'surprising': False, 'managed': False, 'fit': False, 'admittedly': False, 'novel': False, 'science': False, 'fiction': False, 'experience': False, 'terraformed': False, 'walk': False, 'surface': False, 'without': False, 'breathing': False, 'gear': False, 'budget': False, 'mentioned': False, 'gravity': False, 'increased': False, 'earth': False, 'easier': False, 'society': False, 'changed': False, 'advanced': False, 'culture': False, 'women': False, 'positions': False, 'control': False, 'view': False, 'stagnated': False, 'female': False, 'beyond': False, 'minor': False, 'technological': False, 'advances': False, 'less': False, '175': False, 'expect': False, 'change': False, 'ten': False, 'basic': False, 'common': False, 'except': False, 'yes': False, 'replaced': False, 'tacky': False, 'rundown': False, 'martian': False, 'mining': False, 'colony': False, 'having': False, 'criminal': False, 'napolean': False, 'wilson': False, 'desolation': False, 'williams': False, 'facing': False, 'hoodlums': False, 'automatic': False, 'weapons': False, 'nature': False, 'behave': False, 'manner': False, 'essentially': False, 'human': False, 'savages': False, 'lapse': False, 'imagination': False, 'told': False, 'flashback': False, 'entirely': False, 'filmed': False, 'almost': False, 'tones': False, 'red': False, 'yellow': False, 'black': False, 'powerful': False, 'scene': False, 'train': False, 'rushing': False, 'heavy': False, 'sadly': False, 'buildup': False, 'terror': False, 'creates': False, 'looks': False, 'fugitive': False, 'wannabes': False, 'rock': False, 'band': False, 'kiss': False, 'building': False, 'bunch': False, 'sudden': False, 'jump': False, 'sucker': False, 'thinking': False, 'scary': False, 'happening': False, 'standard': False, 'haunted': False, 'shock': False, 'great': False, 'newer': False, 'unimpressive': False, 'digital': False, 'decapitations': False, 'fights': False, 'short': False, 'stretch': False, 'release': False, 'mission': False, 'panned': False, 'reviewers': False, 'better': False, 'rate': False, 'scale': False, 'following': False, 'showed': False, 'liked': False, 'moderately': False, 'classic': False, 'comment': False, 'twice': False, 'ask': False, 'yourself': False, '8mm': False, 'eight': False, 'millimeter': False, 'wholesome': False, 'surveillance': False, 'sight': False, 'values': False, 'becoming': False, 'enmeshed': False, 'seedy': False, 'sleazy': False, 'underworld': False, 'hardcore': False, 'pornography': False, 'bubbling': False, 'beneath': False, 'town': False, 'americana': False, 'sordid': False, 'sick': False, 'depraved': False, 'necessarily': False, 'stop': False, 'order': False, 'satisfy': False, 'twisted': False, 'desires': False, 'position': False, 'influence': False, 'kinds': False, 'demented': False, 'talking': False, 'snuff': False, 'supposed': False, 'documentaries': False, 'victims': False, 'brutalized': False, 'killed': False, 'camera': False, 'joel': False, 'schumacher': False, 'credit': False, 'batman': False, 'robin': False, 'kill': False, 'forever': False, 'client': False, 'thirds': False, 'unwind': False, 'fairly': False, 'conventional': False, 'persons': False, 'drama': False, 'albeit': False, 'particularly': False, 'unsavory': False, 'core': False, 'threatening': False, 'along': False, 'explodes': False, 'violence': False, 'think': False, 'finally': False, 'tags': False, 'ridiculous': False, 'self': False, 'righteous': False, 'finale': False, 'drags': False, 'unpleasant': False, 'trust': False, 'waste': False, 'hours': False, 'nicolas': False, 'snake': False, 'eyes': False, 'cage': False, 'private': False, 'investigator': False, 'tom': False, 'welles': False, 'hired': False, 'wealthy': False, 'philadelphia': False, 'widow': False, 'determine': False, 'whether': False, 'reel': False, 'safe': False, 'documents': False, 'girl': False, 'assignment': False, 'factly': False, 'puzzle': False, 'neatly': False, 'specialized': False, 'skills': False, 'training': False, 'easy': False, 'cops': False, 'toilet': False, 'tanks': False, 'clues': False, 'deeper': False, 'digs': False, 'investigation': False, 'obsessed': False, 'george': False, 'c': False, 'scott': False, 'paul': False, 'schrader': False, 'occasionally': False, 'flickering': False, 'whirs': False, 'sprockets': False, 'winding': False, 'projector': False, 'reminding': False, 'task': False, 'hints': False, 'toll': False, 'lovely': False, 'catherine': False, 'keener': False, 'frustrated': False, 'cleveland': False, 'ugly': False, 'split': False, 'level': False, 'harrisburg': False, 'pa': False, 'condemn': False, 'condone': False, 'subject': False, 'exploits': False, 'irony': False, 'seven': False, 'scribe': False, 'andrew': False, 'kevin': False, 'walker': False, 'vision': False, 'lane': False, 'limited': False, 'hollywood': False, 'product': False, 'snippets': False, 'covering': False, 'later': False, 'joaquin': False, 'phoenix': False, 'far': False, 'adult': False, 'bookstore': False, 'flunky': False, 'max': False, 'california': False, 'cover': False, 'horrid': False, 'screened': False, 'familiar': False, 'revelation': False, 'sexual': False, 'deviants': False, 'indeed': False, 'monsters': False, 'everyday': False, 'neither': False, 'super': False, 'nor': False, 'shocking': False, 'banality': False, 'exactly': False, 'felt': False, 'weren': False, 'nine': False, 'laughs': False, 'months': False, 'terrible': False, 'mr': False, 'hugh': False, 'grant': False, 'huge': False, 'dork': False, 'oral': False, 'sex': False, 'prostitution': False, 'referring': False, 'bugs': False, 'annoying': False, 'adam': False, 'sandler': False, 'jim': False, 'carrey': False, 'eye': False, 'flutters': False, 'nervous': False, 'smiles': False, 'slapstick': False, 'fistfight': False, 'delivery': False, 'room': False, 'culminating': False, 'joan': False, 'cusack': False, 'lap': False, 'paid': False, '$': False, '60': False, 'included': False, 'obscene': False, 'double': False, 'entendres': False, 'obstetrician': False, 'pregnant': False, 'pussy': False, 'size': False, 'hairs': False, 'coat': False, 'nonetheless': False, 'exchange': False, 'cookie': False, 'cutter': False, 'originality': False, 'humor': False, 'successful': False, 'child': False, 'psychiatrist': False, 'psychologist': False, 'scriptwriters': False, 'could': False, 'inject': False, 'unfunny': False, 'kid': False, 'dad': False, 'asshole': False, 'eyelashes': False, 'offers': False, 'smile': False, 'responds': False, 'english': False, 'accent': False, 'attitude': False, 'possibly': False, '_huge_': False, 'beside': False, 'includes': False, 'needlessly': False, 'stupid': False, 'jokes': False, 'olds': False, 'everyone': False, 'shakes': False, 'anyway': False, 'finds': False, 'usual': False, 'reaction': False, 'fluttered': False, 'paves': False, 'possible': False, 'pregnancy': False, 'birth': False, 'gag': False, 'book': False, 'friend': False, 'arnold': False, 'provides': False, 'cacophonous': False, 'funny': False, 'beats': False, 'costumed': False, 'arnie': False, 'dinosaur': False, 'draw': False, 'parallels': False, 'toy': False, 'store': False, 'jeff': False, 'goldblum': False, 'hid': False, 'dreadful': False, 'hideaway': False, 'artist': False, 'fear': False, 'simultaneous': False, 'longing': False, 'commitment': False, 'doctor': False, 'recently': False, 'switch': False, 'veterinary': False, 'medicine': False, 'obstetrics': False, 'joke': False, 'old': False, 'foreign': False, 'guy': False, 'mispronounces': False, 'stereotype': False, 'say': False, 'yakov': False, 'smirnov': False, 'favorite': False, 'vodka': False, 'hence': False, 'take': False, 'volvo': False, 'nasty': False, 'unamusing': False, 'heads': False, 'simultaneously': False, 'groan': False, 'failure': False, 'loud': False, 'failed': False, 'uninspired': False, 'lunacy': False, 'sunset': False, 'boulevard': False, 'arrest': False, 'please': False, 'caught': False, 'pants': False, 'bring': False, 'theaters': False, 'faces': False, '90': False, 'forced': False, 'unauthentic': False, 'anyone': False, 'q': False, '80': False, 'sorry': False, 'money': False, 'unfulfilled': False, 'desire': False, 'spend': False, 'bucks': False, 'call': False, 'road': False, 'trip': False, 'walking': False, 'wounded': False, 'stellan': False, 'skarsg': False, 'rd': False, 'convincingly': False, 'zombified': False, 'drunken': False, 'loser': False, 'difficult': False, 'smelly': False, 'boozed': False, 'reliable': False, 'swedish': False, 'adds': False, 'depth': False, 'significance': False, 'plodding': False, 'aberdeen': False, 'sentimental': False, 'painfully': False, 'mundane': False, 'european': False, 'playwright': False, 'august': False, 'strindberg': False, 'built': False, 'career': False, 'families': False, 'relationships': False, 'paralyzed': False, 'secrets': False, 'unable': False, 'express': False, 'longings': False, 'accurate': False, 'reflection': False, 'strives': False, 'focusing': False, 'pairing': False, 'alcoholic': False, 'tomas': False, 'alienated': False, 'openly': False, 'hostile': False, 'yuppie': False, 'kaisa': False, 'lena': False, 'headey': False, 'gossip': False, 'haven': False, 'spoken': False, 'wouldn': False, 'norway': False, 'scotland': False, 'automobile': False, 'charlotte': False, 'rampling': False, 'sand': False, 'rotting': False, 'hospital': False, 'bed': False, 'cancer': False, 'soap': False, 'opera': False, 'twist': False, 'days': False, 'live': False, 'blitzed': False, 'step': False, 'foot': False, 'plane': False, 'hits': False, 'open': False, 'loathing': False, 'each': False, 'periodic': False, 'stops': False, 'puke': False, 'dashboard': False, 'whenever': False, 'muttering': False, 'rotten': False, 'turned': False, 'sloshed': False, 'viewpoint': False, 'recognizes': False, 'apple': False, 'hasn': False, 'fallen': False, 'tree': False, 'nosebleeds': False, 'snorting': False, 'coke': False, 'sabotages': False, 'personal': False, 'indifference': False, 'restrain': False, 'vindictive': False, 'temper': False, 'ain': False, 'pair': False, 'true': False, 'notes': False, 'unspoken': False, 'familial': False, 'empathy': False, 'note': False, 'repetitively': False, 'bitchy': False, 'screenwriters': False, 'kristin': False, 'amundsen': False, 'hans': False, 'petter': False, 'moland': False, 'fabricate': False, 'series': False, 'contrivances': False, 'propel': False, 'forward': False, 'roving': False, 'hooligans': False, 'drunks': False, 'nosy': False, 'flat': False, 'tires': False, 'figure': False, 'schematic': False, 'convenient': False, 'narrative': False, 'reach': False, 'unveil': False, 'dark': False, 'past': False, 'simplistic': False, 'devices': False, 'trivialize': False, 'conflict': False, 'mainstays': False, 'wannabe': False, 'exists': False, 'purely': False, 'sake': False, 'weak': False, 'unimaginative': False, 'casting': False, 'thwarts': False, 'pivotal': False, 'role': False, 'were': False, 'stronger': False, 'actress': False, 'perhaps': False, 'coast': False, 'performances': False, 'moody': False, 'haunting': False, 'cinematography': False, 'rendering': False, 'pastoral': False, 'ghost': False, 'reference': False, 'certain': False, 'superior': False, 'indie': False, 'intentional': False, 'busy': False, 'using': False, 'furrowed': False, 'brow': False, 'convey': False, 'twitch': False, 'insouciance': False, 'paying': False, 'attention': False, 'maybe': False, 'doing': False, 'reveal': False, 'worthwhile': False, 'earlier': False, 'released': False, '2001': False, 'jonathan': False, 'nossiter': False, 'captivating': False, 'wonders': False, 'disturbed': False, 'parental': False, 'figures': False, 'bound': False, 'ceremonial': False, 'wedlock': False, 'differences': False, 'presented': False, 'significant': False, 'luminous': False, 'diva': False, 'preening': False, 'static': False, 'solid': False, 'performance': False, 'pathetic': False, 'drunk': False, 'emote': False, 'besides': False, 'catatonic': False, 'sorrow': False, 'genuine': False, 'ferocity': False, 'sexually': False, 'charged': False, 'frisson': False, 'during': False, 'understated': False, 'confrontations': False, 'suggest': False, 'gray': False, 'zone': False, 'complications': False, 'accompany': False, 'torn': False, 'romance': False, 'stifled': False, 'curiosity': False, 'thoroughly': False, 'explores': False, 'neurotic': False, 'territory': False, 'delving': False, 'americanization': False, 'greece': False, 'mysticism': False, 'illusion': False, 'deflect': False, 'pain': False, 'overloaded': False, 'willing': False, 'come': False, 'traditional': False, 'ambitious': False, 'sleepwalk': False, 'rhythms': False, 'timing': False, 'driven': False, 'stories': False, 'complexities': False, 'depressing': False, 'answer': False, 'lawrence': False, 'kasdan': False, 'trite': False, 'useful': False, 'grand': False, 'canyon': False, 'steve': False, 'martin': False, 'mogul': False, 'pronounces': False, 'riddles': False, 'answered': False, 'advice': False, 'heart': False, 'french': False, 'sees': False, 'parents': False, 'tim': False, 'roth': False, 'oops': False, 'vows': False, 'taught': False, 'musketeer': False, 'dude': False, 'used': False, 'fourteen': False, 'arrgh': False, 'swish': False, 'zzzzzzz': False, 'original': False, 'lacks': False, 'energy': False, 'next': False, 'hmmmm': False, 'justin': False, 'chambers': False, 'basically': False, 'uncharismatic': False, 'version': False, 'chris': False, 'o': False, 'donnell': False, 'range': False, 'mena': False, 'suvari': False, 'thora': False, 'birch': False, 'dungeons': False, 'dragons': False, 'miscast': False, 'deliveries': False, 'piss': False, 'poor': False, 'ms': False, 'fault': False, 'definitely': False, 'higher': False, 'semi': False, 'saving': False, 'grace': False, 'wise': False, 'irrepressible': False, 'once': False, 'thousand': False, 'god': False, 'beg': False, 'agent': False, 'marketplace': False, 'modern': False, 'day': False, 'roles': False, 'romantic': False, 'gunk': False, 'alright': False, 'yeah': False, 'yikes': False, 'notches': False, 'fellas': False, 'blares': False, 'ear': False, 'accentuate': False, 'annoy': False, 'important': False, 'behind': False, 'recognize': False, 'epic': False, 'fluffy': False, 'rehashed': False, 'cake': False, 'created': False, 'shrewd': False, 'advantage': False, 'kung': False, 'fu': False, 'phenomenon': False, 'test': False, 'dudes': False, 'keep': False, 'reading': False, 'editing': False, 'shoddy': False, 'banal': False, 'stilted': False, 'plentiful': False, 'top': False, 'horse': False, 'carriage': False, 'stand': False, 'opponent': False, 'scampering': False, 'cut': False, 'mouseketeer': False, 'rope': False, 'tower': False, 'jumping': False, 'chords': False, 'hanging': False, 'says': False, '14': False, 'shirt': False, 'strayed': False, 'championing': False, 'fun': False, 'stretches': False, 'atrocious': False, 'lake': False, 'reminded': False, 'school': False, 'cringe': False, 'musketeers': False, 'fat': False, 'raison': False, 'etre': False, 'numbers': False, 'hoping': False, 'packed': False, 'stuntwork': False, 'promoted': False, 'trailer': False, 'major': False, 'swashbuckling': False, 'beginning': False, 'finishes': False, 'juggling': False, 'ladders': False, 'ladder': False, 'definite': False, 'keeper': False, 'regurgitated': False, 'crap': False, 'tell': False, 'deneuve': False, 'placed': False, 'hullo': False, 'barely': False, 'ugh': False, 'small': False, 'annoyed': False, 'trash': False, 'gang': False, 'vow': False, 'stay': False, 'thank': False, 'outlaws': False, '5': False, 'crouching': False, 'tiger': False, 'hidden': False, 'matrix': False, 'replacement': False, 'killers': False, '6': False, 'romeo': False, 'die': False, 'shanghai': False, 'noon': False, 'remembered': False, 'dr': False, 'hannibal': False, 'lecter': False, 'michael': False, 'mann': False, 'forensics': False, 'thriller': False, 'manhunter': False, 'scottish': False, 'brian': False, 'cox': False, 'works': False, 'usually': False, 'schlock': False, 'halfway': False, 'goodnight': False, 'meaty': False, 'substantial': False, 'brilliant': False, 'check': False, 'dogged': False, 'inspector': False, 'opposite': False, 'frances': False, 'mcdormand': False, 'ken': False, 'loach': False, 'agenda': False, 'harrigan': False, 'disturbing': False, 'l': False, 'e': False, '47': False, 'picked': False, 'sundance': False, 'distributors': False, 'scared': False, 'budge': False, 'dares': False, 'speak': False, 'expresses': False, 'seeking': False, 'adolescents': False, 'pad': False, 'bothered': False, 'members': False, 'presentation': False, 'oddly': False, 'empathetic': False, 'light': False, 'tempered': False, 'robust': False, 'listens': False, 'opposed': False, 'friends': False, 'wire': False, 'act': False, 'confused': False, 'lives': False, 'pay': False, 'courtship': False, 'charming': False, 'temptations': False, 'grown': False, 'stands': False, 'island': False, 'expressway': False, 'slices': False, 'malls': False, 'class': False, 'homes': False, 'suburbia': False, 'filmmaker': False, 'cuesta': False, 'uses': False, 'transparent': False, 'metaphor': False, '15': False, 'protagonist': False, 'howie': False, 'franklin': False, 'dano': False, 'reveals': False, 'morbid': False, 'preoccupation': False, 'death': False, 'citing': False, 'deaths': False, 'alan': False, 'j': False, 'pakula': False, 'songwriter': False, 'harry': False, 'chapin': False, 'exit': False, '52': False, 'fascinated': False, 'feelings': False, 'projected': False, 'bright': False, 'move': False, 'force': False, 'complex': False, 'molesters': False, 'beast': False, 'ashamed': False, 'worked': False, 'ill': False, 'advised': False, 'foray': False, 'unnecessary': False, 'padding': False, 'miserable': False, 'bruce': False, 'altman': False, 'seat': False, 'collar': False, 'crime': False, 'degenerate': False, 'youngsters': False, 'kicks': False, 'robbing': False, 'houses': False, 'homoerotic': False, 'shenanigans': False, 'ass': False, 'terrio': False, 'billy': False, 'kay': False, 'handsome': False, 'artful': False, 'dodger': False, 'add': False, 'themes': False, 'suburban': False, 'ennui': False, 'needed': False, 'awkward': False, 'subplots': False, 'concurrently': False, 'relationship': False, 'evenly': False, 'paced': False, 'exceptionally': False, 'acted': False, 'sporting': False, 'baseball': False, 'cap': False, 'faded': False, 'marine': False, 'tattoo': False, 'bluff': False, 'bluster': False, 'quiet': False, 'glance': False, 'withdrawn': False, 'whose': False, 'dramatic': False, 'choices': False, 'broad': False, 'calling': False, 'haley': False, 'restraint': False, 'admirable': False, 'screenplay': False, 'material': False, 'reads': False, 'walt': False, 'whitman': False, 'poem': False, 'moment': False, 'precious': False, 'lingers': False, 'ecstatic': False, 'hearing': False, 'glenn': False, 'gould': False, 'performing': False, 'bach': False, 'goldberg': False, 'variations': False, 'involving': False, 'walter': False, 'masterson': False, 'jealous': False, 'newbie': False, 'thread': False, 'predictably': False, 'leads': False, 'observational': False, 'portrait': False, 'alienation': False, 'royally': False, 'screwed': False, 'terry': False, 'zwigoff': False, 'superb': False, 'confidence': False, 'ambivalent': False, 'typical': False, 'cinema': False, 'wrap': False, 'bullet': False, 'sparing': False, 'writers': False, 'philosophical': False, 'regard': False, 'countless': False, 'share': False, 'blockbuster': False, 'solved': False, 'obstacle': False, 'removed': False, 'often': False, 'extend': False, 'question': False, 'striving': False, 'realism': False, 'destroy': False, 'janeane': False, 'garofalo': False, 'couple': False, 'truth': False, 'cats': False, 'dogs': False, 'excruciating': False, 'matchmaker': False, 'books': False, 'plods': False, 'predestined': False, 'surprises': False, 'jumps': False, 'popular': False, 'political': False, 'satire': False, 'bandwagon': False, 'campaign': False, 'aide': False, 'massacusetts': False, 'senator': False, 'sanders': False, 'reelection': False, 'denis': False, 'leary': False, 'stereotypical': False, 'strategist': False, 'ethics': False, 'scandal': False, 'plagued': False, 'play': False, 'irish': False, 'roots': False, 'boston': False, 'roman': False, 'catholic': False, 'democrat': False, 'contingent': False, 'kennedy': False, 'family': False, 'orders': False, 'ireland': False, 'relatives': False, 'exploit': False, 'soon': False, 'learns': False, 'said': False, 'done': False, 'mantra': False, 'tiny': False, 'misses': False, 'bus': False, 'hotel': False, 'ends': False, 'smallest': False, 'trashiest': False, 'dog': False, 'luggage': False, 'roger': False, 'ebert': False, 'calls': False, 'meet': False, 'happens': False, 'unconventional': False, 'cinematic': False, 'walks': False, 'bathroom': False, 'nude': False, 'sean': False, 'david': False, 'hara': False, 'bathtub': False, 'points': False, 'guessing': False, 'water': False, 'hates': False, 'instant': False, 'saw': False, 'irishman': False, 'hate': False, 'awhile': False, 'succumb': False, 'charms': False, 'happily': False, 'superficial': False, 'detail': False, 'throw': False, 'turmoil': False, 'reconcile': False, 'tune': False, 'annual': False, 'matchmaking': False, 'festival': False, 'lonely': False, 'county': False, 'future': False, 'bliss': False, 'milo': False, 'shea': False, 'snyder': False, 'pops': False, 'onscreen': False, 'spew': False, 'souls': False, 'assured': False, 'match': False, 'utter': False, 'predictability': False, 'message': False, 'respectable': False, 'person': False, 'comedic': False, 'distinction': False, 'sell': False, 'script': False, 'excited': False, 'stays': False, 'stateside': False, 'yelling': False, 'phone': False, 'undoes': False, 'microphone': False, 'speech': False, 'known': False, 'flying': False, 'hong': False, 'kong': False, 'style': False, 'filmmaking': False, 'classics': False, 'nod': False, 'asia': False, 'france': False, 'lukewarm': False, 'dumas': False, 'asian': False, 'stunt': False, 'coordinator': False, 'xing': False, 'xiong': False, 'prior': False, 'attempts': False, 'choreography': False, 'laughable': False, 'van': False, 'damme': False, 'vehicle': False, 'team': False, 'dennis': False, 'rodman': False, 'simon': False, 'sez': False, 'thrown': False, 'air': False, 'result': False, 'tepid': False, 'adventure': False, 'rip': False, 'stinks': False, 'indiana': False, 'jones': False, 'simple': False, 'grandmother': False, 'adapted': False, 'artagnan': False, 'vengeful': False, 'son': False, 'slain': False, 'travels': False, 'paris': False, 'join': False, 'royal': False, 'meets': False, 'cunning': False, 'cardinal': False, 'richelieu': False, 'stephen': False, 'rea': False, 'overthrow': False, 'associate': False, 'febre': False, 'killer': False, 'disbanded': False, 'rounds': False, 'aramis': False, 'nick': False, 'moran': False, 'athos': False, 'jan': False, 'gregor': False, 'kremp': False, 'porthos': False, 'steven': False, 'spiers': False, 'wrongfully': False, 'imprisoned': False, 'leader': False, 'treville': False, 'prison': False, 'frisky': False, 'interest': False, 'chambermaid': False, 'francesca': False, 'footsy': False, 'coo': False, 'hunts': False, 'queen': False, 'captured': False, 'menancing': False, 'forcing': False, 'regroup': False, 'leading': False, 'charge': False, 'peter': False, 'hyams': False, 'wanted': False, 'blend': False, 'eastern': False, 'western': False, 'styles': False, 'disaster': False, 'reality': False, 'ones': False, 'jet': False, 'li': False, 'risk': False, 'ironically': False, 'swordplay': False, 'spread': False, 'carry': False, 'bulk': False, '30': False, 'minute': False, 'picture': False, 'weighs': False, 'monotonous': False, 'gene': False, 'quintano': False, 'prosaic': False, 'wedding': False, 'planner': False, 'mousy': False, 'artangnan': False, 'hyam': False, 'candles': False, 'torches': False, 'grime': False, 'filth': False, '17th': False, 'noted': False, 'standout': False, 'mortal': False, 'kombat': False, 'annihilation': False, 'reviewed': False, 'multiple': False, 'levels': False, 'rampant': False, 'usage': False, 'randian': False, 'subtext': False, 'pervades': False, 'occasionaly': False, 'ironic': False, 'depreciating': False, 'remark': False, 'tosses': False, 'clearly': False, 'marxist': False, 'imagery': False, 'kidding': False, 'seriousness': False, 'fair': False, '*': False, 'necessary': False, 'viewpoints': False, 'watcher': False, 'unfamiliar': False, 'marginally': False, 'fan': False, 'games': False, '1995': False, 'concerned': False, 'martial': False, 'arts': False, 'tournament': False, 'decide': False, 'fate': False, 'billion': False, 'inhabitants': False, 'mortals': False, 'theory': False}\n"
     ]
    }
   ],
   "source": [
    "print((find_features(movie_reviews.words('neg/cv000_29416.txt'))))"
   ]
  },
  {
   "cell_type": "code",
   "execution_count": 10,
   "metadata": {},
   "outputs": [],
   "source": [
    "featuresets = [(find_features(rev), category) for (rev, category) in documents]"
   ]
  },
  {
   "cell_type": "markdown",
   "metadata": {},
   "source": [
    "### NAIVE BAYES CLASSIFIER "
   ]
  },
  {
   "cell_type": "markdown",
   "metadata": {},
   "source": [
    "The algorithm that we're going to use first is the Naive Bayes classifier. Before we can train and test our algorithm, we need to go ahead and split up the data into a training set and a testing set. This is called supervised machine learning, because we're showing the machine data, and telling it \"this data is positive,\" or \"this data is negative.\" Then, after that training is done, we show the machine some new data and ask the computer, based on what we taught the computer before, what the computer thinks the category of the new data is."
   ]
  },
  {
   "cell_type": "code",
   "execution_count": 11,
   "metadata": {},
   "outputs": [],
   "source": [
    "training_set =featuresets[:1900]\n",
    "testing_set = featuresets[1900:]"
   ]
  },
  {
   "cell_type": "code",
   "execution_count": 12,
   "metadata": {},
   "outputs": [],
   "source": [
    "classifier = nltk.NaiveBayesClassifier.train(training_set)"
   ]
  },
  {
   "cell_type": "code",
   "execution_count": 13,
   "metadata": {},
   "outputs": [
    {
     "name": "stdout",
     "output_type": "stream",
     "text": [
      "Naive Bayes Algo accuracy: 78.0\n"
     ]
    }
   ],
   "source": [
    "print(\"Naive Bayes Algo accuracy:\", (nltk.classify.accuracy(classifier, testing_set))*100)"
   ]
  },
  {
   "cell_type": "code",
   "execution_count": 14,
   "metadata": {},
   "outputs": [
    {
     "name": "stdout",
     "output_type": "stream",
     "text": [
      "Most Informative Features\n",
      "                  annual = True              pos : neg    =      9.0 : 1.0\n",
      "           unimaginative = True              neg : pos    =      7.7 : 1.0\n",
      "                 frances = True              pos : neg    =      7.6 : 1.0\n",
      "              schumacher = True              neg : pos    =      7.0 : 1.0\n",
      "                  shoddy = True              neg : pos    =      7.0 : 1.0\n",
      "                    mena = True              neg : pos    =      7.0 : 1.0\n",
      "               atrocious = True              neg : pos    =      7.0 : 1.0\n",
      "                  suvari = True              neg : pos    =      7.0 : 1.0\n",
      "                  regard = True              pos : neg    =      7.0 : 1.0\n",
      "                  turkey = True              neg : pos    =      6.4 : 1.0\n",
      "                 kidding = True              neg : pos    =      6.4 : 1.0\n",
      "                 singers = True              pos : neg    =      6.3 : 1.0\n",
      "                  stinks = True              neg : pos    =      5.8 : 1.0\n",
      "                  justin = True              neg : pos    =      5.8 : 1.0\n",
      "                bothered = True              neg : pos    =      5.8 : 1.0\n"
     ]
    }
   ],
   "source": [
    "classifier.show_most_informative_features(15)"
   ]
  },
  {
   "cell_type": "markdown",
   "metadata": {},
   "source": [
    "*This tells is the ratio of occurences in negative to positive, or visa versa, for every word. So here, we can see that the term \"insulting\" appears 10.6 more times as often in negative reviews as it does in positive reviews. Ludicrous, 10.1*"
   ]
  },
  {
   "cell_type": "markdown",
   "metadata": {},
   "source": [
    "### Saving Classifiers with NLTK"
   ]
  },
  {
   "cell_type": "markdown",
   "metadata": {},
   "source": [
    "We dont want to use the classifier everytime we want to use it. what we can do is use the Pickle module to go ahead and serialize our classifier object, so that all we need to do is load that file."
   ]
  },
  {
   "cell_type": "markdown",
   "metadata": {},
   "source": [
    "The first step is to save the object. To do this, first we need to import pickle at the top of our script, then, after we have trained with .train() the classifier we can then call the following lines:"
   ]
  },
  {
   "cell_type": "code",
   "execution_count": 15,
   "metadata": {},
   "outputs": [],
   "source": [
    "import pickle"
   ]
  },
  {
   "cell_type": "code",
   "execution_count": 16,
   "metadata": {},
   "outputs": [],
   "source": [
    "save_classifier = open(\"naivebayes.pickle\",\"wb\") #wb- write in bytes\n",
    "pickle.dump(classifier, save_classifier)\n",
    "save_classifier.close()"
   ]
  },
  {
   "cell_type": "markdown",
   "metadata": {},
   "source": [
    "This opens up a pickle file, preparing to write in bytes some data. Then, we use pickle.dump() to dump the data. The first parameter to pickle.dump() is what we are dumping, the second parameter is where are we dumping it."
   ]
  },
  {
   "cell_type": "code",
   "execution_count": 17,
   "metadata": {},
   "outputs": [],
   "source": [
    "classifier_f = open(\"naivebayes.pickle\", \"rb\")\n",
    "classifier = pickle.load(classifier_f)\n",
    "classifier_f.close()"
   ]
  },
  {
   "cell_type": "markdown",
   "metadata": {},
   "source": [
    "Here, we do a very similar process. We open the file to read as bytes. Then, we use pickle.load() to load the file, and we save the data to the classifier variable. Then we close the file, and that is that. We now have the same classifier object as before!"
   ]
  },
  {
   "cell_type": "markdown",
   "metadata": {},
   "source": [
    "### SCIKIT LEARN WITH NLTK"
   ]
  },
  {
   "cell_type": "markdown",
   "metadata": {},
   "source": [
    "Below I have mentioned few Classifiers from Scikit learn library"
   ]
  },
  {
   "cell_type": "code",
   "execution_count": 18,
   "metadata": {},
   "outputs": [],
   "source": [
    "from nltk.classify.scikitlearn import SklearnClassifier\n",
    "from sklearn.naive_bayes import MultinomialNB,BernoulliNB\n",
    "from sklearn.linear_model import LogisticRegression,SGDClassifier\n",
    "from sklearn.svm import SVC, LinearSVC, NuSVC"
   ]
  },
  {
   "cell_type": "code",
   "execution_count": 19,
   "metadata": {},
   "outputs": [
    {
     "name": "stdout",
     "output_type": "stream",
     "text": [
      "Original Naive Bayes Algo accuracy percent: 78.0\n",
      "Most Informative Features\n",
      "                  annual = True              pos : neg    =      9.0 : 1.0\n",
      "           unimaginative = True              neg : pos    =      7.7 : 1.0\n",
      "                 frances = True              pos : neg    =      7.6 : 1.0\n",
      "              schumacher = True              neg : pos    =      7.0 : 1.0\n",
      "                  shoddy = True              neg : pos    =      7.0 : 1.0\n",
      "                    mena = True              neg : pos    =      7.0 : 1.0\n",
      "               atrocious = True              neg : pos    =      7.0 : 1.0\n",
      "                  suvari = True              neg : pos    =      7.0 : 1.0\n",
      "                  regard = True              pos : neg    =      7.0 : 1.0\n",
      "                  turkey = True              neg : pos    =      6.4 : 1.0\n",
      "                 kidding = True              neg : pos    =      6.4 : 1.0\n",
      "                 singers = True              pos : neg    =      6.3 : 1.0\n",
      "                  stinks = True              neg : pos    =      5.8 : 1.0\n",
      "                  justin = True              neg : pos    =      5.8 : 1.0\n",
      "                bothered = True              neg : pos    =      5.8 : 1.0\n",
      "MNB_classifier accuracy percent: 80.0\n",
      "BernoulliNB_classifier accuracy percent: 78.0\n"
     ]
    },
    {
     "name": "stderr",
     "output_type": "stream",
     "text": [
      "C:\\Users\\ABC\\Anaconda3\\lib\\site-packages\\sklearn\\linear_model\\logistic.py:433: FutureWarning: Default solver will be changed to 'lbfgs' in 0.22. Specify a solver to silence this warning.\n",
      "  FutureWarning)\n"
     ]
    },
    {
     "name": "stdout",
     "output_type": "stream",
     "text": [
      "LogisticRegression_classifier accuracy percent: 81.0\n"
     ]
    },
    {
     "name": "stderr",
     "output_type": "stream",
     "text": [
      "C:\\Users\\ABC\\Anaconda3\\lib\\site-packages\\sklearn\\linear_model\\stochastic_gradient.py:166: FutureWarning: max_iter and tol parameters have been added in SGDClassifier in 0.19. If both are left unset, they default to max_iter=5 and tol=None. If tol is not None, max_iter defaults to max_iter=1000. From 0.21, default max_iter will be 1000, and default tol will be 1e-3.\n",
      "  FutureWarning)\n"
     ]
    },
    {
     "name": "stdout",
     "output_type": "stream",
     "text": [
      "SGDClassifier_classifier accuracy percent: 81.0\n"
     ]
    },
    {
     "name": "stderr",
     "output_type": "stream",
     "text": [
      "C:\\Users\\ABC\\Anaconda3\\lib\\site-packages\\sklearn\\svm\\base.py:196: FutureWarning: The default value of gamma will change from 'auto' to 'scale' in version 0.22 to account better for unscaled features. Set gamma explicitly to 'auto' or 'scale' to avoid this warning.\n",
      "  \"avoid this warning.\", FutureWarning)\n"
     ]
    },
    {
     "name": "stdout",
     "output_type": "stream",
     "text": [
      "SVC_classifier accuracy percent: 82.0\n"
     ]
    },
    {
     "name": "stderr",
     "output_type": "stream",
     "text": [
      "C:\\Users\\ABC\\Anaconda3\\lib\\site-packages\\sklearn\\svm\\base.py:931: ConvergenceWarning: Liblinear failed to converge, increase the number of iterations.\n",
      "  \"the number of iterations.\", ConvergenceWarning)\n"
     ]
    },
    {
     "name": "stdout",
     "output_type": "stream",
     "text": [
      "LinearSVC_classifier accuracy percent: 82.0\n",
      "NuSVC_classifier accuracy percent: 85.0\n"
     ]
    }
   ],
   "source": [
    "print(\"Original Naive Bayes Algo accuracy percent:\", (nltk.classify.accuracy(classifier, testing_set))*100)\n",
    "classifier.show_most_informative_features(15)\n",
    "\n",
    "MNB_classifier = SklearnClassifier(MultinomialNB())\n",
    "MNB_classifier.train(training_set)\n",
    "print(\"MNB_classifier accuracy percent:\", (nltk.classify.accuracy(MNB_classifier, testing_set))*100)\n",
    "\n",
    "BernoulliNB_classifier = SklearnClassifier(BernoulliNB())\n",
    "BernoulliNB_classifier.train(training_set)\n",
    "print(\"BernoulliNB_classifier accuracy percent:\", (nltk.classify.accuracy(BernoulliNB_classifier, testing_set))*100)\n",
    "\n",
    "LogisticRegression_classifier = SklearnClassifier(LogisticRegression())\n",
    "LogisticRegression_classifier.train(training_set)\n",
    "print(\"LogisticRegression_classifier accuracy percent:\", (nltk.classify.accuracy(LogisticRegression_classifier, testing_set))*100)\n",
    "\n",
    "SGDClassifier_classifier = SklearnClassifier(SGDClassifier())\n",
    "SGDClassifier_classifier.train(training_set)\n",
    "print(\"SGDClassifier_classifier accuracy percent:\", (nltk.classify.accuracy(SGDClassifier_classifier, testing_set))*100)\n",
    "\n",
    "SVC_classifier = SklearnClassifier(SVC())\n",
    "SVC_classifier.train(training_set)\n",
    "print(\"SVC_classifier accuracy percent:\", (nltk.classify.accuracy(SVC_classifier, testing_set))*100)\n",
    "\n",
    "LinearSVC_classifier = SklearnClassifier(LinearSVC())\n",
    "LinearSVC_classifier.train(training_set)\n",
    "print(\"LinearSVC_classifier accuracy percent:\", (nltk.classify.accuracy(LinearSVC_classifier, testing_set))*100)\n",
    "\n",
    "NuSVC_classifier = SklearnClassifier(NuSVC())\n",
    "NuSVC_classifier.train(training_set)\n",
    "print(\"NuSVC_classifier accuracy percent:\", (nltk.classify.accuracy(NuSVC_classifier, testing_set))*100)"
   ]
  }
 ],
 "metadata": {
  "kernelspec": {
   "display_name": "Python 3",
   "language": "python",
   "name": "python3"
  },
  "language_info": {
   "codemirror_mode": {
    "name": "ipython",
    "version": 3
   },
   "file_extension": ".py",
   "mimetype": "text/x-python",
   "name": "python",
   "nbconvert_exporter": "python",
   "pygments_lexer": "ipython3",
   "version": "3.7.3"
  }
 },
 "nbformat": 4,
 "nbformat_minor": 2
}
